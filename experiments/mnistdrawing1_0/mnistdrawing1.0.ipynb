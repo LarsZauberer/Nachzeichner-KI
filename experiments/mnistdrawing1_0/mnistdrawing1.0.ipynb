{
 "cells": [
  {
   "cell_type": "markdown",
   "metadata": {},
   "source": [
    "# Mnist Drawing AI\n",
    "## Version 1.0\n",
    "Das Ziel dieser AI ist es einmal ein funktionierendes Environnment zu kreieren,\n",
    "in der die KI lernen und arbeiten kann.\n",
    "\n",
    "Hierbei soll wenigstens geschaut werden, ob die AI es erlernt mal nur ein Bild\n",
    "zu zeichnen. In einer späteren Version sollen erst dann mehrere Bilder\n",
    "hineingegeben werden.\n",
    "\n",
    "Dabei soll als Input dienen:\n",
    "- Ziel Bild 28x28 -> np.shape = (784,)\n",
    "- States\n",
    "    - Canvas State 28x28 -> np.shape = (784,)\n",
    "    - Position von Agent in Space (Pen Position) -> np.shape(2,)\n",
    "\n",
    "Dabei soll der Output sein:\n",
    "- Integer\n",
    "    - Es wird immer 1, 2, 3, 4 Gezählt, welches die Himmelsrichtungen darstellt.\n",
    "    - Eine erhöhter Wert wird in den Stroke in die Länge gehen -> Bsp. 8 -> 2 Mal nach Links (Direction 4 und Length 2)"
   ]
  },
  {
   "cell_type": "markdown",
   "metadata": {},
   "source": [
    "## Importing"
   ]
  },
  {
   "cell_type": "code",
   "execution_count": 1,
   "metadata": {},
   "outputs": [],
   "source": [
    "import abc\n",
    "import tensorflow as tf\n",
    "import numpy as np\n",
    "import random\n",
    "\n",
    "from tf_agents.environments import py_environment\n",
    "from tf_agents.environments import tf_environment\n",
    "from tf_agents.environments import tf_py_environment\n",
    "from tf_agents.environments import utils\n",
    "from tf_agents.specs import array_spec\n",
    "from tf_agents.environments import wrappers\n",
    "from tf_agents.environments import suite_gym\n",
    "from tf_agents.trajectories import time_step as ts\n",
    "from tf_agents.agents.dqn import dqn_agent\n",
    "from tf_agents.drivers import py_driver\n",
    "from tf_agents.environments import suite_gym\n",
    "from tf_agents.environments import tf_py_environment\n",
    "from tf_agents.eval import metric_utils\n",
    "from tf_agents.metrics import tf_metrics\n",
    "from tf_agents.networks import sequential\n",
    "from tf_agents.policies import py_tf_eager_policy\n",
    "from tf_agents.policies import random_tf_policy\n",
    "from tf_agents.replay_buffers import reverb_replay_buffer\n",
    "from tf_agents.replay_buffers import reverb_utils\n",
    "from tf_agents.trajectories import trajectory\n",
    "from tf_agents.specs import tensor_spec\n",
    "from tf_agents.utils import common\n",
    "from tf_agents.environments import utils\n",
    "\n",
    "import reverb"
   ]
  },
  {
   "cell_type": "code",
   "execution_count": 2,
   "metadata": {},
   "outputs": [
    {
     "name": "stderr",
     "output_type": "stream",
     "text": [
      "2022-04-20 17:54:40.430426: I tensorflow/stream_executor/cuda/cuda_gpu_executor.cc:936] successful NUMA node read from SysFS had negative value (-1), but there must be at least one NUMA node, so returning NUMA node zero\n",
      "2022-04-20 17:54:40.451118: I tensorflow/stream_executor/cuda/cuda_gpu_executor.cc:936] successful NUMA node read from SysFS had negative value (-1), but there must be at least one NUMA node, so returning NUMA node zero\n",
      "2022-04-20 17:54:40.451244: I tensorflow/stream_executor/cuda/cuda_gpu_executor.cc:936] successful NUMA node read from SysFS had negative value (-1), but there must be at least one NUMA node, so returning NUMA node zero\n"
     ]
    },
    {
     "data": {
      "text/plain": [
       "[PhysicalDevice(name='/physical_device:CPU:0', device_type='CPU'),\n",
       " PhysicalDevice(name='/physical_device:GPU:0', device_type='GPU')]"
      ]
     },
     "execution_count": 2,
     "metadata": {},
     "output_type": "execute_result"
    }
   ],
   "source": [
    "tf.config.list_physical_devices()"
   ]
  },
  {
   "cell_type": "code",
   "execution_count": 3,
   "metadata": {},
   "outputs": [],
   "source": [
    "import matplotlib.pyplot as plt"
   ]
  },
  {
   "cell_type": "code",
   "execution_count": 4,
   "metadata": {},
   "outputs": [],
   "source": [
    "from environnment import Canvas"
   ]
  },
  {
   "cell_type": "markdown",
   "metadata": {},
   "source": [
    "## Env, Model and Agent Creation"
   ]
  },
  {
   "cell_type": "markdown",
   "metadata": {},
   "source": [
    "### Load Dataset"
   ]
  },
  {
   "cell_type": "code",
   "execution_count": 5,
   "metadata": {},
   "outputs": [],
   "source": [
    "from keras.datasets import mnist"
   ]
  },
  {
   "cell_type": "code",
   "execution_count": 6,
   "metadata": {},
   "outputs": [],
   "source": [
    "(train_X, train_y), (test_X, test_y) = mnist.load_data()"
   ]
  },
  {
   "cell_type": "code",
   "execution_count": 7,
   "metadata": {},
   "outputs": [],
   "source": [
    "env_py = Canvas(train_X[0])\n",
    "env = tf_py_environment.TFPyEnvironment(env_py)"
   ]
  },
  {
   "cell_type": "markdown",
   "metadata": {},
   "source": [
    "### Model"
   ]
  },
  {
   "cell_type": "code",
   "execution_count": 8,
   "metadata": {},
   "outputs": [
    {
     "name": "stdout",
     "output_type": "stream",
     "text": [
      "Num Actions:  4\n"
     ]
    }
   ],
   "source": [
    "fc_layer_params = (100, 50) # Die Anzahl der Dense Units in einem Layer\n",
    "action_tensor_spec = tensor_spec.from_spec(env.action_spec())\n",
    "num_actions = action_tensor_spec.maximum - action_tensor_spec.minimum + 1\n",
    "print(\"Num Actions: \", num_actions)\n",
    "\n",
    "# Helper function um die Dense Layer zu kreeieren.\n",
    "def dense_layer(num_units):\n",
    "  return tf.keras.layers.Dense(\n",
    "      num_units,\n",
    "      activation=tf.keras.activations.relu,\n",
    "      kernel_initializer=tf.keras.initializers.VarianceScaling(\n",
    "          scale=2.0, mode='fan_in', distribution='truncated_normal'))\n",
    "\n",
    "# Create the dense layer array\n",
    "dense_layers = [dense_layer(num_units) for num_units in fc_layer_params]\n",
    "\n",
    "# Create the output layer\n",
    "q_values_layer = tf.keras.layers.Dense(\n",
    "    num_actions,\n",
    "    activation=None,\n",
    "    kernel_initializer=tf.keras.initializers.RandomUniform(\n",
    "        minval=-0.03, maxval=0.03),\n",
    "    bias_initializer=tf.keras.initializers.Constant(-0.2))\n",
    "\n",
    "# Sequentialize the layers into a tensorflow model\n",
    "q_net = sequential.Sequential(dense_layers + [q_values_layer])"
   ]
  },
  {
   "cell_type": "markdown",
   "metadata": {},
   "source": [
    "### Agent"
   ]
  },
  {
   "cell_type": "code",
   "execution_count": 9,
   "metadata": {},
   "outputs": [
    {
     "name": "stderr",
     "output_type": "stream",
     "text": [
      "2022-04-20 17:54:41.098487: I tensorflow/core/platform/cpu_feature_guard.cc:151] This TensorFlow binary is optimized with oneAPI Deep Neural Network Library (oneDNN) to use the following CPU instructions in performance-critical operations:  AVX2 FMA\n",
      "To enable them in other operations, rebuild TensorFlow with the appropriate compiler flags.\n",
      "2022-04-20 17:54:41.099508: I tensorflow/stream_executor/cuda/cuda_gpu_executor.cc:936] successful NUMA node read from SysFS had negative value (-1), but there must be at least one NUMA node, so returning NUMA node zero\n",
      "2022-04-20 17:54:41.099711: I tensorflow/stream_executor/cuda/cuda_gpu_executor.cc:936] successful NUMA node read from SysFS had negative value (-1), but there must be at least one NUMA node, so returning NUMA node zero\n",
      "2022-04-20 17:54:41.099826: I tensorflow/stream_executor/cuda/cuda_gpu_executor.cc:936] successful NUMA node read from SysFS had negative value (-1), but there must be at least one NUMA node, so returning NUMA node zero\n",
      "2022-04-20 17:54:41.404819: I tensorflow/stream_executor/cuda/cuda_gpu_executor.cc:936] successful NUMA node read from SysFS had negative value (-1), but there must be at least one NUMA node, so returning NUMA node zero\n",
      "2022-04-20 17:54:41.404998: I tensorflow/stream_executor/cuda/cuda_gpu_executor.cc:936] successful NUMA node read from SysFS had negative value (-1), but there must be at least one NUMA node, so returning NUMA node zero\n",
      "2022-04-20 17:54:41.405116: I tensorflow/stream_executor/cuda/cuda_gpu_executor.cc:936] successful NUMA node read from SysFS had negative value (-1), but there must be at least one NUMA node, so returning NUMA node zero\n",
      "2022-04-20 17:54:41.405222: I tensorflow/core/common_runtime/gpu/gpu_device.cc:1525] Created device /job:localhost/replica:0/task:0/device:GPU:0 with 5407 MB memory:  -> device: 0, name: NVIDIA GeForce RTX 3070 Ti, pci bus id: 0000:0b:00.0, compute capability: 8.6\n",
      "2022-04-20 17:54:41.903734: I tensorflow/stream_executor/cuda/cuda_blas.cc:1786] TensorFloat-32 will be used for the matrix multiplication. This will only be logged once.\n"
     ]
    }
   ],
   "source": [
    "optimizer = tf.keras.optimizers.Adam(learning_rate=1e-3)\n",
    "\n",
    "train_step_counter = tf.Variable(0)\n",
    "\n",
    "agent = dqn_agent.DqnAgent(\n",
    "    env.time_step_spec(),\n",
    "    env.action_spec(),\n",
    "    q_network=q_net,\n",
    "    optimizer=optimizer,\n",
    "    td_errors_loss_fn=common.element_wise_squared_loss,\n",
    "    train_step_counter=train_step_counter)\n",
    "\n",
    "agent.initialize()"
   ]
  },
  {
   "cell_type": "markdown",
   "metadata": {},
   "source": [
    "## Random Metrics"
   ]
  },
  {
   "cell_type": "code",
   "execution_count": 10,
   "metadata": {},
   "outputs": [],
   "source": [
    "def compute_avg_return(environment, policy, num_episodes=10):\n",
    "    total_return = 0.0\n",
    "    for _ in range(num_episodes):\n",
    "\n",
    "        time_step = environment.reset()\n",
    "        episode_return = 0.0\n",
    "\n",
    "        while not time_step.is_last():\n",
    "            action_step = policy.action(time_step)\n",
    "            time_step = environment.step(action_step.action)\n",
    "            episode_return += time_step.reward\n",
    "        total_return += episode_return\n",
    "\n",
    "    avg_return = total_return / num_episodes\n",
    "    env_py.render(\"compare\")\n",
    "    return avg_return.numpy()[0]"
   ]
  },
  {
   "cell_type": "code",
   "execution_count": 11,
   "metadata": {},
   "outputs": [
    {
     "name": "stderr",
     "output_type": "stream",
     "text": [
      "/home/lars/GitHub/Nachzeichner-KI/experiments/mnistdrawing1_0/environnment.py:135: UserWarning: Matplotlib is currently using module://matplotlib_inline.backend_inline, which is a non-GUI backend, so cannot show the figure.\n",
      "  fig.show()\n"
     ]
    },
    {
     "data": {
      "text/plain": [
       "7.4400015"
      ]
     },
     "execution_count": 11,
     "metadata": {},
     "output_type": "execute_result"
    },
    {
     "data": {
      "image/png": "[encoded data removed]",
      "text/plain": [
       "<Figure size 720x504 with 2 Axes>"
      ]
     },
     "metadata": {
      "needs_background": "light"
     },
     "output_type": "display_data"
    }
   ],
   "source": [
    "compute_avg_return(env,\n",
    "                   random_tf_policy.RandomTFPolicy(env.time_step_spec(),\n",
    "                                                   env.action_spec()),\n",
    "                   10)"
   ]
  },
  {
   "cell_type": "markdown",
   "metadata": {},
   "source": [
    "## Replay Buffer"
   ]
  },
  {
   "cell_type": "code",
   "execution_count": 12,
   "metadata": {},
   "outputs": [
    {
     "name": "stderr",
     "output_type": "stream",
     "text": [
      "[reverb/cc/platform/tfrecord_checkpointer.cc:150]  Initializing TFRecordCheckpointer in /tmp/tmpri62wvb2.\n",
      "[reverb/cc/platform/tfrecord_checkpointer.cc:386] Loading latest checkpoint from /tmp/tmpri62wvb2\n",
      "[reverb/cc/platform/default/server.cc:71] Started replay server on port 15207\n"
     ]
    }
   ],
   "source": [
    "table_name = 'uniform_table'\n",
    "replay_buffer_signature = tensor_spec.from_spec(\n",
    "      agent.collect_data_spec)\n",
    "replay_buffer_signature = tensor_spec.add_outer_dim(\n",
    "    replay_buffer_signature)\n",
    "\n",
    "table = reverb.Table(\n",
    "    table_name,\n",
    "    max_size=100000,\n",
    "    sampler=reverb.selectors.Uniform(),\n",
    "    remover=reverb.selectors.Fifo(),\n",
    "    rate_limiter=reverb.rate_limiters.MinSize(1),\n",
    "    signature=replay_buffer_signature)\n",
    "\n",
    "reverb_server = reverb.Server([table])\n",
    "\n",
    "replay_buffer = reverb_replay_buffer.ReverbReplayBuffer(\n",
    "    agent.collect_data_spec,\n",
    "    table_name=table_name,\n",
    "    sequence_length=2,\n",
    "    local_server=reverb_server)\n",
    "\n",
    "rb_observer = reverb_utils.ReverbAddTrajectoryObserver(\n",
    "    replay_buffer.py_client,\n",
    "    table_name,\n",
    "    sequence_length=2)"
   ]
  },
  {
   "cell_type": "markdown",
   "metadata": {},
   "source": [
    "### Testing the replay buffer"
   ]
  },
  {
   "cell_type": "code",
   "execution_count": 13,
   "metadata": {},
   "outputs": [
    {
     "data": {
      "text/plain": [
       "(TimeStep(\n",
       " {'discount': array(0.5, dtype=float32),\n",
       "  'observation': array([0, 0, 0, ..., 0, 0, 3], dtype=int32),\n",
       "  'reward': array(0., dtype=float32),\n",
       "  'step_type': array(1, dtype=int32)}),\n",
       " ())"
      ]
     },
     "execution_count": 13,
     "metadata": {},
     "output_type": "execute_result"
    }
   ],
   "source": [
    "py_driver.PyDriver(\n",
    "    env_py,\n",
    "    py_tf_eager_policy.PyTFEagerPolicy(\n",
    "        random_tf_policy.RandomTFPolicy(env.time_step_spec(),\n",
    "                                        env.action_spec()),\n",
    "        use_tf_function=True),\n",
    "        [rb_observer],\n",
    "        max_steps=100\n",
    "    ).run(env_py.reset())"
   ]
  },
  {
   "cell_type": "code",
   "execution_count": 14,
   "metadata": {},
   "outputs": [
    {
     "name": "stderr",
     "output_type": "stream",
     "text": [
      "[reverb/cc/client.cc:165] Sampler and server are owned by the same process (95316) so Table uniform_table is accessed directly without gRPC.\n"
     ]
    },
    {
     "data": {
      "text/plain": [
       "(Trajectory(\n",
       " {'action': <tf.Tensor: shape=(2,), dtype=int32, numpy=array([3, 1], dtype=int32)>,\n",
       "  'discount': <tf.Tensor: shape=(2,), dtype=float32, numpy=array([0.5, 0.5], dtype=float32)>,\n",
       "  'next_step_type': <tf.Tensor: shape=(2,), dtype=int32, numpy=array([1, 1], dtype=int32)>,\n",
       "  'observation': <tf.Tensor: shape=(2, 1570), dtype=int32, numpy=\n",
       " array([[0, 0, 0, ..., 0, 0, 3],\n",
       "        [0, 0, 0, ..., 0, 0, 2]], dtype=int32)>,\n",
       "  'policy_info': (),\n",
       "  'reward': <tf.Tensor: shape=(2,), dtype=float32, numpy=array([0., 0.], dtype=float32)>,\n",
       "  'step_type': <tf.Tensor: shape=(2,), dtype=int32, numpy=array([1, 1], dtype=int32)>}),\n",
       " SampleInfo(key=<tf.Tensor: shape=(2,), dtype=uint64, numpy=array([2153151324110437098, 2153151324110437098], dtype=uint64)>, probability=<tf.Tensor: shape=(2,), dtype=float64, numpy=array([0.01030928, 0.01030928])>, table_size=<tf.Tensor: shape=(2,), dtype=int64, numpy=array([97, 97])>, priority=<tf.Tensor: shape=(2,), dtype=float64, numpy=array([1., 1.])>))"
      ]
     },
     "execution_count": 14,
     "metadata": {},
     "output_type": "execute_result"
    }
   ],
   "source": [
    "iter(replay_buffer.as_dataset()).next()"
   ]
  },
  {
   "cell_type": "code",
   "execution_count": 15,
   "metadata": {},
   "outputs": [],
   "source": [
    "dataset = replay_buffer.as_dataset(\n",
    "    num_parallel_calls=3,\n",
    "    sample_batch_size=64,\n",
    "    num_steps=2).prefetch(3)\n",
    "iterator = iter(dataset)"
   ]
  },
  {
   "cell_type": "code",
   "execution_count": 16,
   "metadata": {},
   "outputs": [
    {
     "name": "stdout",
     "output_type": "stream",
     "text": [
      "<tensorflow.python.data.ops.iterator_ops.OwnedIterator object at 0x7fd26ff576d0>\n"
     ]
    }
   ],
   "source": [
    "iterator = iter(dataset)\n",
    "print(iterator)"
   ]
  },
  {
   "cell_type": "code",
   "execution_count": 17,
   "metadata": {},
   "outputs": [
    {
     "name": "stderr",
     "output_type": "stream",
     "text": [
      "[reverb/cc/client.cc:165] Sampler and server are owned by the same process (95316) so Table uniform_table is accessed directly without gRPC.\n",
      "[reverb/cc/client.cc:165] Sampler and server are owned by the same process (95316) so Table uniform_table is accessed directly without gRPC.\n",
      "[reverb/cc/client.cc:165] Sampler and server are owned by the same process (95316) so Table uniform_table is accessed directly without gRPC.\n",
      "[reverb/cc/client.cc:165] Sampler and server are owned by the same process (95316) so Table uniform_table is accessed directly without gRPC.\n",
      "[reverb/cc/client.cc:165] Sampler and server are owned by the same process (95316) so Table uniform_table is accessed directly without gRPC.\n"
     ]
    },
    {
     "data": {
      "text/plain": [
       "(Trajectory(\n",
       " {'action': <tf.Tensor: shape=(64, 2), dtype=int32, numpy=\n",
       " array([[2, 3],\n",
       "        [0, 2],\n",
       "        [1, 3],\n",
       "        [2, 2],\n",
       "        [1, 2],\n",
       "        [3, 1],\n",
       "        [0, 2],\n",
       "        [2, 3],\n",
       "        [1, 3],\n",
       "        [3, 3],\n",
       "        [3, 3],\n",
       "        [1, 0],\n",
       "        [3, 2],\n",
       "        [3, 1],\n",
       "        [3, 1],\n",
       "        [2, 2],\n",
       "        [3, 2],\n",
       "        [2, 2],\n",
       "        [3, 0],\n",
       "        [1, 1],\n",
       "        [3, 1],\n",
       "        [3, 2],\n",
       "        [0, 2],\n",
       "        [3, 0],\n",
       "        [2, 3],\n",
       "        [1, 3],\n",
       "        [2, 2],\n",
       "        [1, 2],\n",
       "        [2, 0],\n",
       "        [2, 2],\n",
       "        [2, 0],\n",
       "        [0, 2],\n",
       "        [1, 3],\n",
       "        [2, 1],\n",
       "        [3, 0],\n",
       "        [1, 1],\n",
       "        [2, 2],\n",
       "        [3, 1],\n",
       "        [2, 2],\n",
       "        [3, 1],\n",
       "        [1, 3],\n",
       "        [3, 2],\n",
       "        [3, 1],\n",
       "        [2, 3],\n",
       "        [1, 2],\n",
       "        [3, 2],\n",
       "        [0, 2],\n",
       "        [2, 1],\n",
       "        [2, 2],\n",
       "        [2, 3],\n",
       "        [2, 2],\n",
       "        [2, 0],\n",
       "        [3, 0],\n",
       "        [2, 3],\n",
       "        [3, 1],\n",
       "        [0, 2],\n",
       "        [1, 3],\n",
       "        [3, 3],\n",
       "        [0, 2],\n",
       "        [2, 2],\n",
       "        [3, 3],\n",
       "        [3, 3],\n",
       "        [3, 1],\n",
       "        [1, 3]], dtype=int32)>,\n",
       "  'discount': <tf.Tensor: shape=(64, 2), dtype=float32, numpy=\n",
       " array([[0.5, 0.5],\n",
       "        [0.5, 0.5],\n",
       "        [0.5, 0.5],\n",
       "        [0.5, 0.5],\n",
       "        [0.5, 0.5],\n",
       "        [0.5, 0.5],\n",
       "        [0.5, 0.5],\n",
       "        [0.5, 0.5],\n",
       "        [0.5, 0.5],\n",
       "        [0.5, 0.5],\n",
       "        [0.5, 0.5],\n",
       "        [0.5, 0.5],\n",
       "        [0.5, 0.5],\n",
       "        [0.5, 0.5],\n",
       "        [0.5, 0.5],\n",
       "        [0.5, 0.5],\n",
       "        [0.5, 0.5],\n",
       "        [0.5, 0.5],\n",
       "        [0.5, 0.5],\n",
       "        [0.5, 0.5],\n",
       "        [0.5, 0.5],\n",
       "        [0.5, 0.5],\n",
       "        [0.5, 0.5],\n",
       "        [0.5, 0.5],\n",
       "        [0.5, 0.5],\n",
       "        [0.5, 0.5],\n",
       "        [0.5, 0.5],\n",
       "        [0.5, 0.5],\n",
       "        [0.5, 0.5],\n",
       "        [0.5, 0.5],\n",
       "        [0.5, 0.5],\n",
       "        [0.5, 0.5],\n",
       "        [0.5, 0.5],\n",
       "        [0.5, 0.5],\n",
       "        [0.5, 0.5],\n",
       "        [0.5, 0.5],\n",
       "        [0.5, 0.5],\n",
       "        [0.5, 0.5],\n",
       "        [0.5, 0.5],\n",
       "        [0.5, 0.5],\n",
       "        [0.5, 0.5],\n",
       "        [0.5, 0.5],\n",
       "        [0.5, 0.5],\n",
       "        [0.5, 0.5],\n",
       "        [0.5, 0.5],\n",
       "        [0.5, 0.5],\n",
       "        [0.5, 0.5],\n",
       "        [0.5, 0.5],\n",
       "        [0.5, 0.5],\n",
       "        [0.5, 0.5],\n",
       "        [0.5, 0.5],\n",
       "        [0.5, 0.5],\n",
       "        [0.5, 0.5],\n",
       "        [0.5, 0.5],\n",
       "        [0.5, 0.5],\n",
       "        [0.5, 0.5],\n",
       "        [0.5, 0.5],\n",
       "        [0.5, 0.5],\n",
       "        [0.5, 0.5],\n",
       "        [0.5, 0.5],\n",
       "        [0.5, 0.5],\n",
       "        [0.5, 0.5],\n",
       "        [0.5, 0.5],\n",
       "        [0.5, 0.5]], dtype=float32)>,\n",
       "  'next_step_type': <tf.Tensor: shape=(64, 2), dtype=int32, numpy=\n",
       " array([[1, 1],\n",
       "        [1, 1],\n",
       "        [1, 1],\n",
       "        [1, 1],\n",
       "        [1, 1],\n",
       "        [1, 1],\n",
       "        [1, 1],\n",
       "        [1, 1],\n",
       "        [1, 1],\n",
       "        [1, 1],\n",
       "        [1, 1],\n",
       "        [1, 1],\n",
       "        [1, 1],\n",
       "        [1, 1],\n",
       "        [1, 1],\n",
       "        [1, 1],\n",
       "        [1, 1],\n",
       "        [1, 1],\n",
       "        [1, 1],\n",
       "        [1, 1],\n",
       "        [1, 1],\n",
       "        [1, 1],\n",
       "        [1, 1],\n",
       "        [1, 1],\n",
       "        [1, 1],\n",
       "        [1, 1],\n",
       "        [1, 1],\n",
       "        [1, 1],\n",
       "        [1, 1],\n",
       "        [1, 1],\n",
       "        [1, 1],\n",
       "        [1, 1],\n",
       "        [1, 1],\n",
       "        [1, 1],\n",
       "        [1, 1],\n",
       "        [1, 1],\n",
       "        [1, 1],\n",
       "        [1, 1],\n",
       "        [1, 1],\n",
       "        [1, 1],\n",
       "        [1, 1],\n",
       "        [1, 1],\n",
       "        [1, 1],\n",
       "        [1, 1],\n",
       "        [1, 1],\n",
       "        [1, 1],\n",
       "        [1, 1],\n",
       "        [1, 1],\n",
       "        [1, 1],\n",
       "        [1, 1],\n",
       "        [1, 1],\n",
       "        [1, 1],\n",
       "        [1, 1],\n",
       "        [1, 1],\n",
       "        [1, 1],\n",
       "        [1, 1],\n",
       "        [1, 1],\n",
       "        [1, 1],\n",
       "        [1, 1],\n",
       "        [1, 1],\n",
       "        [1, 1],\n",
       "        [1, 1],\n",
       "        [1, 1],\n",
       "        [1, 1]], dtype=int32)>,\n",
       "  'observation': <tf.Tensor: shape=(64, 2, 1570), dtype=int32, numpy=\n",
       " array([[[0, 0, 0, ..., 0, 5, 1],\n",
       "         [0, 0, 0, ..., 0, 4, 1]],\n",
       " \n",
       "        [[0, 0, 0, ..., 0, 1, 3],\n",
       "         [0, 0, 0, ..., 0, 2, 3]],\n",
       " \n",
       "        [[0, 0, 0, ..., 0, 4, 0],\n",
       "         [0, 0, 0, ..., 0, 4, 1]],\n",
       " \n",
       "        ...,\n",
       " \n",
       "        [[0, 0, 0, ..., 0, 3, 1],\n",
       "         [0, 0, 0, ..., 0, 3, 0]],\n",
       " \n",
       "        [[0, 0, 0, ..., 0, 4, 0],\n",
       "         [0, 0, 0, ..., 0, 4, 0]],\n",
       " \n",
       "        [[0, 0, 0, ..., 0, 0, 2],\n",
       "         [0, 0, 0, ..., 0, 0, 3]]], dtype=int32)>,\n",
       "  'policy_info': (),\n",
       "  'reward': <tf.Tensor: shape=(64, 2), dtype=float32, numpy=\n",
       " array([[ 0. ,  0. ],\n",
       "        [ 0. , -0.1],\n",
       "        [ 0. ,  0. ],\n",
       "        [ 0. ,  0. ],\n",
       "        [-0.1,  0. ],\n",
       "        [ 0. ,  0. ],\n",
       "        [ 0. ,  0. ],\n",
       "        [ 0. ,  0. ],\n",
       "        [ 0. ,  0. ],\n",
       "        [ 0. ,  0. ],\n",
       "        [ 0. ,  0. ],\n",
       "        [ 0. ,  0. ],\n",
       "        [ 0. , -0.1],\n",
       "        [ 0. ,  0. ],\n",
       "        [ 0. ,  0. ],\n",
       "        [ 0. ,  0. ],\n",
       "        [-0.1, -0.1],\n",
       "        [ 0. ,  0. ],\n",
       "        [-0.1,  0. ],\n",
       "        [-0.1, -0.1],\n",
       "        [ 0. ,  0. ],\n",
       "        [-0.1, -0.1],\n",
       "        [ 0. ,  0. ],\n",
       "        [-0.1, -0.1],\n",
       "        [ 0. ,  0. ],\n",
       "        [ 0. ,  0. ],\n",
       "        [ 0. ,  0. ],\n",
       "        [-0.1, -0.1],\n",
       "        [ 0. ,  0. ],\n",
       "        [ 0. ,  0. ],\n",
       "        [ 0. ,  0. ],\n",
       "        [ 0. ,  0. ],\n",
       "        [-0.1, -0.1],\n",
       "        [ 0. ,  0. ],\n",
       "        [ 0. ,  0. ],\n",
       "        [ 0. ,  0. ],\n",
       "        [-0.1, -0.1],\n",
       "        [-0.1, -0.1],\n",
       "        [-0.1, -0.1],\n",
       "        [ 0. ,  0. ],\n",
       "        [-0.1, -0.1],\n",
       "        [-0.1,  0. ],\n",
       "        [ 0. ,  0. ],\n",
       "        [ 0. ,  0. ],\n",
       "        [ 0. ,  0. ],\n",
       "        [-0.1,  0. ],\n",
       "        [ 0. ,  0. ],\n",
       "        [ 0. ,  0. ],\n",
       "        [-0.1, -0.1],\n",
       "        [ 0. ,  0. ],\n",
       "        [ 0. ,  0. ],\n",
       "        [-0.1,  0. ],\n",
       "        [ 0. ,  0. ],\n",
       "        [-0.1, -0.1],\n",
       "        [ 0. ,  0. ],\n",
       "        [ 0. ,  0. ],\n",
       "        [ 0. , -0.1],\n",
       "        [ 0. ,  0. ],\n",
       "        [ 0. ,  0. ],\n",
       "        [-0.1, -0.1],\n",
       "        [ 0. ,  0. ],\n",
       "        [-0.1,  0. ],\n",
       "        [ 0. ,  0. ],\n",
       "        [-0.1,  0. ]], dtype=float32)>,\n",
       "  'step_type': <tf.Tensor: shape=(64, 2), dtype=int32, numpy=\n",
       " array([[1, 1],\n",
       "        [1, 1],\n",
       "        [1, 1],\n",
       "        [1, 1],\n",
       "        [1, 1],\n",
       "        [1, 1],\n",
       "        [1, 1],\n",
       "        [1, 1],\n",
       "        [1, 1],\n",
       "        [1, 1],\n",
       "        [1, 1],\n",
       "        [1, 1],\n",
       "        [1, 1],\n",
       "        [1, 1],\n",
       "        [1, 1],\n",
       "        [1, 1],\n",
       "        [1, 1],\n",
       "        [1, 1],\n",
       "        [1, 1],\n",
       "        [1, 1],\n",
       "        [1, 1],\n",
       "        [1, 1],\n",
       "        [1, 1],\n",
       "        [1, 1],\n",
       "        [1, 1],\n",
       "        [1, 1],\n",
       "        [1, 1],\n",
       "        [1, 1],\n",
       "        [1, 1],\n",
       "        [1, 1],\n",
       "        [1, 1],\n",
       "        [1, 1],\n",
       "        [1, 1],\n",
       "        [1, 1],\n",
       "        [1, 1],\n",
       "        [1, 1],\n",
       "        [1, 1],\n",
       "        [1, 1],\n",
       "        [1, 1],\n",
       "        [1, 1],\n",
       "        [1, 1],\n",
       "        [1, 1],\n",
       "        [1, 1],\n",
       "        [1, 1],\n",
       "        [1, 1],\n",
       "        [1, 1],\n",
       "        [1, 1],\n",
       "        [1, 1],\n",
       "        [1, 1],\n",
       "        [1, 1],\n",
       "        [1, 1],\n",
       "        [1, 1],\n",
       "        [1, 1],\n",
       "        [1, 1],\n",
       "        [1, 1],\n",
       "        [1, 1],\n",
       "        [1, 1],\n",
       "        [1, 1],\n",
       "        [1, 1],\n",
       "        [1, 1],\n",
       "        [1, 1],\n",
       "        [1, 1],\n",
       "        [1, 1],\n",
       "        [1, 1]], dtype=int32)>}),\n",
       " SampleInfo(key=<tf.Tensor: shape=(64, 2), dtype=uint64, numpy=\n",
       " array([[ 1709780923438692365,  1709780923438692365],\n",
       "        [ 9443381794795314126,  9443381794795314126],\n",
       "        [11446123356443855740, 11446123356443855740],\n",
       "        [12756737602793967610, 12756737602793967610],\n",
       "        [14954746455446307086, 14954746455446307086],\n",
       "        [ 4387658560476098448,  4387658560476098448],\n",
       "        [10261638151191479316, 10261638151191479316],\n",
       "        [ 1709780923438692365,  1709780923438692365],\n",
       "        [17089629805453236842, 17089629805453236842],\n",
       "        [  712427846585239192,   712427846585239192],\n",
       "        [ 1076073087833010804,  1076073087833010804],\n",
       "        [18389960973379473824, 18389960973379473824],\n",
       "        [15257741005423432160, 15257741005423432160],\n",
       "        [ 4887943986537916848,  4887943986537916848],\n",
       "        [12294919919624041473, 12294919919624041473],\n",
       "        [12756737602793967610, 12756737602793967610],\n",
       "        [14513421097119616920, 14513421097119616920],\n",
       "        [14193811589264791050, 14193811589264791050],\n",
       "        [17479271190581465133, 17479271190581465133],\n",
       "        [ 7797857406817035193,  7797857406817035193],\n",
       "        [ 8157409327874631762,  8157409327874631762],\n",
       "        [ 4486422216500307732,  4486422216500307732],\n",
       "        [10261638151191479316, 10261638151191479316],\n",
       "        [ 6884802864601274029,  6884802864601274029],\n",
       "        [ 8705492843614520283,  8705492843614520283],\n",
       "        [11446123356443855740, 11446123356443855740],\n",
       "        [ 6381995589796598612,  6381995589796598612],\n",
       "        [  669396402566544402,   669396402566544402],\n",
       "        [ 6684203343570564629,  6684203343570564629],\n",
       "        [13718064304444884535, 13718064304444884535],\n",
       "        [14948192524312244082, 14948192524312244082],\n",
       "        [10261638151191479316, 10261638151191479316],\n",
       "        [ 3973825021886512538,  3973825021886512538],\n",
       "        [ 8520818720387493447,  8520818720387493447],\n",
       "        [13027774036552179422, 13027774036552179422],\n",
       "        [ 4338971709906444936,  4338971709906444936],\n",
       "        [ 6281647696989976285,  6281647696989976285],\n",
       "        [ 6671335110957757276,  6671335110957757276],\n",
       "        [ 6281647696989976285,  6281647696989976285],\n",
       "        [ 8157409327874631762,  8157409327874631762],\n",
       "        [ 3973825021886512538,  3973825021886512538],\n",
       "        [13280764418156811776, 13280764418156811776],\n",
       "        [ 8700844252252625653,  8700844252252625653],\n",
       "        [14138089886179943845, 14138089886179943845],\n",
       "        [ 3626386449344018486,  3626386449344018486],\n",
       "        [13280764418156811776, 13280764418156811776],\n",
       "        [18378822286808814521, 18378822286808814521],\n",
       "        [ 8520818720387493447,  8520818720387493447],\n",
       "        [ 6281647696989976285,  6281647696989976285],\n",
       "        [14138089886179943845, 14138089886179943845],\n",
       "        [12756737602793967610, 12756737602793967610],\n",
       "        [ 1538333893298396226,  1538333893298396226],\n",
       "        [13027774036552179422, 13027774036552179422],\n",
       "        [14667819784239853747, 14667819784239853747],\n",
       "        [  223520677043573725,   223520677043573725],\n",
       "        [11175068180534751003, 11175068180534751003],\n",
       "        [ 6814425160628794667,  6814425160628794667],\n",
       "        [ 8886088593027435619,  8886088593027435619],\n",
       "        [18318715741305014168, 18318715741305014168],\n",
       "        [ 6281647696989976285,  6281647696989976285],\n",
       "        [ 7876710997503122952,  7876710997503122952],\n",
       "        [  703463951007215335,   703463951007215335],\n",
       "        [  223520677043573725,   223520677043573725],\n",
       "        [12994847914238188608, 12994847914238188608]], dtype=uint64)>, probability=<tf.Tensor: shape=(64, 2), dtype=float64, numpy=\n",
       " array([[0.01030928, 0.01030928],\n",
       "        [0.01030928, 0.01030928],\n",
       "        [0.01030928, 0.01030928],\n",
       "        [0.01030928, 0.01030928],\n",
       "        [0.01030928, 0.01030928],\n",
       "        [0.01030928, 0.01030928],\n",
       "        [0.01030928, 0.01030928],\n",
       "        [0.01030928, 0.01030928],\n",
       "        [0.01030928, 0.01030928],\n",
       "        [0.01030928, 0.01030928],\n",
       "        [0.01030928, 0.01030928],\n",
       "        [0.01030928, 0.01030928],\n",
       "        [0.01030928, 0.01030928],\n",
       "        [0.01030928, 0.01030928],\n",
       "        [0.01030928, 0.01030928],\n",
       "        [0.01030928, 0.01030928],\n",
       "        [0.01030928, 0.01030928],\n",
       "        [0.01030928, 0.01030928],\n",
       "        [0.01030928, 0.01030928],\n",
       "        [0.01030928, 0.01030928],\n",
       "        [0.01030928, 0.01030928],\n",
       "        [0.01030928, 0.01030928],\n",
       "        [0.01030928, 0.01030928],\n",
       "        [0.01030928, 0.01030928],\n",
       "        [0.01030928, 0.01030928],\n",
       "        [0.01030928, 0.01030928],\n",
       "        [0.01030928, 0.01030928],\n",
       "        [0.01030928, 0.01030928],\n",
       "        [0.01030928, 0.01030928],\n",
       "        [0.01030928, 0.01030928],\n",
       "        [0.01030928, 0.01030928],\n",
       "        [0.01030928, 0.01030928],\n",
       "        [0.01030928, 0.01030928],\n",
       "        [0.01030928, 0.01030928],\n",
       "        [0.01030928, 0.01030928],\n",
       "        [0.01030928, 0.01030928],\n",
       "        [0.01030928, 0.01030928],\n",
       "        [0.01030928, 0.01030928],\n",
       "        [0.01030928, 0.01030928],\n",
       "        [0.01030928, 0.01030928],\n",
       "        [0.01030928, 0.01030928],\n",
       "        [0.01030928, 0.01030928],\n",
       "        [0.01030928, 0.01030928],\n",
       "        [0.01030928, 0.01030928],\n",
       "        [0.01030928, 0.01030928],\n",
       "        [0.01030928, 0.01030928],\n",
       "        [0.01030928, 0.01030928],\n",
       "        [0.01030928, 0.01030928],\n",
       "        [0.01030928, 0.01030928],\n",
       "        [0.01030928, 0.01030928],\n",
       "        [0.01030928, 0.01030928],\n",
       "        [0.01030928, 0.01030928],\n",
       "        [0.01030928, 0.01030928],\n",
       "        [0.01030928, 0.01030928],\n",
       "        [0.01030928, 0.01030928],\n",
       "        [0.01030928, 0.01030928],\n",
       "        [0.01030928, 0.01030928],\n",
       "        [0.01030928, 0.01030928],\n",
       "        [0.01030928, 0.01030928],\n",
       "        [0.01030928, 0.01030928],\n",
       "        [0.01030928, 0.01030928],\n",
       "        [0.01030928, 0.01030928],\n",
       "        [0.01030928, 0.01030928],\n",
       "        [0.01030928, 0.01030928]])>, table_size=<tf.Tensor: shape=(64, 2), dtype=int64, numpy=\n",
       " array([[97, 97],\n",
       "        [97, 97],\n",
       "        [97, 97],\n",
       "        [97, 97],\n",
       "        [97, 97],\n",
       "        [97, 97],\n",
       "        [97, 97],\n",
       "        [97, 97],\n",
       "        [97, 97],\n",
       "        [97, 97],\n",
       "        [97, 97],\n",
       "        [97, 97],\n",
       "        [97, 97],\n",
       "        [97, 97],\n",
       "        [97, 97],\n",
       "        [97, 97],\n",
       "        [97, 97],\n",
       "        [97, 97],\n",
       "        [97, 97],\n",
       "        [97, 97],\n",
       "        [97, 97],\n",
       "        [97, 97],\n",
       "        [97, 97],\n",
       "        [97, 97],\n",
       "        [97, 97],\n",
       "        [97, 97],\n",
       "        [97, 97],\n",
       "        [97, 97],\n",
       "        [97, 97],\n",
       "        [97, 97],\n",
       "        [97, 97],\n",
       "        [97, 97],\n",
       "        [97, 97],\n",
       "        [97, 97],\n",
       "        [97, 97],\n",
       "        [97, 97],\n",
       "        [97, 97],\n",
       "        [97, 97],\n",
       "        [97, 97],\n",
       "        [97, 97],\n",
       "        [97, 97],\n",
       "        [97, 97],\n",
       "        [97, 97],\n",
       "        [97, 97],\n",
       "        [97, 97],\n",
       "        [97, 97],\n",
       "        [97, 97],\n",
       "        [97, 97],\n",
       "        [97, 97],\n",
       "        [97, 97],\n",
       "        [97, 97],\n",
       "        [97, 97],\n",
       "        [97, 97],\n",
       "        [97, 97],\n",
       "        [97, 97],\n",
       "        [97, 97],\n",
       "        [97, 97],\n",
       "        [97, 97],\n",
       "        [97, 97],\n",
       "        [97, 97],\n",
       "        [97, 97],\n",
       "        [97, 97],\n",
       "        [97, 97],\n",
       "        [97, 97]])>, priority=<tf.Tensor: shape=(64, 2), dtype=float64, numpy=\n",
       " array([[1., 1.],\n",
       "        [1., 1.],\n",
       "        [1., 1.],\n",
       "        [1., 1.],\n",
       "        [1., 1.],\n",
       "        [1., 1.],\n",
       "        [1., 1.],\n",
       "        [1., 1.],\n",
       "        [1., 1.],\n",
       "        [1., 1.],\n",
       "        [1., 1.],\n",
       "        [1., 1.],\n",
       "        [1., 1.],\n",
       "        [1., 1.],\n",
       "        [1., 1.],\n",
       "        [1., 1.],\n",
       "        [1., 1.],\n",
       "        [1., 1.],\n",
       "        [1., 1.],\n",
       "        [1., 1.],\n",
       "        [1., 1.],\n",
       "        [1., 1.],\n",
       "        [1., 1.],\n",
       "        [1., 1.],\n",
       "        [1., 1.],\n",
       "        [1., 1.],\n",
       "        [1., 1.],\n",
       "        [1., 1.],\n",
       "        [1., 1.],\n",
       "        [1., 1.],\n",
       "        [1., 1.],\n",
       "        [1., 1.],\n",
       "        [1., 1.],\n",
       "        [1., 1.],\n",
       "        [1., 1.],\n",
       "        [1., 1.],\n",
       "        [1., 1.],\n",
       "        [1., 1.],\n",
       "        [1., 1.],\n",
       "        [1., 1.],\n",
       "        [1., 1.],\n",
       "        [1., 1.],\n",
       "        [1., 1.],\n",
       "        [1., 1.],\n",
       "        [1., 1.],\n",
       "        [1., 1.],\n",
       "        [1., 1.],\n",
       "        [1., 1.],\n",
       "        [1., 1.],\n",
       "        [1., 1.],\n",
       "        [1., 1.],\n",
       "        [1., 1.],\n",
       "        [1., 1.],\n",
       "        [1., 1.],\n",
       "        [1., 1.],\n",
       "        [1., 1.],\n",
       "        [1., 1.],\n",
       "        [1., 1.],\n",
       "        [1., 1.],\n",
       "        [1., 1.],\n",
       "        [1., 1.],\n",
       "        [1., 1.],\n",
       "        [1., 1.],\n",
       "        [1., 1.]])>))"
      ]
     },
     "execution_count": 17,
     "metadata": {},
     "output_type": "execute_result"
    }
   ],
   "source": [
    "next(iterator)"
   ]
  },
  {
   "cell_type": "markdown",
   "metadata": {},
   "source": [
    "## AI Training"
   ]
  },
  {
   "cell_type": "code",
   "execution_count": 18,
   "metadata": {},
   "outputs": [
    {
     "data": {
      "text/plain": [
       "<tf.Variable 'UnreadVariable' shape=() dtype=int32, numpy=0>"
      ]
     },
     "execution_count": 18,
     "metadata": {},
     "output_type": "execute_result"
    }
   ],
   "source": [
    "agent.train = common.function(agent.train)\n",
    "agent.train_step_counter.assign(0)"
   ]
  },
  {
   "cell_type": "code",
   "execution_count": 19,
   "metadata": {},
   "outputs": [],
   "source": [
    "time_step = env_py.reset()"
   ]
  },
  {
   "cell_type": "code",
   "execution_count": 20,
   "metadata": {},
   "outputs": [],
   "source": [
    "# Create a driver to collect experience.\n",
    "collect_driver = py_driver.PyDriver(\n",
    "    env_py,\n",
    "    py_tf_eager_policy.PyTFEagerPolicy(\n",
    "        agent.collect_policy, use_tf_function=True),\n",
    "    [rb_observer],\n",
    "    max_steps=1)"
   ]
  },
  {
   "cell_type": "code",
   "execution_count": 21,
   "metadata": {},
   "outputs": [
    {
     "name": "stdout",
     "output_type": "stream",
     "text": [
      "WARNING:tensorflow:From /home/lars/GitHub/Nachzeichner-KI/env/lib/python3.10/site-packages/tensorflow/python/util/dispatch.py:1082: calling foldr_v2 (from tensorflow.python.ops.functional_ops) with back_prop=False is deprecated and will be removed in a future version.\n",
      "Instructions for updating:\n",
      "back_prop=False is deprecated. Consider using tf.stop_gradient instead.\n",
      "Instead of:\n",
      "results = tf.foldr(fn, elems, back_prop=False)\n",
      "Use:\n",
      "results = tf.nest.map_structure(tf.stop_gradient, tf.foldr(fn, elems))\n",
      "step = 100: loss = 0.08713829517364502\n",
      "step = 200: loss = 0.028033003211021423\n",
      "step = 300: loss = 0.041163407266139984\n",
      "step = 400: loss = 0.07821415364742279\n",
      "step = 500: loss = 0.1426268219947815\n",
      "step = 600: loss = 0.07397311925888062\n",
      "step = 700: loss = 0.06341683864593506\n",
      "step = 800: loss = 0.12683212757110596\n",
      "step = 900: loss = 0.051376041024923325\n",
      "step = 1000: loss = 0.09388060867786407\n",
      "step = 1000: Average Return = -1.1000001430511475\n",
      "step = 1100: loss = 0.03989802673459053\n",
      "step = 1200: loss = 0.018574494868516922\n",
      "step = 1300: loss = 0.035427533090114594\n",
      "step = 1400: loss = 0.049628060311079025\n",
      "step = 1500: loss = 0.038561247289180756\n",
      "step = 1600: loss = 0.06829250603914261\n",
      "step = 1700: loss = 0.02382984757423401\n",
      "step = 1800: loss = 0.014182107523083687\n",
      "step = 1900: loss = 0.0191350020468235\n",
      "step = 2000: loss = 0.01850954443216324\n",
      "step = 2000: Average Return = -0.8000000715255737\n",
      "step = 2100: loss = 0.020546279847621918\n",
      "step = 2200: loss = 0.024622756987810135\n",
      "step = 2300: loss = 0.05382267385721207\n",
      "step = 2400: loss = 0.027527689933776855\n",
      "step = 2500: loss = 0.02232864499092102\n",
      "step = 2600: loss = 0.03736122325062752\n",
      "step = 2700: loss = 0.022724971175193787\n",
      "step = 2800: loss = 0.01794501766562462\n",
      "step = 2900: loss = 0.03593660891056061\n",
      "step = 3000: loss = 0.05537618324160576\n",
      "step = 3000: Average Return = 8.599998474121094\n",
      "step = 3100: loss = 0.022691430523991585\n",
      "step = 3200: loss = 0.028681695461273193\n",
      "step = 3300: loss = 0.035964109003543854\n",
      "step = 3400: loss = 0.015740148723125458\n",
      "step = 3500: loss = 0.027672264724969864\n",
      "step = 3600: loss = 0.029802195727825165\n",
      "step = 3700: loss = 0.05447573959827423\n",
      "step = 3800: loss = 0.029888762161135674\n",
      "step = 3900: loss = 0.027416443452239037\n",
      "step = 4000: loss = 0.020921703428030014\n",
      "step = 4000: Average Return = -0.6000000238418579\n",
      "step = 4100: loss = 0.021272625774145126\n",
      "step = 4200: loss = 0.04754854738712311\n",
      "step = 4300: loss = 0.017490467056632042\n",
      "step = 4400: loss = 0.017975741997361183\n",
      "step = 4500: loss = 0.04405820369720459\n",
      "step = 4600: loss = 0.028641190379858017\n",
      "step = 4700: loss = 0.019863611087203026\n",
      "step = 4800: loss = 0.012752651236951351\n",
      "step = 4900: loss = 0.024153606966137886\n",
      "step = 5000: loss = 0.009812124073505402\n",
      "step = 5000: Average Return = 20.499996185302734\n",
      "step = 5100: loss = 0.020473219454288483\n",
      "step = 5200: loss = 0.02990065887570381\n",
      "step = 5300: loss = 0.04686787724494934\n",
      "step = 5400: loss = 0.026167236268520355\n",
      "step = 5500: loss = 0.02124149352312088\n",
      "step = 5600: loss = 0.04337026923894882\n",
      "step = 5700: loss = 0.03243556618690491\n",
      "step = 5800: loss = 0.025285955518484116\n",
      "step = 5900: loss = 0.036430083215236664\n",
      "step = 6000: loss = 0.01773347146809101\n",
      "step = 6000: Average Return = 13.699996948242188\n",
      "step = 6100: loss = 0.038054730743169785\n",
      "step = 6200: loss = 0.024473894387483597\n",
      "step = 6300: loss = 0.03685566410422325\n",
      "step = 6400: loss = 0.028437206521630287\n",
      "step = 6500: loss = 0.009054860100150108\n",
      "step = 6600: loss = 0.007024135906249285\n",
      "step = 6700: loss = 0.011155180633068085\n",
      "step = 6800: loss = 0.032741643488407135\n",
      "step = 6900: loss = 0.030434628948569298\n",
      "step = 7000: loss = 0.03424504026770592\n",
      "step = 7000: Average Return = -0.9000000953674316\n",
      "step = 7100: loss = 0.049951352179050446\n",
      "step = 7200: loss = 0.011740272864699364\n",
      "step = 7300: loss = 0.035342223942279816\n",
      "step = 7400: loss = 0.007127829827368259\n",
      "step = 7500: loss = 0.03347001224756241\n",
      "step = 7600: loss = 0.030619215220212936\n",
      "step = 7700: loss = 0.02101723477244377\n",
      "step = 7800: loss = 0.009632904082536697\n",
      "step = 7900: loss = 0.040039535611867905\n",
      "step = 8000: loss = 0.03067679889500141\n",
      "step = 8000: Average Return = -0.6000000238418579\n",
      "step = 8100: loss = 0.01852014660835266\n",
      "step = 8200: loss = 0.03817921131849289\n",
      "step = 8300: loss = 0.02385459467768669\n",
      "step = 8400: loss = 0.019471008330583572\n",
      "step = 8500: loss = 0.031232662498950958\n",
      "step = 8600: loss = 0.06569254398345947\n",
      "step = 8700: loss = 0.025659121572971344\n",
      "step = 8800: loss = 0.013192705810070038\n",
      "step = 8900: loss = 0.0414758175611496\n",
      "step = 9000: loss = 0.04341142624616623\n",
      "step = 9000: Average Return = -0.6000000238418579\n",
      "step = 9100: loss = 0.038060352206230164\n",
      "step = 9200: loss = 0.007421925663948059\n",
      "step = 9300: loss = 0.009283136576414108\n",
      "step = 9400: loss = 0.018153546378016472\n",
      "step = 9500: loss = 0.016149325296282768\n",
      "step = 9600: loss = 0.0083671435713768\n",
      "step = 9700: loss = 0.005759553983807564\n",
      "step = 9800: loss = 0.008692720904946327\n",
      "step = 9900: loss = 0.016343068331480026\n",
      "step = 10000: loss = 0.01309504359960556\n",
      "step = 10000: Average Return = -0.6000000238418579\n"
     ]
    },
    {
     "data": {
      "image/png": "[encoded data removed]",
      "text/plain": [
       "<Figure size 720x504 with 2 Axes>"
      ]
     },
     "metadata": {
      "needs_background": "light"
     },
     "output_type": "display_data"
    },
    {
     "data": {
      "image/png": "[encoded data removed]",
      "text/plain": [
       "<Figure size 720x504 with 2 Axes>"
      ]
     },
     "metadata": {
      "needs_background": "light"
     },
     "output_type": "display_data"
    },
    {
     "data": {
      "image/png": "[encoded data removed]",
      "text/plain": [
       "<Figure size 720x504 with 2 Axes>"
      ]
     },
     "metadata": {
      "needs_background": "light"
     },
     "output_type": "display_data"
    },
    {
     "data": {
      "image/png": "[encoded data removed]",
      "text/plain": [
       "<Figure size 720x504 with 2 Axes>"
      ]
     },
     "metadata": {
      "needs_background": "light"
     },
     "output_type": "display_data"
    },
    {
     "data": {
      "image/png": "[encoded data removed]",
      "text/plain": [
       "<Figure size 720x504 with 2 Axes>"
      ]
     },
     "metadata": {
      "needs_background": "light"
     },
     "output_type": "display_data"
    },
    {
     "data": {
      "image/png": "[encoded data removed]",
      "text/plain": [
       "<Figure size 720x504 with 2 Axes>"
      ]
     },
     "metadata": {
      "needs_background": "light"
     },
     "output_type": "display_data"
    },
    {
     "data": {
      "image/png": "[encoded data removed]",
      "text/plain": [
       "<Figure size 720x504 with 2 Axes>"
      ]
     },
     "metadata": {
      "needs_background": "light"
     },
     "output_type": "display_data"
    },
    {
     "data": {
      "image/png": "[encoded data removed]",
      "text/plain": [
       "<Figure size 720x504 with 2 Axes>"
      ]
     },
     "metadata": {
      "needs_background": "light"
     },
     "output_type": "display_data"
    },
    {
     "data": {
      "image/png": "[encoded data removed]",
      "text/plain": [
       "<Figure size 720x504 with 2 Axes>"
      ]
     },
     "metadata": {
      "needs_background": "light"
     },
     "output_type": "display_data"
    },
    {
     "data": {
      "image/png": "[encoded data removed]",
      "text/plain": [
       "<Figure size 720x504 with 2 Axes>"
      ]
     },
     "metadata": {
      "needs_background": "light"
     },
     "output_type": "display_data"
    }
   ],
   "source": [
    "returns = []\n",
    "for _ in range(10000):\n",
    "    \n",
    "  # Collect a few steps and save to the replay buffer.\n",
    "  time_step, _ = collect_driver.run(time_step)\n",
    "\n",
    "  # Sample a batch of data from the buffer and update the agent's network.\n",
    "  experience, unused_info = next(iterator)\n",
    "  train_loss = agent.train(experience).loss\n",
    "\n",
    "  step = agent.train_step_counter.numpy()\n",
    "\n",
    "  if step % 100 == 0:\n",
    "    print('step = {0}: loss = {1}'.format(step, train_loss))\n",
    "\n",
    "  if step % 1000 == 0:\n",
    "    avg_return = compute_avg_return(env, agent.policy, 1)\n",
    "    print('step = {0}: Average Return = {1}'.format(step, avg_return))\n",
    "    returns.append(avg_return)"
   ]
  },
  {
   "cell_type": "code",
   "execution_count": null,
   "metadata": {},
   "outputs": [],
   "source": []
  }
 ],
 "metadata": {
  "interpreter": {
   "hash": "4c997253e9c9db01b2c5cb60d4f99773f770ce139bc1614a18038c034a93da84"
  },
  "kernelspec": {
   "display_name": "Python 3.8.10 ('env': venv)",
   "language": "python",
   "name": "python3"
  },
  "language_info": {
   "codemirror_mode": {
    "name": "ipython",
    "version": 3
   },
   "file_extension": ".py",
   "mimetype": "text/x-python",
   "name": "python",
   "nbconvert_exporter": "python",
   "pygments_lexer": "ipython3",
   "version": "3.10.4"
  },
  "orig_nbformat": 4
 },
 "nbformat": 4,
 "nbformat_minor": 2
}
