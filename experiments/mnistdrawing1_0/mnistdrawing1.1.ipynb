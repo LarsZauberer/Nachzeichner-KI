{
 "cells": [
  {
   "cell_type": "markdown",
   "metadata": {},
   "source": [
    "# Mnist Drawing AI\n",
    "## Version 1.0\n",
    "Das Ziel dieser AI ist es einmal ein funktionierendes Environnment zu kreieren,\n",
    "in der die KI lernen und arbeiten kann.\n",
    "\n",
    "Hierbei soll wenigstens geschaut werden, ob die AI es erlernt mal nur ein Bild\n",
    "zu zeichnen. In einer späteren Version sollen erst dann mehrere Bilder\n",
    "hineingegeben werden.\n",
    "\n",
    "Dabei soll als Input dienen:\n",
    "- Ziel Bild 28x28 -> np.shape = (784,)\n",
    "- States\n",
    "    - Canvas State 28x28 -> np.shape = (784,)\n",
    "    - Position von Agent in Space (Pen Position) -> np.shape(2,)\n",
    "\n",
    "Dabei soll der Output sein:\n",
    "- Integer\n",
    "    - Es wird immer 1, 2, 3, 4 Gezählt, welches die Himmelsrichtungen darstellt.\n",
    "    - Eine erhöhter Wert wird in den Stroke in die Länge gehen -> Bsp. 8 -> 2 Mal nach Links (Direction 4 und Length 2)"
   ]
  },
  {
   "cell_type": "markdown",
   "metadata": {},
   "source": [
    "## Importing"
   ]
  },
  {
   "cell_type": "code",
   "execution_count": 22,
   "metadata": {},
   "outputs": [],
   "source": [
    "import abc\n",
    "import tensorflow as tf\n",
    "import numpy as np\n",
    "import random\n",
    "\n",
    "from tf_agents.environments import py_environment\n",
    "from tf_agents.environments import tf_environment\n",
    "from tf_agents.environments import tf_py_environment\n",
    "from tf_agents.environments import utils\n",
    "from tf_agents.specs import array_spec\n",
    "from tf_agents.environments import wrappers\n",
    "from tf_agents.environments import suite_gym\n",
    "from tf_agents.trajectories import time_step as ts\n",
    "from tf_agents.agents.dqn import dqn_agent\n",
    "from tf_agents.agents import DdpgAgent\n",
    "from tf_agents.agents.ddpg.actor_network import ActorNetwork\n",
    "from tf_agents.agents.ddpg.critic_network import CriticNetwork\n",
    "from tf_agents.drivers import py_driver\n",
    "from tf_agents.environments import suite_gym\n",
    "from tf_agents.environments import tf_py_environment\n",
    "from tf_agents.eval import metric_utils\n",
    "from tf_agents.metrics import tf_metrics\n",
    "from tf_agents.networks import sequential, Sequential\n",
    "from tf_agents.policies import py_tf_eager_policy\n",
    "from tf_agents.policies import random_tf_policy\n",
    "from tf_agents.replay_buffers import reverb_replay_buffer\n",
    "from tf_agents.replay_buffers import reverb_utils\n",
    "from tf_agents.trajectories import trajectory\n",
    "from tf_agents.specs import tensor_spec\n",
    "from tf_agents.utils import common\n",
    "from tf_agents.environments import utils\n",
    "\n",
    "import reverb"
   ]
  },
  {
   "cell_type": "code",
   "execution_count": 23,
   "metadata": {},
   "outputs": [
    {
     "data": {
      "text/plain": [
       "[PhysicalDevice(name='/physical_device:CPU:0', device_type='CPU'),\n",
       " PhysicalDevice(name='/physical_device:GPU:0', device_type='GPU')]"
      ]
     },
     "execution_count": 23,
     "metadata": {},
     "output_type": "execute_result"
    }
   ],
   "source": [
    "tf.config.list_physical_devices()"
   ]
  },
  {
   "cell_type": "code",
   "execution_count": 24,
   "metadata": {},
   "outputs": [],
   "source": [
    "import matplotlib.pyplot as plt"
   ]
  },
  {
   "cell_type": "code",
   "execution_count": 25,
   "metadata": {},
   "outputs": [],
   "source": [
    "from environnment11 import Canvas"
   ]
  },
  {
   "cell_type": "markdown",
   "metadata": {},
   "source": [
    "## Env, Model and Agent Creation"
   ]
  },
  {
   "cell_type": "markdown",
   "metadata": {},
   "source": [
    "### Load Dataset"
   ]
  },
  {
   "cell_type": "code",
   "execution_count": 26,
   "metadata": {},
   "outputs": [],
   "source": [
    "from keras.datasets import mnist"
   ]
  },
  {
   "cell_type": "code",
   "execution_count": 27,
   "metadata": {},
   "outputs": [],
   "source": [
    "(train_X, train_y), (test_X, test_y) = mnist.load_data()"
   ]
  },
  {
   "cell_type": "code",
   "execution_count": 28,
   "metadata": {},
   "outputs": [],
   "source": [
    "env_py = Canvas(train_X[0])\n",
    "env = tf_py_environment.TFPyEnvironment(env_py)"
   ]
  },
  {
   "cell_type": "markdown",
   "metadata": {},
   "source": [
    "### Model"
   ]
  },
  {
   "cell_type": "code",
   "execution_count": 29,
   "metadata": {},
   "outputs": [
    {
     "name": "stdout",
     "output_type": "stream",
     "text": [
      "Num Actions:  4.0\n"
     ]
    }
   ],
   "source": [
    "fc_layer_params = (100, 50) # Die Anzahl der Dense Units in einem Layer\n",
    "action_tensor_spec = tensor_spec.from_spec(env.action_spec())\n",
    "num_actions = action_tensor_spec.maximum - action_tensor_spec.minimum + 1\n",
    "print(\"Num Actions: \", num_actions)\n",
    "\n",
    "# Helper function um die Dense Layer zu kreeieren.\n",
    "def dense_layer(num_units):\n",
    "  return tf.keras.layers.Dense(\n",
    "      num_units,\n",
    "      activation=tf.keras.activations.relu,\n",
    "      kernel_initializer=tf.keras.initializers.VarianceScaling(\n",
    "          scale=2.0, mode='fan_in', distribution='truncated_normal'))\n",
    "\n",
    "# Create the dense layer array\n",
    "dense_layers = [dense_layer(num_units) for num_units in fc_layer_params]\n",
    "\n",
    "# Create the output layer\n",
    "q_values_layer = tf.keras.layers.Dense(\n",
    "    num_actions,\n",
    "    activation=None,\n",
    "    kernel_initializer=tf.keras.initializers.RandomUniform(\n",
    "        minval=-0.03, maxval=0.03),\n",
    "    bias_initializer=tf.keras.initializers.Constant(-0.2))\n",
    "\n",
    "# Sequentialize the layers into a tensorflow model\n",
    "q_net = sequential.Sequential(dense_layers + [q_values_layer])"
   ]
  },
  {
   "cell_type": "markdown",
   "metadata": {},
   "source": [
    "### Agent"
   ]
  },
  {
   "cell_type": "code",
   "execution_count": 30,
   "metadata": {},
   "outputs": [],
   "source": [
    "optimizer = tf.keras.optimizers.Adam(learning_rate=1e-3)\n",
    "\n",
    "train_step_counter = tf.Variable(0)\n",
    "\n",
    "agent = dqn_agent.DqnAgent(\n",
    "    env.time_step_spec(),\n",
    "    env.action_spec(),\n",
    "    q_network=q_net,\n",
    "    optimizer=optimizer,\n",
    "    td_errors_loss_fn=common.element_wise_squared_loss,\n",
    "    train_step_counter=train_step_counter)\n",
    "\n",
    "\n",
    "critic_network = CriticNetwork(\n",
    "    input_tensor_spec=(env.observation_spec(), env.action_spec()),\n",
    "    )\n",
    "\n",
    "actor_network = ActorNetwork(\n",
    "    env.observation_spec(),\n",
    "    env.action_spec(),\n",
    "    fc_layer_params=fc_layer_params,\n",
    ")\n",
    "\n",
    "agent = DdpgAgent(\n",
    "    time_step_spec=env.time_step_spec(),\n",
    "    action_spec=env.action_spec(),\n",
    "    actor_network=actor_network,\n",
    "    critic_network=critic_network,\n",
    "    train_step_counter=train_step_counter,\n",
    "    actor_optimizer=optimizer,\n",
    "    critic_optimizer=optimizer,\n",
    "    )\n",
    "    \n",
    "\n",
    "agent.initialize()"
   ]
  },
  {
   "cell_type": "markdown",
   "metadata": {},
   "source": [
    "## Random Metrics"
   ]
  },
  {
   "cell_type": "code",
   "execution_count": 31,
   "metadata": {},
   "outputs": [],
   "source": [
    "def compute_avg_return(environment, policy, num_episodes=10):\n",
    "    total_return = 0.0\n",
    "    for _ in range(num_episodes):\n",
    "\n",
    "        time_step = environment.reset()\n",
    "        episode_return = 0.0\n",
    "\n",
    "        while not time_step.is_last():\n",
    "            action_step = policy.action(time_step)\n",
    "            time_step = environment.step(action_step.action)\n",
    "            episode_return += time_step.reward\n",
    "        total_return += episode_return\n",
    "\n",
    "    avg_return = total_return / num_episodes\n",
    "    env_py.render(\"compare\")\n",
    "    return avg_return.numpy()[0]"
   ]
  },
  {
   "cell_type": "code",
   "execution_count": 32,
   "metadata": {},
   "outputs": [
    {
     "name": "stderr",
     "output_type": "stream",
     "text": [
      "/home/lars/GitHub/Nachzeichner-KI/experiments/mnistdrawing1_0/environnment11.py:135: UserWarning: Matplotlib is currently using module://matplotlib_inline.backend_inline, which is a non-GUI backend, so cannot show the figure.\n",
      "  fig.show()\n"
     ]
    },
    {
     "data": {
      "text/plain": [
       "0.6100001"
      ]
     },
     "execution_count": 32,
     "metadata": {},
     "output_type": "execute_result"
    },
    {
     "data": {
      "image/png": "[encoded data removed]",
      "text/plain": [
       "<Figure size 720x504 with 2 Axes>"
      ]
     },
     "metadata": {
      "needs_background": "light"
     },
     "output_type": "display_data"
    }
   ],
   "source": [
    "compute_avg_return(env,\n",
    "                   random_tf_policy.RandomTFPolicy(env.time_step_spec(),\n",
    "                                                   env.action_spec()),\n",
    "                   10)"
   ]
  },
  {
   "cell_type": "markdown",
   "metadata": {},
   "source": [
    "## Replay Buffer"
   ]
  },
  {
   "cell_type": "code",
   "execution_count": 33,
   "metadata": {},
   "outputs": [
    {
     "name": "stderr",
     "output_type": "stream",
     "text": [
      "[reverb/cc/platform/tfrecord_checkpointer.cc:150]  Initializing TFRecordCheckpointer in /tmp/tmporoeem6p.\n",
      "[reverb/cc/platform/tfrecord_checkpointer.cc:386] Loading latest checkpoint from /tmp/tmporoeem6p\n",
      "[reverb/cc/platform/default/server.cc:71] Started replay server on port 21140\n"
     ]
    }
   ],
   "source": [
    "table_name = 'uniform_table'\n",
    "replay_buffer_signature = tensor_spec.from_spec(\n",
    "      agent.collect_data_spec)\n",
    "replay_buffer_signature = tensor_spec.add_outer_dim(\n",
    "    replay_buffer_signature)\n",
    "\n",
    "table = reverb.Table(\n",
    "    table_name,\n",
    "    max_size=100000,\n",
    "    sampler=reverb.selectors.Uniform(),\n",
    "    remover=reverb.selectors.Fifo(),\n",
    "    rate_limiter=reverb.rate_limiters.MinSize(1),\n",
    "    signature=replay_buffer_signature)\n",
    "\n",
    "reverb_server = reverb.Server([table])\n",
    "\n",
    "replay_buffer = reverb_replay_buffer.ReverbReplayBuffer(\n",
    "    agent.collect_data_spec,\n",
    "    table_name=table_name,\n",
    "    sequence_length=2,\n",
    "    local_server=reverb_server)\n",
    "\n",
    "rb_observer = reverb_utils.ReverbAddTrajectoryObserver(\n",
    "    replay_buffer.py_client,\n",
    "    table_name,\n",
    "    sequence_length=2)"
   ]
  },
  {
   "cell_type": "markdown",
   "metadata": {},
   "source": [
    "### Testing the replay buffer"
   ]
  },
  {
   "cell_type": "code",
   "execution_count": 34,
   "metadata": {},
   "outputs": [
    {
     "data": {
      "text/plain": [
       "(TimeStep(\n",
       " {'discount': array(0.5, dtype=float32),\n",
       "  'observation': array([ 0,  0,  0, ...,  0, 11, 27], dtype=int32),\n",
       "  'reward': array(0., dtype=float32),\n",
       "  'step_type': array(1, dtype=int32)}),\n",
       " ())"
      ]
     },
     "execution_count": 34,
     "metadata": {},
     "output_type": "execute_result"
    }
   ],
   "source": [
    "py_driver.PyDriver(\n",
    "    env_py,\n",
    "    py_tf_eager_policy.PyTFEagerPolicy(\n",
    "        random_tf_policy.RandomTFPolicy(env.time_step_spec(),\n",
    "                                        env.action_spec()),\n",
    "        use_tf_function=True),\n",
    "        [rb_observer],\n",
    "        max_steps=100\n",
    "    ).run(env_py.reset())"
   ]
  },
  {
   "cell_type": "code",
   "execution_count": 35,
   "metadata": {},
   "outputs": [
    {
     "data": {
      "text/plain": [
       "(Trajectory(\n",
       " {'action': <tf.Tensor: shape=(2,), dtype=float64, numpy=array([1.18258245, 2.2373253 ])>,\n",
       "  'discount': <tf.Tensor: shape=(2,), dtype=float32, numpy=array([0.5, 0.5], dtype=float32)>,\n",
       "  'next_step_type': <tf.Tensor: shape=(2,), dtype=int32, numpy=array([1, 1], dtype=int32)>,\n",
       "  'observation': <tf.Tensor: shape=(2, 1570), dtype=int32, numpy=\n",
       " array([[0, 0, 0, ..., 0, 5, 8],\n",
       "        [0, 0, 0, ..., 0, 5, 9]], dtype=int32)>,\n",
       "  'policy_info': (),\n",
       "  'reward': <tf.Tensor: shape=(2,), dtype=float32, numpy=array([-0.1, -0.1], dtype=float32)>,\n",
       "  'step_type': <tf.Tensor: shape=(2,), dtype=int32, numpy=array([1, 1], dtype=int32)>}),\n",
       " SampleInfo(key=<tf.Tensor: shape=(2,), dtype=uint64, numpy=array([5268819462168331644, 5268819462168331644], dtype=uint64)>, probability=<tf.Tensor: shape=(2,), dtype=float64, numpy=array([0.01030928, 0.01030928])>, table_size=<tf.Tensor: shape=(2,), dtype=int64, numpy=array([97, 97])>, priority=<tf.Tensor: shape=(2,), dtype=float64, numpy=array([1., 1.])>))"
      ]
     },
     "execution_count": 35,
     "metadata": {},
     "output_type": "execute_result"
    }
   ],
   "source": [
    "iter(replay_buffer.as_dataset()).next()"
   ]
  },
  {
   "cell_type": "code",
   "execution_count": 36,
   "metadata": {},
   "outputs": [
    {
     "name": "stderr",
     "output_type": "stream",
     "text": [
      "[reverb/cc/platform/default/server.cc:84] Shutting down replay server\n"
     ]
    }
   ],
   "source": [
    "dataset = replay_buffer.as_dataset(\n",
    "    num_parallel_calls=3,\n",
    "    sample_batch_size=64,\n",
    "    num_steps=2).prefetch(3)\n",
    "iterator = iter(dataset)"
   ]
  },
  {
   "cell_type": "code",
   "execution_count": 37,
   "metadata": {},
   "outputs": [
    {
     "name": "stdout",
     "output_type": "stream",
     "text": [
      "<tensorflow.python.data.ops.iterator_ops.OwnedIterator object at 0x7f0dac03abc0>\n"
     ]
    }
   ],
   "source": [
    "iterator = iter(dataset)\n",
    "print(iterator)"
   ]
  },
  {
   "cell_type": "code",
   "execution_count": 38,
   "metadata": {},
   "outputs": [
    {
     "name": "stderr",
     "output_type": "stream",
     "text": [
      "[reverb/cc/client.cc:165] Sampler and server are owned by the same process (17498) so Table uniform_table is accessed directly without gRPC.\n"
     ]
    },
    {
     "data": {
      "text/plain": [
       "(Trajectory(\n",
       " {'action': <tf.Tensor: shape=(64, 2), dtype=float64, numpy=\n",
       " array([[1.965261  , 0.15414661],\n",
       "        [0.36309406, 0.35516437],\n",
       "        [1.23863906, 1.15499007],\n",
       "        [0.93288685, 2.31067318],\n",
       "        [2.66957274, 1.17546717],\n",
       "        [2.2373253 , 1.8615808 ],\n",
       "        [1.99902104, 0.41232564],\n",
       "        [1.98257079, 0.23592932],\n",
       "        [2.60517618, 2.59807351],\n",
       "        [1.99902104, 0.41232564],\n",
       "        [0.05159572, 2.57850054],\n",
       "        [2.57850054, 1.84441445],\n",
       "        [0.94655126, 0.00391525],\n",
       "        [0.00634773, 1.78560981],\n",
       "        [1.93235657, 0.58844613],\n",
       "        [0.1594968 , 0.70676521],\n",
       "        [0.05159572, 2.57850054],\n",
       "        [0.00391525, 0.02578264],\n",
       "        [2.56226146, 0.83508423],\n",
       "        [1.33000647, 2.79545123],\n",
       "        [1.90770566, 0.73361679],\n",
       "        [1.58925753, 1.28751515],\n",
       "        [0.41232564, 2.88777015],\n",
       "        [0.64404493, 0.93288685],\n",
       "        [2.33265944, 1.54661341],\n",
       "        [2.79227767, 2.24530912],\n",
       "        [0.10862437, 2.66957274],\n",
       "        [2.57850054, 1.84441445],\n",
       "        [2.66957274, 1.17546717],\n",
       "        [2.57647803, 1.6500503 ],\n",
       "        [2.31067318, 2.44013362],\n",
       "        [1.84441445, 1.18258245],\n",
       "        [0.31547253, 0.54217605],\n",
       "        [2.61664218, 1.64976323],\n",
       "        [1.33000647, 2.79545123],\n",
       "        [1.84441445, 1.18258245],\n",
       "        [0.73461337, 2.31754947],\n",
       "        [1.59271746, 2.56226146],\n",
       "        [0.1866112 , 0.37048289],\n",
       "        [0.58844613, 0.36309406],\n",
       "        [2.31067318, 2.44013362],\n",
       "        [1.38296718, 0.1866112 ],\n",
       "        [1.54661341, 0.05682116],\n",
       "        [0.36309406, 0.35516437],\n",
       "        [1.51177218, 1.99902104],\n",
       "        [0.83508423, 2.84838468],\n",
       "        [0.73361679, 0.02318931],\n",
       "        [1.47676534, 0.73461337],\n",
       "        [0.73361679, 0.02318931],\n",
       "        [0.1594968 , 0.70676521],\n",
       "        [1.16929192, 2.36296   ],\n",
       "        [2.98008374, 0.10862437],\n",
       "        [1.6500503 , 2.28771979],\n",
       "        [1.10155842, 0.84402196],\n",
       "        [0.64404493, 0.93288685],\n",
       "        [0.41232564, 2.88777015],\n",
       "        [0.1866112 , 0.37048289],\n",
       "        [0.10862437, 2.66957274],\n",
       "        [0.76937006, 1.56994679],\n",
       "        [0.73361679, 0.02318931],\n",
       "        [2.20644113, 2.23731916],\n",
       "        [1.16929192, 2.36296   ],\n",
       "        [1.28751515, 1.33000647],\n",
       "        [1.47676534, 0.73461337]])>,\n",
       "  'discount': <tf.Tensor: shape=(64, 2), dtype=float32, numpy=\n",
       " array([[0.5, 0.5],\n",
       "        [0.5, 0.5],\n",
       "        [0.5, 0.5],\n",
       "        [0.5, 0.5],\n",
       "        [0.5, 0.5],\n",
       "        [0.5, 0.5],\n",
       "        [0.5, 0.5],\n",
       "        [0.5, 0.5],\n",
       "        [0.5, 0.5],\n",
       "        [0.5, 0.5],\n",
       "        [0.5, 0.5],\n",
       "        [0.5, 0.5],\n",
       "        [0.5, 0.5],\n",
       "        [0.5, 0.5],\n",
       "        [0.5, 0.5],\n",
       "        [0.5, 0.5],\n",
       "        [0.5, 0.5],\n",
       "        [0.5, 0.5],\n",
       "        [0.5, 0.5],\n",
       "        [0.5, 0.5],\n",
       "        [0.5, 0.5],\n",
       "        [0.5, 0.5],\n",
       "        [0.5, 0.5],\n",
       "        [0.5, 0.5],\n",
       "        [0.5, 0.5],\n",
       "        [0.5, 0.5],\n",
       "        [0.5, 0.5],\n",
       "        [0.5, 0.5],\n",
       "        [0.5, 0.5],\n",
       "        [0.5, 0.5],\n",
       "        [0.5, 0.5],\n",
       "        [0.5, 0.5],\n",
       "        [0.5, 0.5],\n",
       "        [0.5, 0.5],\n",
       "        [0.5, 0.5],\n",
       "        [0.5, 0.5],\n",
       "        [0.5, 0.5],\n",
       "        [0.5, 0.5],\n",
       "        [0.5, 0.5],\n",
       "        [0.5, 0.5],\n",
       "        [0.5, 0.5],\n",
       "        [0.5, 0.5],\n",
       "        [0.5, 0.5],\n",
       "        [0.5, 0.5],\n",
       "        [0.5, 0.5],\n",
       "        [0.5, 0.5],\n",
       "        [0.5, 0.5],\n",
       "        [0.5, 0.5],\n",
       "        [0.5, 0.5],\n",
       "        [0.5, 0.5],\n",
       "        [0.5, 0.5],\n",
       "        [0.5, 0.5],\n",
       "        [0.5, 0.5],\n",
       "        [0.5, 0.5],\n",
       "        [0.5, 0.5],\n",
       "        [0.5, 0.5],\n",
       "        [0.5, 0.5],\n",
       "        [0.5, 0.5],\n",
       "        [0.5, 0.5],\n",
       "        [0.5, 0.5],\n",
       "        [0.5, 0.5],\n",
       "        [0.5, 0.5],\n",
       "        [0.5, 0.5],\n",
       "        [0.5, 0.5]], dtype=float32)>,\n",
       "  'next_step_type': <tf.Tensor: shape=(64, 2), dtype=int32, numpy=\n",
       " array([[1, 1],\n",
       "        [1, 1],\n",
       "        [1, 1],\n",
       "        [1, 1],\n",
       "        [1, 1],\n",
       "        [1, 1],\n",
       "        [1, 1],\n",
       "        [1, 1],\n",
       "        [1, 1],\n",
       "        [1, 1],\n",
       "        [1, 1],\n",
       "        [1, 1],\n",
       "        [1, 1],\n",
       "        [1, 1],\n",
       "        [1, 1],\n",
       "        [1, 1],\n",
       "        [1, 1],\n",
       "        [1, 1],\n",
       "        [1, 1],\n",
       "        [1, 1],\n",
       "        [1, 1],\n",
       "        [1, 1],\n",
       "        [1, 1],\n",
       "        [1, 1],\n",
       "        [1, 1],\n",
       "        [1, 1],\n",
       "        [1, 1],\n",
       "        [1, 1],\n",
       "        [1, 1],\n",
       "        [1, 1],\n",
       "        [1, 1],\n",
       "        [1, 1],\n",
       "        [1, 1],\n",
       "        [1, 1],\n",
       "        [1, 1],\n",
       "        [1, 1],\n",
       "        [1, 1],\n",
       "        [1, 1],\n",
       "        [1, 1],\n",
       "        [1, 1],\n",
       "        [1, 1],\n",
       "        [1, 1],\n",
       "        [1, 1],\n",
       "        [1, 1],\n",
       "        [1, 1],\n",
       "        [1, 1],\n",
       "        [1, 1],\n",
       "        [1, 1],\n",
       "        [1, 1],\n",
       "        [1, 1],\n",
       "        [1, 1],\n",
       "        [1, 1],\n",
       "        [1, 1],\n",
       "        [1, 1],\n",
       "        [1, 1],\n",
       "        [1, 1],\n",
       "        [1, 1],\n",
       "        [1, 1],\n",
       "        [1, 1],\n",
       "        [1, 1],\n",
       "        [1, 1],\n",
       "        [1, 1],\n",
       "        [1, 1],\n",
       "        [1, 1]], dtype=int32)>,\n",
       "  'observation': <tf.Tensor: shape=(64, 2, 1570), dtype=int32, numpy=\n",
       " array([[[ 0,  0,  0, ...,  0, 13, 27],\n",
       "         [ 0,  0,  0, ...,  0, 13, 27]],\n",
       " \n",
       "        [[ 0,  0,  0, ...,  0, 10, 21],\n",
       "         [ 0,  0,  0, ...,  0, 11, 21]],\n",
       " \n",
       "        [[ 0,  0,  0, ...,  0,  5,  5],\n",
       "         [ 0,  0,  0, ...,  0,  5,  6]],\n",
       " \n",
       "        ...,\n",
       " \n",
       "        [[ 0,  0,  0, ...,  0,  4, 11],\n",
       "         [ 0,  0,  0, ...,  0,  4, 12]],\n",
       " \n",
       "        [[ 0,  0,  0, ...,  0,  4, 14],\n",
       "         [ 0,  0,  0, ...,  0,  4, 15]],\n",
       " \n",
       "        [[ 0,  0,  0, ...,  0,  8, 23],\n",
       "         [ 0,  0,  0, ...,  0,  8, 24]]], dtype=int32)>,\n",
       "  'policy_info': (),\n",
       "  'reward': <tf.Tensor: shape=(64, 2), dtype=float32, numpy=\n",
       " array([[ 0. ,  0. ],\n",
       "        [ 1. ,  1. ],\n",
       "        [-0.1, -0.1],\n",
       "        [ 0. ,  0. ],\n",
       "        [ 0. ,  0. ],\n",
       "        [-0.1, -0.1],\n",
       "        [ 0. ,  0. ],\n",
       "        [ 0. ,  0. ],\n",
       "        [ 0. ,  0. ],\n",
       "        [ 0. ,  0. ],\n",
       "        [-0.1, -0.1],\n",
       "        [-0.1,  0. ],\n",
       "        [-0.1, -0.1],\n",
       "        [-0.1, -0.1],\n",
       "        [-0.1,  1. ],\n",
       "        [-0.1, -0.1],\n",
       "        [-0.1, -0.1],\n",
       "        [-0.1, -0.1],\n",
       "        [ 1. ,  1. ],\n",
       "        [-0.1, -0.1],\n",
       "        [ 0. ,  0. ],\n",
       "        [-0.1, -0.1],\n",
       "        [ 0. ,  0. ],\n",
       "        [ 0. ,  0. ],\n",
       "        [ 0. ,  0. ],\n",
       "        [ 0. ,  0. ],\n",
       "        [ 0. ,  0. ],\n",
       "        [-0.1,  0. ],\n",
       "        [ 0. ,  0. ],\n",
       "        [ 0. ,  0. ],\n",
       "        [ 0. ,  0. ],\n",
       "        [ 0. , -0.1],\n",
       "        [-0.1,  0. ],\n",
       "        [-0.1,  0. ],\n",
       "        [-0.1, -0.1],\n",
       "        [ 0. , -0.1],\n",
       "        [ 1. ,  1. ],\n",
       "        [ 1. ,  1. ],\n",
       "        [ 0. ,  0. ],\n",
       "        [ 1. ,  1. ],\n",
       "        [ 0. ,  0. ],\n",
       "        [ 0. ,  0. ],\n",
       "        [ 0. ,  0. ],\n",
       "        [ 1. ,  1. ],\n",
       "        [ 0. ,  0. ],\n",
       "        [ 1. ,  0. ],\n",
       "        [ 0. ,  0. ],\n",
       "        [ 1. ,  1. ],\n",
       "        [ 0. ,  0. ],\n",
       "        [-0.1, -0.1],\n",
       "        [-0.1, -0.1],\n",
       "        [-0.1,  0. ],\n",
       "        [ 0. ,  0. ],\n",
       "        [-0.1, -0.1],\n",
       "        [ 0. ,  0. ],\n",
       "        [ 0. ,  0. ],\n",
       "        [ 0. ,  0. ],\n",
       "        [ 0. ,  0. ],\n",
       "        [ 0. ,  0. ],\n",
       "        [ 0. ,  0. ],\n",
       "        [ 1. ,  1. ],\n",
       "        [-0.1, -0.1],\n",
       "        [-0.1, -0.1],\n",
       "        [ 1. ,  1. ]], dtype=float32)>,\n",
       "  'step_type': <tf.Tensor: shape=(64, 2), dtype=int32, numpy=\n",
       " array([[1, 1],\n",
       "        [1, 1],\n",
       "        [0, 1],\n",
       "        [1, 1],\n",
       "        [1, 1],\n",
       "        [1, 1],\n",
       "        [1, 1],\n",
       "        [1, 1],\n",
       "        [1, 1],\n",
       "        [1, 1],\n",
       "        [1, 1],\n",
       "        [1, 1],\n",
       "        [1, 1],\n",
       "        [1, 1],\n",
       "        [1, 1],\n",
       "        [1, 1],\n",
       "        [1, 1],\n",
       "        [1, 1],\n",
       "        [1, 1],\n",
       "        [1, 1],\n",
       "        [1, 1],\n",
       "        [1, 1],\n",
       "        [1, 1],\n",
       "        [1, 1],\n",
       "        [1, 1],\n",
       "        [1, 1],\n",
       "        [1, 1],\n",
       "        [1, 1],\n",
       "        [1, 1],\n",
       "        [1, 1],\n",
       "        [1, 1],\n",
       "        [1, 1],\n",
       "        [1, 1],\n",
       "        [1, 1],\n",
       "        [1, 1],\n",
       "        [1, 1],\n",
       "        [1, 1],\n",
       "        [1, 1],\n",
       "        [1, 1],\n",
       "        [1, 1],\n",
       "        [1, 1],\n",
       "        [1, 1],\n",
       "        [1, 1],\n",
       "        [1, 1],\n",
       "        [1, 1],\n",
       "        [1, 1],\n",
       "        [1, 1],\n",
       "        [1, 1],\n",
       "        [1, 1],\n",
       "        [1, 1],\n",
       "        [1, 1],\n",
       "        [1, 1],\n",
       "        [1, 1],\n",
       "        [1, 1],\n",
       "        [1, 1],\n",
       "        [1, 1],\n",
       "        [1, 1],\n",
       "        [1, 1],\n",
       "        [1, 1],\n",
       "        [1, 1],\n",
       "        [1, 1],\n",
       "        [1, 1],\n",
       "        [1, 1],\n",
       "        [1, 1]], dtype=int32)>}),\n",
       " SampleInfo(key=<tf.Tensor: shape=(64, 2), dtype=uint64, numpy=\n",
       " array([[ 6375281244602320953,  6375281244602320953],\n",
       "        [ 3372729944969864845,  3372729944969864845],\n",
       "        [17272641832138505525, 17272641832138505525],\n",
       "        [ 5343030536482383613,  5343030536482383613],\n",
       "        [ 6529255578555421539,  6529255578555421539],\n",
       "        [16628104863292150482, 16628104863292150482],\n",
       "        [ 7703770612014943399,  7703770612014943399],\n",
       "        [ 5589954850332184655,  5589954850332184655],\n",
       "        [17591251603411961185, 17591251603411961185],\n",
       "        [ 7703770612014943399,  7703770612014943399],\n",
       "        [   50358963731743057,    50358963731743057],\n",
       "        [ 1752005296659563149,  1752005296659563149],\n",
       "        [ 1120212847927618898,  1120212847927618898],\n",
       "        [ 1301235242227374030,  1301235242227374030],\n",
       "        [ 3055024130373984535,  3055024130373984535],\n",
       "        [14467372717842682546, 14467372717842682546],\n",
       "        [   50358963731743057,    50358963731743057],\n",
       "        [  737136956928136582,   737136956928136582],\n",
       "        [16641860700183380215, 16641860700183380215],\n",
       "        [11680284698787985521, 11680284698787985521],\n",
       "        [  464184106395360896,   464184106395360896],\n",
       "        [10511715315616992080, 10511715315616992080],\n",
       "        [17403833452631673338, 17403833452631673338],\n",
       "        [11943762339843499011, 11943762339843499011],\n",
       "        [ 6014218833916389861,  6014218833916389861],\n",
       "        [10045856568660058277, 10045856568660058277],\n",
       "        [10351860967001401026, 10351860967001401026],\n",
       "        [ 1752005296659563149,  1752005296659563149],\n",
       "        [ 6529255578555421539,  6529255578555421539],\n",
       "        [ 3188408037177889485,  3188408037177889485],\n",
       "        [17227143712270277161, 17227143712270277161],\n",
       "        [16906653178010448052, 16906653178010448052],\n",
       "        [ 3826909632716432952,  3826909632716432952],\n",
       "        [ 4466741006784054565,  4466741006784054565],\n",
       "        [11680284698787985521, 11680284698787985521],\n",
       "        [16906653178010448052, 16906653178010448052],\n",
       "        [12102804806369738175, 12102804806369738175],\n",
       "        [ 1921922836551095221,  1921922836551095221],\n",
       "        [16123651655327860097, 16123651655327860097],\n",
       "        [10102687581314200221, 10102687581314200221],\n",
       "        [17227143712270277161, 17227143712270277161],\n",
       "        [17849025144338195042, 17849025144338195042],\n",
       "        [ 5188789397231963440,  5188789397231963440],\n",
       "        [ 3372729944969864845,  3372729944969864845],\n",
       "        [ 4027502339120506550,  4027502339120506550],\n",
       "        [10914357354818454500, 10914357354818454500],\n",
       "        [ 1254758136277363955,  1254758136277363955],\n",
       "        [13414484148174389097, 13414484148174389097],\n",
       "        [ 1254758136277363955,  1254758136277363955],\n",
       "        [14467372717842682546, 14467372717842682546],\n",
       "        [ 6247213582145550501,  6247213582145550501],\n",
       "        [11796970095319735853, 11796970095319735853],\n",
       "        [12336878491372071237, 12336878491372071237],\n",
       "        [18421008918342386933, 18421008918342386933],\n",
       "        [11943762339843499011, 11943762339843499011],\n",
       "        [17403833452631673338, 17403833452631673338],\n",
       "        [16123651655327860097, 16123651655327860097],\n",
       "        [10351860967001401026, 10351860967001401026],\n",
       "        [ 8050950313295879015,  8050950313295879015],\n",
       "        [ 1254758136277363955,  1254758136277363955],\n",
       "        [12398308685132680325, 12398308685132680325],\n",
       "        [ 6247213582145550501,  6247213582145550501],\n",
       "        [ 8390535038878047974,  8390535038878047974],\n",
       "        [13414484148174389097, 13414484148174389097]], dtype=uint64)>, probability=<tf.Tensor: shape=(64, 2), dtype=float64, numpy=\n",
       " array([[0.01030928, 0.01030928],\n",
       "        [0.01030928, 0.01030928],\n",
       "        [0.01030928, 0.01030928],\n",
       "        [0.01030928, 0.01030928],\n",
       "        [0.01030928, 0.01030928],\n",
       "        [0.01030928, 0.01030928],\n",
       "        [0.01030928, 0.01030928],\n",
       "        [0.01030928, 0.01030928],\n",
       "        [0.01030928, 0.01030928],\n",
       "        [0.01030928, 0.01030928],\n",
       "        [0.01030928, 0.01030928],\n",
       "        [0.01030928, 0.01030928],\n",
       "        [0.01030928, 0.01030928],\n",
       "        [0.01030928, 0.01030928],\n",
       "        [0.01030928, 0.01030928],\n",
       "        [0.01030928, 0.01030928],\n",
       "        [0.01030928, 0.01030928],\n",
       "        [0.01030928, 0.01030928],\n",
       "        [0.01030928, 0.01030928],\n",
       "        [0.01030928, 0.01030928],\n",
       "        [0.01030928, 0.01030928],\n",
       "        [0.01030928, 0.01030928],\n",
       "        [0.01030928, 0.01030928],\n",
       "        [0.01030928, 0.01030928],\n",
       "        [0.01030928, 0.01030928],\n",
       "        [0.01030928, 0.01030928],\n",
       "        [0.01030928, 0.01030928],\n",
       "        [0.01030928, 0.01030928],\n",
       "        [0.01030928, 0.01030928],\n",
       "        [0.01030928, 0.01030928],\n",
       "        [0.01030928, 0.01030928],\n",
       "        [0.01030928, 0.01030928],\n",
       "        [0.01030928, 0.01030928],\n",
       "        [0.01030928, 0.01030928],\n",
       "        [0.01030928, 0.01030928],\n",
       "        [0.01030928, 0.01030928],\n",
       "        [0.01030928, 0.01030928],\n",
       "        [0.01030928, 0.01030928],\n",
       "        [0.01030928, 0.01030928],\n",
       "        [0.01030928, 0.01030928],\n",
       "        [0.01030928, 0.01030928],\n",
       "        [0.01030928, 0.01030928],\n",
       "        [0.01030928, 0.01030928],\n",
       "        [0.01030928, 0.01030928],\n",
       "        [0.01030928, 0.01030928],\n",
       "        [0.01030928, 0.01030928],\n",
       "        [0.01030928, 0.01030928],\n",
       "        [0.01030928, 0.01030928],\n",
       "        [0.01030928, 0.01030928],\n",
       "        [0.01030928, 0.01030928],\n",
       "        [0.01030928, 0.01030928],\n",
       "        [0.01030928, 0.01030928],\n",
       "        [0.01030928, 0.01030928],\n",
       "        [0.01030928, 0.01030928],\n",
       "        [0.01030928, 0.01030928],\n",
       "        [0.01030928, 0.01030928],\n",
       "        [0.01030928, 0.01030928],\n",
       "        [0.01030928, 0.01030928],\n",
       "        [0.01030928, 0.01030928],\n",
       "        [0.01030928, 0.01030928],\n",
       "        [0.01030928, 0.01030928],\n",
       "        [0.01030928, 0.01030928],\n",
       "        [0.01030928, 0.01030928],\n",
       "        [0.01030928, 0.01030928]])>, table_size=<tf.Tensor: shape=(64, 2), dtype=int64, numpy=\n",
       " array([[97, 97],\n",
       "        [97, 97],\n",
       "        [97, 97],\n",
       "        [97, 97],\n",
       "        [97, 97],\n",
       "        [97, 97],\n",
       "        [97, 97],\n",
       "        [97, 97],\n",
       "        [97, 97],\n",
       "        [97, 97],\n",
       "        [97, 97],\n",
       "        [97, 97],\n",
       "        [97, 97],\n",
       "        [97, 97],\n",
       "        [97, 97],\n",
       "        [97, 97],\n",
       "        [97, 97],\n",
       "        [97, 97],\n",
       "        [97, 97],\n",
       "        [97, 97],\n",
       "        [97, 97],\n",
       "        [97, 97],\n",
       "        [97, 97],\n",
       "        [97, 97],\n",
       "        [97, 97],\n",
       "        [97, 97],\n",
       "        [97, 97],\n",
       "        [97, 97],\n",
       "        [97, 97],\n",
       "        [97, 97],\n",
       "        [97, 97],\n",
       "        [97, 97],\n",
       "        [97, 97],\n",
       "        [97, 97],\n",
       "        [97, 97],\n",
       "        [97, 97],\n",
       "        [97, 97],\n",
       "        [97, 97],\n",
       "        [97, 97],\n",
       "        [97, 97],\n",
       "        [97, 97],\n",
       "        [97, 97],\n",
       "        [97, 97],\n",
       "        [97, 97],\n",
       "        [97, 97],\n",
       "        [97, 97],\n",
       "        [97, 97],\n",
       "        [97, 97],\n",
       "        [97, 97],\n",
       "        [97, 97],\n",
       "        [97, 97],\n",
       "        [97, 97],\n",
       "        [97, 97],\n",
       "        [97, 97],\n",
       "        [97, 97],\n",
       "        [97, 97],\n",
       "        [97, 97],\n",
       "        [97, 97],\n",
       "        [97, 97],\n",
       "        [97, 97],\n",
       "        [97, 97],\n",
       "        [97, 97],\n",
       "        [97, 97],\n",
       "        [97, 97]])>, priority=<tf.Tensor: shape=(64, 2), dtype=float64, numpy=\n",
       " array([[1., 1.],\n",
       "        [1., 1.],\n",
       "        [1., 1.],\n",
       "        [1., 1.],\n",
       "        [1., 1.],\n",
       "        [1., 1.],\n",
       "        [1., 1.],\n",
       "        [1., 1.],\n",
       "        [1., 1.],\n",
       "        [1., 1.],\n",
       "        [1., 1.],\n",
       "        [1., 1.],\n",
       "        [1., 1.],\n",
       "        [1., 1.],\n",
       "        [1., 1.],\n",
       "        [1., 1.],\n",
       "        [1., 1.],\n",
       "        [1., 1.],\n",
       "        [1., 1.],\n",
       "        [1., 1.],\n",
       "        [1., 1.],\n",
       "        [1., 1.],\n",
       "        [1., 1.],\n",
       "        [1., 1.],\n",
       "        [1., 1.],\n",
       "        [1., 1.],\n",
       "        [1., 1.],\n",
       "        [1., 1.],\n",
       "        [1., 1.],\n",
       "        [1., 1.],\n",
       "        [1., 1.],\n",
       "        [1., 1.],\n",
       "        [1., 1.],\n",
       "        [1., 1.],\n",
       "        [1., 1.],\n",
       "        [1., 1.],\n",
       "        [1., 1.],\n",
       "        [1., 1.],\n",
       "        [1., 1.],\n",
       "        [1., 1.],\n",
       "        [1., 1.],\n",
       "        [1., 1.],\n",
       "        [1., 1.],\n",
       "        [1., 1.],\n",
       "        [1., 1.],\n",
       "        [1., 1.],\n",
       "        [1., 1.],\n",
       "        [1., 1.],\n",
       "        [1., 1.],\n",
       "        [1., 1.],\n",
       "        [1., 1.],\n",
       "        [1., 1.],\n",
       "        [1., 1.],\n",
       "        [1., 1.],\n",
       "        [1., 1.],\n",
       "        [1., 1.],\n",
       "        [1., 1.],\n",
       "        [1., 1.],\n",
       "        [1., 1.],\n",
       "        [1., 1.],\n",
       "        [1., 1.],\n",
       "        [1., 1.],\n",
       "        [1., 1.],\n",
       "        [1., 1.]])>))"
      ]
     },
     "execution_count": 38,
     "metadata": {},
     "output_type": "execute_result"
    }
   ],
   "source": [
    "next(iterator)"
   ]
  },
  {
   "cell_type": "markdown",
   "metadata": {},
   "source": [
    "## AI Training"
   ]
  },
  {
   "cell_type": "code",
   "execution_count": 39,
   "metadata": {},
   "outputs": [
    {
     "data": {
      "text/plain": [
       "<tf.Variable 'UnreadVariable' shape=() dtype=int32, numpy=0>"
      ]
     },
     "execution_count": 39,
     "metadata": {},
     "output_type": "execute_result"
    }
   ],
   "source": [
    "agent.train = common.function(agent.train)\n",
    "agent.train_step_counter.assign(0)"
   ]
  },
  {
   "cell_type": "code",
   "execution_count": 40,
   "metadata": {},
   "outputs": [],
   "source": [
    "time_step = env_py.reset()"
   ]
  },
  {
   "cell_type": "code",
   "execution_count": 41,
   "metadata": {},
   "outputs": [],
   "source": [
    "# Create a driver to collect experience.\n",
    "collect_driver = py_driver.PyDriver(\n",
    "    env_py,\n",
    "    py_tf_eager_policy.PyTFEagerPolicy(\n",
    "        agent.collect_policy, use_tf_function=True),\n",
    "    [rb_observer],\n",
    "    max_steps=1)"
   ]
  },
  {
   "cell_type": "code",
   "execution_count": 42,
   "metadata": {},
   "outputs": [
    {
     "name": "stdout",
     "output_type": "stream",
     "text": [
      "step = 100: loss = 0.958031177520752\n",
      "step = 200: loss = 0.8176058530807495\n",
      "step = 300: loss = 1.0132699012756348\n",
      "step = 400: loss = 0.7003477811813354\n",
      "step = 500: loss = 0.9448662400245667\n",
      "step = 600: loss = 0.5744081735610962\n",
      "step = 700: loss = 1.634141206741333\n",
      "step = 800: loss = 0.45983877778053284\n",
      "step = 900: loss = 1.0792008638381958\n",
      "step = 1000: loss = 1.441831350326538\n",
      "step = 1000: Average Return = 10.899998664855957\n",
      "step = 1100: loss = 0.4503258466720581\n",
      "step = 1200: loss = 0.7557124495506287\n",
      "step = 1300: loss = 0.11256307363510132\n",
      "step = 1400: loss = 2.391916036605835\n",
      "step = 1500: loss = 0.05178048834204674\n",
      "step = 1600: loss = 0.08325912803411484\n",
      "step = 1700: loss = 0.2537404000759125\n",
      "step = 1800: loss = 1.7922614812850952\n",
      "step = 1900: loss = 0.1023540124297142\n",
      "step = 2000: loss = 0.2429780662059784\n",
      "step = 2000: Average Return = 10.899998664855957\n",
      "step = 2100: loss = 0.716915488243103\n",
      "step = 2200: loss = 0.2622659206390381\n",
      "step = 2300: loss = 0.03794870153069496\n",
      "step = 2400: loss = 0.05752825364470482\n",
      "step = 2500: loss = 0.6451216340065002\n",
      "step = 2600: loss = 0.3497695326805115\n",
      "step = 2700: loss = 1.6736243963241577\n",
      "step = 2800: loss = 1.4198068380355835\n",
      "step = 2900: loss = 0.27666813135147095\n",
      "step = 3000: loss = 0.49403268098831177\n",
      "step = 3000: Average Return = 10.899998664855957\n",
      "step = 3100: loss = 0.24445198476314545\n",
      "step = 3200: loss = 0.0737738385796547\n",
      "step = 3300: loss = 1.7158921957015991\n",
      "step = 3400: loss = 0.519562304019928\n",
      "step = 3500: loss = 0.1970447450876236\n",
      "step = 3600: loss = 0.39918094873428345\n",
      "step = 3700: loss = 3.0976502895355225\n",
      "step = 3800: loss = 0.26053953170776367\n",
      "step = 3900: loss = 0.5914079546928406\n",
      "step = 4000: loss = 0.5861536264419556\n",
      "step = 4000: Average Return = 10.899998664855957\n",
      "step = 4100: loss = 0.2035527229309082\n",
      "step = 4200: loss = 0.5490412712097168\n",
      "step = 4300: loss = 0.49243125319480896\n",
      "step = 4400: loss = 1.14039945602417\n",
      "step = 4500: loss = 0.15213438868522644\n",
      "step = 4600: loss = 1.4581055641174316\n",
      "step = 4700: loss = 0.18086473643779755\n",
      "step = 4800: loss = 0.3941415250301361\n",
      "step = 4900: loss = 0.12257689982652664\n",
      "step = 5000: loss = 0.0667509213089943\n",
      "step = 5000: Average Return = 10.899998664855957\n",
      "step = 5100: loss = 0.3467918634414673\n",
      "step = 5200: loss = 0.544662594795227\n",
      "step = 5300: loss = 4.200113296508789\n",
      "step = 5400: loss = 0.4898809492588043\n",
      "step = 5500: loss = 0.5334222316741943\n",
      "step = 5600: loss = 0.6195014715194702\n",
      "step = 5700: loss = 0.61674565076828\n",
      "step = 5800: loss = 0.3572905957698822\n",
      "step = 5900: loss = 0.12454836815595627\n",
      "step = 6000: loss = 0.11543421447277069\n",
      "step = 6000: Average Return = 10.899998664855957\n",
      "step = 6100: loss = 0.16282600164413452\n",
      "step = 6200: loss = 0.052275728434324265\n",
      "step = 6300: loss = 0.3629817068576813\n",
      "step = 6400: loss = 0.42395496368408203\n",
      "step = 6500: loss = 1.3282917737960815\n",
      "step = 6600: loss = 0.23364388942718506\n",
      "step = 6700: loss = 0.2995958626270294\n",
      "step = 6800: loss = 0.2966797649860382\n",
      "step = 6900: loss = 0.9402763247489929\n",
      "step = 7000: loss = 0.25878363847732544\n",
      "step = 7000: Average Return = 10.899998664855957\n",
      "step = 7100: loss = 0.6895751953125\n",
      "step = 7200: loss = 0.3311474919319153\n",
      "step = 7300: loss = 0.15534134209156036\n",
      "step = 7400: loss = 0.49060681462287903\n",
      "step = 7500: loss = 0.03406944125890732\n",
      "step = 7600: loss = 0.17770563066005707\n",
      "step = 7700: loss = 0.2010819911956787\n",
      "step = 7800: loss = 2.220944881439209\n",
      "step = 7900: loss = 0.21235333383083344\n",
      "step = 8000: loss = 0.04553414136171341\n",
      "step = 8000: Average Return = 10.899998664855957\n",
      "step = 8100: loss = 0.9374887943267822\n",
      "step = 8200: loss = 0.24726490676403046\n",
      "step = 8300: loss = 0.21974590420722961\n",
      "step = 8400: loss = 0.8281343579292297\n",
      "step = 8500: loss = 0.656650960445404\n",
      "step = 8600: loss = 0.37913036346435547\n",
      "step = 8700: loss = 0.6597066521644592\n",
      "step = 8800: loss = 0.22416318953037262\n",
      "step = 8900: loss = 0.9572997689247131\n",
      "step = 9000: loss = 0.1703024059534073\n",
      "step = 9000: Average Return = 10.899998664855957\n",
      "step = 9100: loss = 1.3323607444763184\n",
      "step = 9200: loss = 0.0852624773979187\n",
      "step = 9300: loss = 0.3768068850040436\n",
      "step = 9400: loss = 0.08972139656543732\n",
      "step = 9500: loss = 0.2065000683069229\n",
      "step = 9600: loss = 0.22347226738929749\n",
      "step = 9700: loss = 0.8162451982498169\n",
      "step = 9800: loss = 0.47471439838409424\n",
      "step = 9900: loss = 0.13359621167182922\n",
      "step = 10000: loss = 0.029922572895884514\n",
      "step = 10000: Average Return = 10.899998664855957\n"
     ]
    },
    {
     "data": {
      "image/png": "[encoded data removed]",
      "text/plain": [
       "<Figure size 720x504 with 2 Axes>"
      ]
     },
     "metadata": {
      "needs_background": "light"
     },
     "output_type": "display_data"
    },
    {
     "data": {
      "image/png": "[encoded data removed]",
      "text/plain": [
       "<Figure size 720x504 with 2 Axes>"
      ]
     },
     "metadata": {
      "needs_background": "light"
     },
     "output_type": "display_data"
    },
    {
     "data": {
      "image/png": "[encoded data removed]",
      "text/plain": [
       "<Figure size 720x504 with 2 Axes>"
      ]
     },
     "metadata": {
      "needs_background": "light"
     },
     "output_type": "display_data"
    },
    {
     "data": {
      "image/png": "[encoded data removed]",
      "text/plain": [
       "<Figure size 720x504 with 2 Axes>"
      ]
     },
     "metadata": {
      "needs_background": "light"
     },
     "output_type": "display_data"
    },
    {
     "data": {
      "image/png": "[encoded data removed]",
      "text/plain": [
       "<Figure size 720x504 with 2 Axes>"
      ]
     },
     "metadata": {
      "needs_background": "light"
     },
     "output_type": "display_data"
    },
    {
     "data": {
      "image/png": "[encoded data removed]",
      "text/plain": [
       "<Figure size 720x504 with 2 Axes>"
      ]
     },
     "metadata": {
      "needs_background": "light"
     },
     "output_type": "display_data"
    },
    {
     "data": {
      "image/png": "[encoded data removed]",
      "text/plain": [
       "<Figure size 720x504 with 2 Axes>"
      ]
     },
     "metadata": {
      "needs_background": "light"
     },
     "output_type": "display_data"
    },
    {
     "data": {
      "image/png": "[encoded data removed]",
      "text/plain": [
       "<Figure size 720x504 with 2 Axes>"
      ]
     },
     "metadata": {
      "needs_background": "light"
     },
     "output_type": "display_data"
    },
    {
     "data": {
      "image/png": "[encoded data removed]",
      "text/plain": [
       "<Figure size 720x504 with 2 Axes>"
      ]
     },
     "metadata": {
      "needs_background": "light"
     },
     "output_type": "display_data"
    },
    {
     "data": {
      "image/png": "[encoded data removed]",
      "text/plain": [
       "<Figure size 720x504 with 2 Axes>"
      ]
     },
     "metadata": {
      "needs_background": "light"
     },
     "output_type": "display_data"
    }
   ],
   "source": [
    "returns = []\n",
    "for _ in range(1000):\n",
    "    \n",
    "  # Collect a few steps and save to the replay buffer.\n",
    "  time_step, _ = collect_driver.run(time_step)\n",
    "\n",
    "  # Sample a batch of data from the buffer and update the agent's network.\n",
    "  experience, unused_info = next(iterator)\n",
    "  train_loss = agent.train(experience).loss\n",
    "\n",
    "  step = agent.train_step_counter.numpy()\n",
    "\n",
    "  if step % 100 == 0:\n",
    "    print('step = {0}: loss = {1}'.format(step, train_loss))\n",
    "\n",
    "  if step % 500 == 0:\n",
    "    avg_return = compute_avg_return(env, agent.policy, 1)\n",
    "    print('step = {0}: Average Return = {1}'.format(step, avg_return))\n",
    "    returns.append(avg_return)"
   ]
  },
  {
   "cell_type": "code",
   "execution_count": null,
   "metadata": {},
   "outputs": [],
   "source": []
  }
 ],
 "metadata": {
  "interpreter": {
   "hash": "4c997253e9c9db01b2c5cb60d4f99773f770ce139bc1614a18038c034a93da84"
  },
  "kernelspec": {
   "display_name": "Python 3.8.10 ('env': venv)",
   "language": "python",
   "name": "python3"
  },
  "language_info": {
   "codemirror_mode": {
    "name": "ipython",
    "version": 3
   },
   "file_extension": ".py",
   "mimetype": "text/x-python",
   "name": "python",
   "nbconvert_exporter": "python",
   "pygments_lexer": "ipython3",
   "version": "3.10.4"
  },
  "orig_nbformat": 4
 },
 "nbformat": 4,
 "nbformat_minor": 2
}
