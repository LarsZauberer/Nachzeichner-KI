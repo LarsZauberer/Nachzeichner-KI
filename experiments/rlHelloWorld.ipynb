{
 "cells": [
  {
   "cell_type": "markdown",
   "metadata": {},
   "source": [
    "YT Vid: https://www.youtube.com/watch?v=cO5g5qLrLSo"
   ]
  },
  {
   "cell_type": "markdown",
   "metadata": {},
   "source": [
    "# Import Libs"
   ]
  },
  {
   "cell_type": "code",
   "execution_count": 13,
   "metadata": {},
   "outputs": [],
   "source": [
    "import random\n",
    "import gym"
   ]
  },
  {
   "cell_type": "code",
   "execution_count": 14,
   "metadata": {},
   "outputs": [],
   "source": [
    "env = gym.make(\"CartPole-v0\")\n",
    "states = env.observation_space.shape[0]\n",
    "actions = env.action_space.n"
   ]
  },
  {
   "cell_type": "code",
   "execution_count": 15,
   "metadata": {},
   "outputs": [
    {
     "data": {
      "text/plain": [
       "4"
      ]
     },
     "execution_count": 15,
     "metadata": {},
     "output_type": "execute_result"
    }
   ],
   "source": [
    "states"
   ]
  },
  {
   "cell_type": "code",
   "execution_count": 16,
   "metadata": {},
   "outputs": [
    {
     "data": {
      "text/plain": [
       "2"
      ]
     },
     "execution_count": 16,
     "metadata": {},
     "output_type": "execute_result"
    }
   ],
   "source": [
    "actions"
   ]
  },
  {
   "cell_type": "markdown",
   "metadata": {},
   "source": [
    "### Random actions"
   ]
  },
  {
   "cell_type": "code",
   "execution_count": 17,
   "metadata": {},
   "outputs": [
    {
     "name": "stderr",
     "output_type": "stream",
     "text": [
      "Exception ignored in: <function Viewer.__del__ at 0x00000219E0009CF0>\n",
      "Traceback (most recent call last):\n",
      "  File \"C:\\Users\\robin\\AppData\\Local\\Packages\\PythonSoftwareFoundation.Python.3.10_qbz5n2kfra8p0\\LocalCache\\local-packages\\Python310\\site-packages\\gym\\envs\\classic_control\\rendering.py\", line 165, in __del__\n",
      "    self.close()\n",
      "  File \"C:\\Users\\robin\\AppData\\Local\\Packages\\PythonSoftwareFoundation.Python.3.10_qbz5n2kfra8p0\\LocalCache\\local-packages\\Python310\\site-packages\\gym\\envs\\classic_control\\rendering.py\", line 83, in close\n",
      "    self.window.close()\n",
      "  File \"C:\\Users\\robin\\AppData\\Local\\Packages\\PythonSoftwareFoundation.Python.3.10_qbz5n2kfra8p0\\LocalCache\\local-packages\\Python310\\site-packages\\pyglet\\window\\win32\\__init__.py\", line 299, in close\n",
      "    super(Win32Window, self).close()\n",
      "  File \"C:\\Users\\robin\\AppData\\Local\\Packages\\PythonSoftwareFoundation.Python.3.10_qbz5n2kfra8p0\\LocalCache\\local-packages\\Python310\\site-packages\\pyglet\\window\\__init__.py\", line 823, in close\n",
      "    app.windows.remove(self)\n",
      "  File \"C:\\Program Files\\WindowsApps\\PythonSoftwareFoundation.Python.3.10_3.10.1264.0_x64__qbz5n2kfra8p0\\lib\\_weakrefset.py\", line 114, in remove\n",
      "    self.data.remove(ref(item))\n",
      "KeyError: <weakref at 0x00000219DFDD5B20; to 'Win32Window' at 0x00000219C14B0280>\n"
     ]
    },
    {
     "name": "stdout",
     "output_type": "stream",
     "text": [
      "Episode 1 Score: 12.0\n",
      "Episode 2 Score: 48.0\n",
      "Episode 3 Score: 17.0\n",
      "Episode 4 Score: 15.0\n",
      "Episode 5 Score: 37.0\n",
      "Episode 6 Score: 14.0\n",
      "Episode 7 Score: 15.0\n",
      "Episode 8 Score: 51.0\n",
      "Episode 9 Score: 40.0\n",
      "Episode 10 Score: 13.0\n"
     ]
    }
   ],
   "source": [
    "episodes = 10\n",
    "for episode in range(1, episodes+1):\n",
    "    state = env.reset()\n",
    "    done = False\n",
    "    score = 0\n",
    "    \n",
    "    while not done:\n",
    "        env.render()\n",
    "        action = random.choice([0, 1])\n",
    "        n_state, reward, done, info = env.step(action)\n",
    "        score += reward\n",
    "    print(f\"Episode {episode} Score: {score}\")"
   ]
  },
  {
   "cell_type": "markdown",
   "metadata": {},
   "source": [
    "## Deep Learning Model"
   ]
  },
  {
   "cell_type": "code",
   "execution_count": 18,
   "metadata": {},
   "outputs": [],
   "source": [
    "import numpy as np\n",
    "from tensorflow.keras.models import Sequential\n",
    "from tensorflow.keras.layers import Dense, Flatten\n",
    "from tensorflow.keras.optimizers import Adam"
   ]
  },
  {
   "cell_type": "code",
   "execution_count": 19,
   "metadata": {},
   "outputs": [],
   "source": [
    "def build_model(states, actions):\n",
    "    model = Sequential()\n",
    "    model.add(Flatten(input_shape=(1,states)))\n",
    "    model.add(Dense(24, activation=\"relu\"))\n",
    "    model.add(Dense(24, activation=\"relu\"))\n",
    "    model.add(Dense(actions, activation=\"linear\"))\n",
    "    return model"
   ]
  },
  {
   "cell_type": "code",
   "execution_count": 20,
   "metadata": {},
   "outputs": [],
   "source": [
    "model = build_model(states, actions)"
   ]
  },
  {
   "cell_type": "code",
   "execution_count": 21,
   "metadata": {},
   "outputs": [
    {
     "name": "stdout",
     "output_type": "stream",
     "text": [
      "Model: \"sequential_1\"\n",
      "_________________________________________________________________\n",
      " Layer (type)                Output Shape              Param #   \n",
      "=================================================================\n",
      " flatten_1 (Flatten)         (None, 4)                 0         \n",
      "                                                                 \n",
      " dense_3 (Dense)             (None, 24)                120       \n",
      "                                                                 \n",
      " dense_4 (Dense)             (None, 24)                600       \n",
      "                                                                 \n",
      " dense_5 (Dense)             (None, 2)                 50        \n",
      "                                                                 \n",
      "=================================================================\n",
      "Total params: 770\n",
      "Trainable params: 770\n",
      "Non-trainable params: 0\n",
      "_________________________________________________________________\n"
     ]
    }
   ],
   "source": [
    "model.summary()"
   ]
  },
  {
   "cell_type": "markdown",
   "metadata": {},
   "source": [
    "## Reinforcementlearning agent"
   ]
  },
  {
   "cell_type": "code",
   "execution_count": 22,
   "metadata": {},
   "outputs": [],
   "source": [
    "from rl.agents import DQNAgent\n",
    "from rl.policy import BoltzmannQPolicy\n",
    "from rl.memory import SequentialMemory"
   ]
  },
  {
   "cell_type": "code",
   "execution_count": 23,
   "metadata": {},
   "outputs": [],
   "source": [
    "def build_agent(model, actions):\n",
    "    policy = BoltzmannQPolicy()\n",
    "    memory = SequentialMemory(limit=10000, window_length=1)\n",
    "    dqn = DQNAgent(model=model, memory=memory, policy=policy, nb_actions=actions, nb_steps_warmup=10, target_model_update=1e-2)\n",
    "    \n",
    "    return dqn"
   ]
  },
  {
   "cell_type": "code",
   "execution_count": 24,
   "metadata": {},
   "outputs": [
    {
     "name": "stdout",
     "output_type": "stream",
     "text": [
      "Training for 1 steps ...\n",
      "Interval 1 (0 steps performed)\n",
      "    1/10000 [..............................] - ETA: 4:30 - reward: 1.0000done, took 0.028 seconds\n"
     ]
    },
    {
     "name": "stderr",
     "output_type": "stream",
     "text": [
      "C:\\Users\\robin\\AppData\\Local\\Packages\\PythonSoftwareFoundation.Python.3.10_qbz5n2kfra8p0\\LocalCache\\local-packages\\Python310\\site-packages\\keras\\engine\\training_v1.py:2079: UserWarning: `Model.state_updates` will be removed in a future version. This property should not be used in TensorFlow 2.0, as `updates` are applied automatically.\n",
      "  updates=self.state_updates,\n"
     ]
    },
    {
     "data": {
      "text/plain": [
       "<keras.callbacks.History at 0x21a0aed2e00>"
      ]
     },
     "execution_count": 24,
     "metadata": {},
     "output_type": "execute_result"
    }
   ],
   "source": [
    "dqn = build_agent(model, actions)\n",
    "dqn.compile(Adam(lr=1e-3), metrics=[\"mae\"])\n",
    "dqn.fit(env, nb_steps=10000, visualize=False, verbose = 1)"
   ]
  },
  {
   "cell_type": "code",
   "execution_count": 25,
   "metadata": {},
   "outputs": [
    {
     "name": "stdout",
     "output_type": "stream",
     "text": [
      "Testing for 100 episodes ...\n",
      "Episode 1: reward: 86.000, steps: 86\n",
      "Episode 2: reward: 37.000, steps: 37\n",
      "Episode 3: reward: 115.000, steps: 115\n",
      "Episode 4: reward: 95.000, steps: 95\n",
      "Episode 5: reward: 45.000, steps: 45\n",
      "Episode 6: reward: 101.000, steps: 101\n",
      "Episode 7: reward: 54.000, steps: 54\n",
      "Episode 8: reward: 34.000, steps: 34\n",
      "Episode 9: reward: 106.000, steps: 106\n",
      "Episode 10: reward: 69.000, steps: 69\n",
      "Episode 11: reward: 49.000, steps: 49\n",
      "Episode 12: reward: 58.000, steps: 58\n",
      "Episode 13: reward: 59.000, steps: 59\n",
      "Episode 14: reward: 39.000, steps: 39\n",
      "Episode 15: reward: 63.000, steps: 63\n",
      "Episode 16: reward: 57.000, steps: 57\n",
      "Episode 17: reward: 143.000, steps: 143\n",
      "Episode 18: reward: 94.000, steps: 94\n",
      "Episode 19: reward: 60.000, steps: 60\n",
      "Episode 20: reward: 130.000, steps: 130\n",
      "Episode 21: reward: 42.000, steps: 42\n",
      "Episode 22: reward: 56.000, steps: 56\n",
      "Episode 23: reward: 61.000, steps: 61\n",
      "Episode 24: reward: 68.000, steps: 68\n",
      "Episode 25: reward: 77.000, steps: 77\n",
      "Episode 26: reward: 60.000, steps: 60\n",
      "Episode 27: reward: 69.000, steps: 69\n",
      "Episode 28: reward: 33.000, steps: 33\n",
      "Episode 29: reward: 166.000, steps: 166\n",
      "Episode 30: reward: 44.000, steps: 44\n",
      "Episode 31: reward: 132.000, steps: 132\n",
      "Episode 32: reward: 53.000, steps: 53\n",
      "Episode 33: reward: 50.000, steps: 50\n",
      "Episode 34: reward: 38.000, steps: 38\n",
      "Episode 35: reward: 61.000, steps: 61\n",
      "Episode 36: reward: 44.000, steps: 44\n",
      "Episode 37: reward: 61.000, steps: 61\n",
      "Episode 38: reward: 110.000, steps: 110\n",
      "Episode 39: reward: 38.000, steps: 38\n",
      "Episode 40: reward: 99.000, steps: 99\n",
      "Episode 41: reward: 59.000, steps: 59\n",
      "Episode 42: reward: 81.000, steps: 81\n",
      "Episode 43: reward: 46.000, steps: 46\n",
      "Episode 44: reward: 67.000, steps: 67\n",
      "Episode 45: reward: 59.000, steps: 59\n",
      "Episode 46: reward: 40.000, steps: 40\n",
      "Episode 47: reward: 62.000, steps: 62\n",
      "Episode 48: reward: 37.000, steps: 37\n",
      "Episode 49: reward: 68.000, steps: 68\n",
      "Episode 50: reward: 109.000, steps: 109\n",
      "Episode 51: reward: 94.000, steps: 94\n",
      "Episode 52: reward: 100.000, steps: 100\n",
      "Episode 53: reward: 73.000, steps: 73\n",
      "Episode 54: reward: 57.000, steps: 57\n",
      "Episode 55: reward: 68.000, steps: 68\n",
      "Episode 56: reward: 153.000, steps: 153\n",
      "Episode 57: reward: 53.000, steps: 53\n",
      "Episode 58: reward: 54.000, steps: 54\n",
      "Episode 59: reward: 48.000, steps: 48\n",
      "Episode 60: reward: 73.000, steps: 73\n",
      "Episode 61: reward: 66.000, steps: 66\n",
      "Episode 62: reward: 53.000, steps: 53\n",
      "Episode 63: reward: 96.000, steps: 96\n",
      "Episode 64: reward: 68.000, steps: 68\n",
      "Episode 65: reward: 105.000, steps: 105\n",
      "Episode 66: reward: 36.000, steps: 36\n",
      "Episode 67: reward: 96.000, steps: 96\n",
      "Episode 68: reward: 86.000, steps: 86\n",
      "Episode 69: reward: 54.000, steps: 54\n",
      "Episode 70: reward: 60.000, steps: 60\n",
      "Episode 71: reward: 134.000, steps: 134\n",
      "Episode 72: reward: 102.000, steps: 102\n",
      "Episode 73: reward: 53.000, steps: 53\n",
      "Episode 74: reward: 69.000, steps: 69\n",
      "Episode 75: reward: 95.000, steps: 95\n",
      "Episode 76: reward: 47.000, steps: 47\n",
      "Episode 77: reward: 70.000, steps: 70\n",
      "Episode 78: reward: 93.000, steps: 93\n",
      "Episode 79: reward: 56.000, steps: 56\n",
      "Episode 80: reward: 35.000, steps: 35\n",
      "Episode 81: reward: 53.000, steps: 53\n",
      "Episode 82: reward: 135.000, steps: 135\n",
      "Episode 83: reward: 59.000, steps: 59\n",
      "Episode 84: reward: 60.000, steps: 60\n",
      "Episode 85: reward: 120.000, steps: 120\n",
      "Episode 86: reward: 80.000, steps: 80\n",
      "Episode 87: reward: 85.000, steps: 85\n",
      "Episode 88: reward: 58.000, steps: 58\n",
      "Episode 89: reward: 80.000, steps: 80\n",
      "Episode 90: reward: 77.000, steps: 77\n",
      "Episode 91: reward: 58.000, steps: 58\n",
      "Episode 92: reward: 66.000, steps: 66\n",
      "Episode 93: reward: 68.000, steps: 68\n",
      "Episode 94: reward: 68.000, steps: 68\n",
      "Episode 95: reward: 77.000, steps: 77\n",
      "Episode 96: reward: 102.000, steps: 102\n",
      "Episode 97: reward: 130.000, steps: 130\n",
      "Episode 98: reward: 60.000, steps: 60\n",
      "Episode 99: reward: 119.000, steps: 119\n",
      "Episode 100: reward: 49.000, steps: 49\n",
      "73.35\n"
     ]
    }
   ],
   "source": [
    "scores = dqn.test(env, nb_episodes=100, visualize=False)\n",
    "print(np.mean(scores.history[\"episode_reward\"]))"
   ]
  },
  {
   "cell_type": "code",
   "execution_count": 26,
   "metadata": {},
   "outputs": [
    {
     "name": "stdout",
     "output_type": "stream",
     "text": [
      "Testing for 200 episodes ...\n",
      "Episode 1: reward: 47.000, steps: 47\n",
      "Episode 2: reward: 84.000, steps: 84\n",
      "Episode 3: reward: 84.000, steps: 84\n",
      "Episode 4: reward: 64.000, steps: 64\n",
      "Episode 5: reward: 116.000, steps: 116\n",
      "Episode 6: reward: 36.000, steps: 36\n",
      "Episode 7: reward: 46.000, steps: 46\n",
      "Episode 8: reward: 92.000, steps: 92\n",
      "Episode 9: reward: 41.000, steps: 41\n",
      "Episode 10: reward: 46.000, steps: 46\n",
      "Episode 11: reward: 112.000, steps: 112\n",
      "Episode 12: reward: 74.000, steps: 74\n",
      "Episode 13: reward: 151.000, steps: 151\n",
      "Episode 14: reward: 134.000, steps: 134\n",
      "Episode 15: reward: 51.000, steps: 51\n",
      "Episode 16: reward: 78.000, steps: 78\n",
      "Episode 17: reward: 66.000, steps: 66\n",
      "Episode 18: reward: 42.000, steps: 42\n",
      "Episode 19: reward: 70.000, steps: 70\n",
      "Episode 20: reward: 100.000, steps: 100\n",
      "Episode 21: reward: 56.000, steps: 56\n",
      "Episode 22: reward: 97.000, steps: 97\n",
      "Episode 23: reward: 130.000, steps: 130\n",
      "Episode 24: reward: 84.000, steps: 84\n",
      "Episode 25: reward: 40.000, steps: 40\n",
      "Episode 26: reward: 185.000, steps: 185\n",
      "Episode 27: reward: 40.000, steps: 40\n",
      "Episode 28: reward: 61.000, steps: 61\n",
      "Episode 29: reward: 105.000, steps: 105\n",
      "Episode 30: reward: 46.000, steps: 46\n",
      "Episode 31: reward: 88.000, steps: 88\n",
      "Episode 32: reward: 145.000, steps: 145\n",
      "Episode 33: reward: 48.000, steps: 48\n",
      "Episode 34: reward: 83.000, steps: 83\n",
      "Episode 35: reward: 57.000, steps: 57\n",
      "Episode 36: reward: 58.000, steps: 58\n",
      "Episode 37: reward: 121.000, steps: 121\n",
      "Episode 38: reward: 65.000, steps: 65\n",
      "Episode 39: reward: 53.000, steps: 53\n",
      "Episode 40: reward: 121.000, steps: 121\n",
      "Episode 41: reward: 111.000, steps: 111\n",
      "Episode 42: reward: 88.000, steps: 88\n",
      "Episode 43: reward: 42.000, steps: 42\n",
      "Episode 44: reward: 87.000, steps: 87\n",
      "Episode 45: reward: 39.000, steps: 39\n",
      "Episode 46: reward: 156.000, steps: 156\n",
      "Episode 47: reward: 62.000, steps: 62\n",
      "Episode 48: reward: 135.000, steps: 135\n",
      "Episode 49: reward: 50.000, steps: 50\n",
      "Episode 50: reward: 34.000, steps: 34\n",
      "Episode 51: reward: 58.000, steps: 58\n",
      "Episode 52: reward: 157.000, steps: 157\n",
      "Episode 53: reward: 51.000, steps: 51\n",
      "Episode 54: reward: 53.000, steps: 53\n",
      "Episode 55: reward: 47.000, steps: 47\n",
      "Episode 56: reward: 63.000, steps: 63\n",
      "Episode 57: reward: 117.000, steps: 117\n",
      "Episode 58: reward: 72.000, steps: 72\n",
      "Episode 59: reward: 88.000, steps: 88\n",
      "Episode 60: reward: 69.000, steps: 69\n",
      "Episode 61: reward: 78.000, steps: 78\n",
      "Episode 62: reward: 34.000, steps: 34\n",
      "Episode 63: reward: 58.000, steps: 58\n",
      "Episode 64: reward: 48.000, steps: 48\n",
      "Episode 65: reward: 161.000, steps: 161\n",
      "Episode 66: reward: 42.000, steps: 42\n",
      "Episode 67: reward: 54.000, steps: 54\n",
      "Episode 68: reward: 50.000, steps: 50\n",
      "Episode 69: reward: 88.000, steps: 88\n",
      "Episode 70: reward: 50.000, steps: 50\n",
      "Episode 71: reward: 82.000, steps: 82\n",
      "Episode 72: reward: 44.000, steps: 44\n",
      "Episode 73: reward: 88.000, steps: 88\n",
      "Episode 74: reward: 116.000, steps: 116\n",
      "Episode 75: reward: 62.000, steps: 62\n",
      "Episode 76: reward: 34.000, steps: 34\n",
      "Episode 77: reward: 68.000, steps: 68\n",
      "Episode 78: reward: 90.000, steps: 90\n",
      "Episode 79: reward: 58.000, steps: 58\n",
      "Episode 80: reward: 49.000, steps: 49\n",
      "Episode 81: reward: 70.000, steps: 70\n",
      "Episode 82: reward: 61.000, steps: 61\n",
      "Episode 83: reward: 82.000, steps: 82\n",
      "Episode 84: reward: 113.000, steps: 113\n",
      "Episode 85: reward: 36.000, steps: 36\n",
      "Episode 86: reward: 45.000, steps: 45\n",
      "Episode 87: reward: 78.000, steps: 78\n",
      "Episode 88: reward: 40.000, steps: 40\n",
      "Episode 89: reward: 86.000, steps: 86\n",
      "Episode 90: reward: 65.000, steps: 65\n",
      "Episode 91: reward: 45.000, steps: 45\n",
      "Episode 92: reward: 123.000, steps: 123\n",
      "Episode 93: reward: 35.000, steps: 35\n",
      "Episode 94: reward: 92.000, steps: 92\n",
      "Episode 95: reward: 54.000, steps: 54\n",
      "Episode 96: reward: 93.000, steps: 93\n",
      "Episode 97: reward: 93.000, steps: 93\n",
      "Episode 98: reward: 69.000, steps: 69\n",
      "Episode 99: reward: 57.000, steps: 57\n",
      "Episode 100: reward: 66.000, steps: 66\n",
      "Episode 101: reward: 56.000, steps: 56\n",
      "Episode 102: reward: 42.000, steps: 42\n",
      "Episode 103: reward: 44.000, steps: 44\n",
      "Episode 104: reward: 64.000, steps: 64\n",
      "Episode 105: reward: 64.000, steps: 64\n",
      "Episode 106: reward: 38.000, steps: 38\n",
      "Episode 107: reward: 70.000, steps: 70\n",
      "Episode 108: reward: 44.000, steps: 44\n",
      "Episode 109: reward: 58.000, steps: 58\n",
      "Episode 110: reward: 100.000, steps: 100\n",
      "Episode 111: reward: 45.000, steps: 45\n",
      "Episode 112: reward: 78.000, steps: 78\n",
      "Episode 113: reward: 131.000, steps: 131\n",
      "Episode 114: reward: 53.000, steps: 53\n",
      "Episode 115: reward: 90.000, steps: 90\n",
      "Episode 116: reward: 51.000, steps: 51\n",
      "Episode 117: reward: 62.000, steps: 62\n",
      "Episode 118: reward: 45.000, steps: 45\n",
      "Episode 119: reward: 47.000, steps: 47\n",
      "Episode 120: reward: 45.000, steps: 45\n",
      "Episode 121: reward: 41.000, steps: 41\n",
      "Episode 122: reward: 45.000, steps: 45\n",
      "Episode 123: reward: 87.000, steps: 87\n",
      "Episode 124: reward: 37.000, steps: 37\n",
      "Episode 125: reward: 102.000, steps: 102\n",
      "Episode 126: reward: 34.000, steps: 34\n",
      "Episode 127: reward: 85.000, steps: 85\n",
      "Episode 128: reward: 62.000, steps: 62\n",
      "Episode 129: reward: 100.000, steps: 100\n",
      "Episode 130: reward: 80.000, steps: 80\n",
      "Episode 131: reward: 56.000, steps: 56\n",
      "Episode 132: reward: 66.000, steps: 66\n",
      "Episode 133: reward: 44.000, steps: 44\n",
      "Episode 134: reward: 60.000, steps: 60\n",
      "Episode 135: reward: 42.000, steps: 42\n",
      "Episode 136: reward: 68.000, steps: 68\n",
      "Episode 137: reward: 97.000, steps: 97\n",
      "Episode 138: reward: 41.000, steps: 41\n",
      "Episode 139: reward: 73.000, steps: 73\n",
      "Episode 140: reward: 76.000, steps: 76\n",
      "Episode 141: reward: 59.000, steps: 59\n",
      "Episode 142: reward: 50.000, steps: 50\n",
      "Episode 143: reward: 48.000, steps: 48\n",
      "Episode 144: reward: 59.000, steps: 59\n",
      "Episode 145: reward: 46.000, steps: 46\n",
      "Episode 146: reward: 106.000, steps: 106\n",
      "Episode 147: reward: 38.000, steps: 38\n",
      "Episode 148: reward: 94.000, steps: 94\n",
      "Episode 149: reward: 126.000, steps: 126\n",
      "Episode 150: reward: 117.000, steps: 117\n",
      "Episode 151: reward: 84.000, steps: 84\n",
      "Episode 152: reward: 200.000, steps: 200\n",
      "Episode 153: reward: 63.000, steps: 63\n",
      "Episode 154: reward: 70.000, steps: 70\n",
      "Episode 155: reward: 101.000, steps: 101\n",
      "Episode 156: reward: 73.000, steps: 73\n",
      "Episode 157: reward: 65.000, steps: 65\n",
      "Episode 158: reward: 42.000, steps: 42\n",
      "Episode 159: reward: 120.000, steps: 120\n",
      "Episode 160: reward: 41.000, steps: 41\n",
      "Episode 161: reward: 120.000, steps: 120\n",
      "Episode 162: reward: 73.000, steps: 73\n",
      "Episode 163: reward: 101.000, steps: 101\n",
      "Episode 164: reward: 40.000, steps: 40\n",
      "Episode 165: reward: 48.000, steps: 48\n",
      "Episode 166: reward: 60.000, steps: 60\n",
      "Episode 167: reward: 61.000, steps: 61\n",
      "Episode 168: reward: 55.000, steps: 55\n",
      "Episode 169: reward: 110.000, steps: 110\n",
      "Episode 170: reward: 78.000, steps: 78\n",
      "Episode 171: reward: 59.000, steps: 59\n",
      "Episode 172: reward: 48.000, steps: 48\n",
      "Episode 173: reward: 94.000, steps: 94\n",
      "Episode 174: reward: 84.000, steps: 84\n",
      "Episode 175: reward: 42.000, steps: 42\n",
      "Episode 176: reward: 84.000, steps: 84\n",
      "Episode 177: reward: 116.000, steps: 116\n",
      "Episode 178: reward: 58.000, steps: 58\n",
      "Episode 179: reward: 59.000, steps: 59\n",
      "Episode 180: reward: 116.000, steps: 116\n",
      "Episode 181: reward: 41.000, steps: 41\n",
      "Episode 182: reward: 80.000, steps: 80\n",
      "Episode 183: reward: 54.000, steps: 54\n",
      "Episode 184: reward: 98.000, steps: 98\n",
      "Episode 185: reward: 53.000, steps: 53\n",
      "Episode 186: reward: 64.000, steps: 64\n",
      "Episode 187: reward: 80.000, steps: 80\n",
      "Episode 188: reward: 79.000, steps: 79\n",
      "Episode 189: reward: 69.000, steps: 69\n",
      "Episode 190: reward: 66.000, steps: 66\n",
      "Episode 191: reward: 88.000, steps: 88\n",
      "Episode 192: reward: 104.000, steps: 104\n",
      "Episode 193: reward: 77.000, steps: 77\n",
      "Episode 194: reward: 78.000, steps: 78\n",
      "Episode 195: reward: 72.000, steps: 72\n",
      "Episode 196: reward: 124.000, steps: 124\n",
      "Episode 197: reward: 91.000, steps: 91\n",
      "Episode 198: reward: 52.000, steps: 52\n",
      "Episode 199: reward: 89.000, steps: 89\n",
      "Episode 200: reward: 63.000, steps: 63\n"
     ]
    }
   ],
   "source": [
    "_ = dqn.test(env, nb_episodes=15, visualize=True)"
   ]
  },
  {
   "cell_type": "code",
   "execution_count": null,
   "metadata": {},
   "outputs": [],
   "source": []
  }
 ],
 "metadata": {
  "interpreter": {
   "hash": "291d700669bd43c54f0c30a4fcf2f5d664ab06a34b2f6283f605dda78815dbcc"
  },
  "kernelspec": {
   "display_name": "Python 3.9.5 ('env': venv)",
   "language": "python",
   "name": "python3"
  },
  "language_info": {
   "codemirror_mode": {
    "name": "ipython",
    "version": 3
   },
   "file_extension": ".py",
   "mimetype": "text/x-python",
   "name": "python",
   "nbconvert_exporter": "python",
   "pygments_lexer": "ipython3",
   "version": "3.10.4"
  },
  "orig_nbformat": 4
 },
 "nbformat": 4,
 "nbformat_minor": 2
}
