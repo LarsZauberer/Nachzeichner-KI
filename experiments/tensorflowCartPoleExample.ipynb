{
  "cells": [
    {
      "cell_type": "markdown",
      "metadata": {
        "id": "klGNgWREsvQv"
      },
      "source": [
        "##### Copyright 2021 The TF-Agents Authors."
      ]
    },
    {
      "cell_type": "code",
      "execution_count": null,
      "metadata": {
        "cellView": "form",
        "id": "nQnmcm0oI1Q-"
      },
      "outputs": [],
      "source": [
        "#@title Licensed under the Apache License, Version 2.0 (the \"License\");\n",
        "# you may not use this file except in compliance with the License.\n",
        "# You may obtain a copy of the License at\n",
        "#\n",
        "# https://www.apache.org/licenses/LICENSE-2.0\n",
        "#\n",
        "# Unless required by applicable law or agreed to in writing, software\n",
        "# distributed under the License is distributed on an \"AS IS\" BASIS,\n",
        "# WITHOUT WARRANTIES OR CONDITIONS OF ANY KIND, either express or implied.\n",
        "# See the License for the specific language governing permissions and\n",
        "# limitations under the License."
      ]
    },
    {
      "cell_type": "markdown",
      "metadata": {
        "id": "pmDI-h7cI0tI"
      },
      "source": [
        "# Train a Deep Q Network with TF-Agents\n",
        "\n",
        "<table class=\"tfo-notebook-buttons\" align=\"left\">\n",
        "  <td>\n",
        "    <a target=\"_blank\" href=\"https://www.tensorflow.org/agents/tutorials/1_dqn_tutorial\">\n",
        "    <img src=\"https://www.tensorflow.org/images/tf_logo_32px.png\" />\n",
        "    View on TensorFlow.org</a>\n",
        "  </td>\n",
        "  <td>\n",
        "    <a target=\"_blank\" href=\"https://colab.research.google.com/github/tensorflow/agents/blob/master/docs/tutorials/1_dqn_tutorial.ipynb\">\n",
        "    <img src=\"https://www.tensorflow.org/images/colab_logo_32px.png\" />\n",
        "    Run in Google Colab</a>\n",
        "  </td>\n",
        "  <td>\n",
        "    <a target=\"_blank\" href=\"https://github.com/tensorflow/agents/blob/master/docs/tutorials/1_dqn_tutorial.ipynb\">\n",
        "    <img src=\"https://www.tensorflow.org/images/GitHub-Mark-32px.png\" />\n",
        "    View source on GitHub</a>\n",
        "  </td>\n",
        "  <td>\n",
        "    <a href=\"https://storage.googleapis.com/tensorflow_docs/agents/docs/tutorials/1_dqn_tutorial.ipynb\"><img src=\"https://www.tensorflow.org/images/download_logo_32px.png\" />Download notebook</a>\n",
        "  </td>\n",
        "</table>"
      ]
    },
    {
      "cell_type": "markdown",
      "metadata": {
        "id": "lsaQlK8fFQqH"
      },
      "source": [
        "## Introduction\n"
      ]
    },
    {
      "cell_type": "markdown",
      "metadata": {
        "id": "cKOCZlhUgXVK"
      },
      "source": [
        "This example shows how to train a [DQN (Deep Q Networks)](https://storage.googleapis.com/deepmind-media/dqn/DQNNaturePaper.pdf)  agent on the Cartpole environment using the TF-Agents library.\n",
        "\n",
        "![Cartpole environment](https://raw.githubusercontent.com/tensorflow/agents/master/docs/tutorials/images/cartpole.png)\n",
        "\n",
        "It will walk you through all the components in a Reinforcement Learning (RL) pipeline for training, evaluation and data collection.\n",
        "\n",
        "\n",
        "To run this code live, click the 'Run in Google Colab' link above.\n"
      ]
    },
    {
      "cell_type": "markdown",
      "metadata": {
        "id": "1u9QVVsShC9X"
      },
      "source": [
        "## Setup"
      ]
    },
    {
      "cell_type": "markdown",
      "metadata": {
        "id": "kNrNXKI7bINP"
      },
      "source": [
        "If you haven't installed the following dependencies, run:"
      ]
    },
    {
      "cell_type": "code",
      "execution_count": null,
      "metadata": {
        "id": "KEHR2Ui-lo8O"
      },
      "outputs": [],
      "source": [
        "!sudo apt-get update\n",
        "!sudo apt-get install -y xvfb ffmpeg freeglut3-dev\n",
        "!pip install 'imageio==2.4.0'\n",
        "!pip install pyvirtualdisplay\n",
        "!pip install tf-agents[reverb]\n",
        "!pip install pyglet"
      ]
    },
    {
      "cell_type": "code",
      "execution_count": 1,
      "metadata": {
        "id": "sMitx5qSgJk1"
      },
      "outputs": [],
      "source": [
        "from __future__ import absolute_import, division, print_function\n",
        "\n",
        "import base64\n",
        "''' import imageio\n",
        "import IPython '''\n",
        "''' import matplotlib\n",
        "import matplotlib.pyplot as plt '''\n",
        "import numpy as np\n",
        "''' import PIL.Image '''\n",
        "# import pyvirtualdisplay\n",
        "import reverb\n",
        "\n",
        "import tensorflow as tf\n",
        "\n",
        "from tf_agents.agents.dqn import dqn_agent\n",
        "from tf_agents.drivers import py_driver\n",
        "from tf_agents.environments import suite_gym\n",
        "from tf_agents.environments import tf_py_environment\n",
        "from tf_agents.eval import metric_utils\n",
        "from tf_agents.metrics import tf_metrics\n",
        "from tf_agents.networks import sequential\n",
        "from tf_agents.policies import py_tf_eager_policy\n",
        "from tf_agents.policies import random_tf_policy\n",
        "from tf_agents.replay_buffers import reverb_replay_buffer\n",
        "from tf_agents.replay_buffers import reverb_utils\n",
        "from tf_agents.trajectories import trajectory\n",
        "from tf_agents.specs import tensor_spec\n",
        "from tf_agents.utils import common"
      ]
    },
    {
      "cell_type": "code",
      "execution_count": null,
      "metadata": {
        "id": "J6HsdS5GbSjd"
      },
      "outputs": [],
      "source": [
        "# Set up a virtual display for rendering OpenAI gym environments.\n",
        "display = pyvirtualdisplay.Display(visible=0, size=(1400, 900)).start()"
      ]
    },
    {
      "cell_type": "code",
      "execution_count": null,
      "metadata": {
        "id": "NspmzG4nP3b9"
      },
      "outputs": [],
      "source": [
        "tf.version.VERSION"
      ]
    },
    {
      "cell_type": "markdown",
      "metadata": {
        "id": "LmC0NDhdLIKY"
      },
      "source": [
        "## Hyperparameters"
      ]
    },
    {
      "cell_type": "code",
      "execution_count": 2,
      "metadata": {
        "id": "HC1kNrOsLSIZ"
      },
      "outputs": [],
      "source": [
        "num_iterations = 20000 # @param {type:\"integer\"}\n",
        "\n",
        "initial_collect_steps = 100  # @param {type:\"integer\"}\n",
        "collect_steps_per_iteration =   1# @param {type:\"integer\"}\n",
        "replay_buffer_max_length = 100000  # @param {type:\"integer\"}\n",
        "\n",
        "batch_size = 64  # @param {type:\"integer\"}\n",
        "learning_rate = 1e-3  # @param {type:\"number\"}\n",
        "log_interval = 200  # @param {type:\"integer\"}\n",
        "\n",
        "num_eval_episodes = 10  # @param {type:\"integer\"}\n",
        "eval_interval = 1000  # @param {type:\"integer\"}"
      ]
    },
    {
      "cell_type": "markdown",
      "metadata": {
        "id": "VMsJC3DEgI0x"
      },
      "source": [
        "## Environment\n",
        "\n",
        "In Reinforcement Learning (RL), an environment represents the task or problem to be solved. Standard environments can be created in TF-Agents using `tf_agents.environments` suites. TF-Agents has suites for loading environments from sources such as the OpenAI Gym, Atari, and DM Control.\n",
        "\n",
        "Load the CartPole environment from the OpenAI Gym suite. "
      ]
    },
    {
      "cell_type": "code",
      "execution_count": 3,
      "metadata": {
        "id": "pYEz-S9gEv2-"
      },
      "outputs": [],
      "source": [
        "env_name = 'CartPole-v0'\n",
        "env = suite_gym.load(env_name)"
      ]
    },
    {
      "cell_type": "markdown",
      "metadata": {
        "id": "IIHYVBkuvPNw"
      },
      "source": [
        "You can render this environment to see how it looks. A free-swinging pole is attached to a cart.  The goal is to move the cart right or left in order to keep the pole pointing up."
      ]
    },
    {
      "cell_type": "code",
      "execution_count": null,
      "metadata": {
        "id": "RlO7WIQHu_7D"
      },
      "outputs": [],
      "source": [
        "#@test {\"skip\": true}\n",
        "env.reset()\n",
        "PIL.Image.fromarray(env.render())"
      ]
    },
    {
      "cell_type": "markdown",
      "metadata": {
        "id": "B9_lskPOey18"
      },
      "source": [
        "The `environment.step` method takes an `action` in the environment and returns a `TimeStep` tuple containing the next observation of the environment and the reward for the action.\n",
        "\n",
        "The `time_step_spec()` method returns the specification for the `TimeStep` tuple. Its `observation` attribute shows the shape of observations, the data types, and the ranges of allowed values. The `reward` attribute shows the same details for the reward.\n"
      ]
    },
    {
      "cell_type": "code",
      "execution_count": 4,
      "metadata": {
        "id": "exDv57iHfwQV"
      },
      "outputs": [
        {
          "name": "stdout",
          "output_type": "stream",
          "text": [
            "Observation Spec:\n",
            "BoundedArraySpec(shape=(4,), dtype=dtype('float32'), name='observation', minimum=[-4.8000002e+00 -3.4028235e+38 -4.1887903e-01 -3.4028235e+38], maximum=[4.8000002e+00 3.4028235e+38 4.1887903e-01 3.4028235e+38])\n"
          ]
        }
      ],
      "source": [
        "print('Observation Spec:')\n",
        "print(env.time_step_spec().observation)"
      ]
    },
    {
      "cell_type": "code",
      "execution_count": 6,
      "metadata": {
        "id": "UxiSyCbBUQPi"
      },
      "outputs": [
        {
          "name": "stdout",
          "output_type": "stream",
          "text": [
            "Reward Spec:\n",
            "ArraySpec(shape=(), dtype=dtype('float32'), name='reward')\n"
          ]
        }
      ],
      "source": [
        "print('Reward Spec:')\n",
        "print(env.time_step_spec().reward)"
      ]
    },
    {
      "cell_type": "markdown",
      "metadata": {
        "id": "b_lHcIcqUaqB"
      },
      "source": [
        "The `action_spec()` method returns the shape, data types, and allowed values of valid actions."
      ]
    },
    {
      "cell_type": "code",
      "execution_count": 7,
      "metadata": {
        "id": "bttJ4uxZUQBr"
      },
      "outputs": [
        {
          "name": "stdout",
          "output_type": "stream",
          "text": [
            "Action Spec:\n",
            "BoundedArraySpec(shape=(), dtype=dtype('int64'), name='action', minimum=0, maximum=1)\n"
          ]
        }
      ],
      "source": [
        "print('Action Spec:')\n",
        "print(env.action_spec())"
      ]
    },
    {
      "cell_type": "code",
      "execution_count": 5,
      "metadata": {},
      "outputs": [
        {
          "data": {
            "text/plain": [
              "TimeStep(\n",
              "{'discount': array(1., dtype=float32),\n",
              " 'observation': array([ 0.03566408, -0.03031884,  0.0020799 ,  0.02870299], dtype=float32),\n",
              " 'reward': array(0., dtype=float32),\n",
              " 'step_type': array(0, dtype=int32)})"
            ]
          },
          "execution_count": 5,
          "metadata": {},
          "output_type": "execute_result"
        }
      ],
      "source": [
        "env.reset()"
      ]
    },
    {
      "cell_type": "markdown",
      "metadata": {
        "id": "eJCgJnx3g0yY"
      },
      "source": [
        "In the Cartpole environment:\n",
        "\n",
        "-   `observation` is an array of 4 floats: \n",
        "    -   the position and velocity of the cart\n",
        "    -   the angular position and velocity of the pole \n",
        "-   `reward` is a scalar float value\n",
        "-   `action` is a scalar integer with only two possible values:\n",
        "    -   `0` — \"move left\"\n",
        "    -   `1` — \"move right\"\n"
      ]
    },
    {
      "cell_type": "code",
      "execution_count": 9,
      "metadata": {
        "id": "V2UGR5t_iZX-"
      },
      "outputs": [
        {
          "name": "stdout",
          "output_type": "stream",
          "text": [
            "Time step:\n",
            "TimeStep(\n",
            "{'discount': array(1., dtype=float32),\n",
            " 'observation': array([-0.0409311 , -0.02224529,  0.03924685,  0.01059242], dtype=float32),\n",
            " 'reward': array(0., dtype=float32),\n",
            " 'step_type': array(0, dtype=int32)})\n",
            "Next time step:\n",
            "TimeStep(\n",
            "{'discount': array(1., dtype=float32),\n",
            " 'observation': array([-0.041376  ,  0.17229247,  0.0394587 , -0.2694539 ], dtype=float32),\n",
            " 'reward': array(1., dtype=float32),\n",
            " 'step_type': array(1, dtype=int32)})\n"
          ]
        }
      ],
      "source": [
        "time_step = env.reset()\n",
        "print('Time step:')\n",
        "print(time_step)\n",
        "\n",
        "action = np.array(1, dtype=np.int32)\n",
        "\n",
        "next_time_step = env.step(action)\n",
        "print('Next time step:')\n",
        "print(next_time_step)"
      ]
    },
    {
      "cell_type": "markdown",
      "metadata": {
        "id": "4JSc9GviWUBK"
      },
      "source": [
        "Usually two environments are instantiated: one for training and one for evaluation. "
      ]
    },
    {
      "cell_type": "code",
      "execution_count": 8,
      "metadata": {
        "id": "N7brXNIGWXjC"
      },
      "outputs": [],
      "source": [
        "train_py_env = suite_gym.load(env_name)\n",
        "eval_py_env = suite_gym.load(env_name)"
      ]
    },
    {
      "cell_type": "markdown",
      "metadata": {
        "id": "zuUqXAVmecTU"
      },
      "source": [
        "The Cartpole environment, like most environments, is written in pure Python. This is converted to TensorFlow using the `TFPyEnvironment` wrapper.\n",
        "\n",
        "The original environment's API uses Numpy arrays. The `TFPyEnvironment` converts these to `Tensors` to make it compatible with Tensorflow agents and policies.\n"
      ]
    },
    {
      "cell_type": "code",
      "execution_count": 9,
      "metadata": {
        "id": "Xp-Y4mD6eDhF"
      },
      "outputs": [],
      "source": [
        "train_env = tf_py_environment.TFPyEnvironment(train_py_env)\n",
        "eval_env = tf_py_environment.TFPyEnvironment(eval_py_env)"
      ]
    },
    {
      "cell_type": "code",
      "execution_count": 10,
      "metadata": {},
      "outputs": [
        {
          "name": "stderr",
          "output_type": "stream",
          "text": [
            "2022-04-16 18:10:52.393709: E tensorflow/stream_executor/cuda/cuda_driver.cc:271] failed call to cuInit: UNKNOWN ERROR (100)\n",
            "2022-04-16 18:10:52.393750: I tensorflow/stream_executor/cuda/cuda_diagnostics.cc:156] kernel driver does not appear to be running on this host (DESKTOP-ORA727V): /proc/driver/nvidia/version does not exist\n",
            "2022-04-16 18:10:52.394088: I tensorflow/core/platform/cpu_feature_guard.cc:151] This TensorFlow binary is optimized with oneAPI Deep Neural Network Library (oneDNN) to use the following CPU instructions in performance-critical operations:  AVX2 FMA\n",
            "To enable them in other operations, rebuild TensorFlow with the appropriate compiler flags.\n"
          ]
        },
        {
          "data": {
            "text/plain": [
              "TimeStep(\n",
              "{'discount': <tf.Tensor: shape=(1,), dtype=float32, numpy=array([1.], dtype=float32)>,\n",
              " 'observation': <tf.Tensor: shape=(1, 4), dtype=float32, numpy=\n",
              "array([[-0.03936814, -0.00213329,  0.04310388,  0.00176332]],\n",
              "      dtype=float32)>,\n",
              " 'reward': <tf.Tensor: shape=(1,), dtype=float32, numpy=array([0.], dtype=float32)>,\n",
              " 'step_type': <tf.Tensor: shape=(1,), dtype=int32, numpy=array([0], dtype=int32)>})"
            ]
          },
          "execution_count": 10,
          "metadata": {},
          "output_type": "execute_result"
        }
      ],
      "source": [
        "eval_env.reset()"
      ]
    },
    {
      "cell_type": "code",
      "execution_count": 11,
      "metadata": {},
      "outputs": [
        {
          "data": {
            "text/plain": [
              "TimeStep(\n",
              "{'discount': BoundedTensorSpec(shape=(), dtype=tf.float32, name='discount', minimum=array(0., dtype=float32), maximum=array(1., dtype=float32)),\n",
              " 'observation': BoundedTensorSpec(shape=(4,), dtype=tf.float32, name='observation', minimum=array([-4.8000002e+00, -3.4028235e+38, -4.1887903e-01, -3.4028235e+38],\n",
              "      dtype=float32), maximum=array([4.8000002e+00, 3.4028235e+38, 4.1887903e-01, 3.4028235e+38],\n",
              "      dtype=float32)),\n",
              " 'reward': TensorSpec(shape=(), dtype=tf.float32, name='reward'),\n",
              " 'step_type': TensorSpec(shape=(), dtype=tf.int32, name='step_type')})"
            ]
          },
          "execution_count": 11,
          "metadata": {},
          "output_type": "execute_result"
        }
      ],
      "source": [
        "eval_env.time_step_spec()"
      ]
    },
    {
      "cell_type": "code",
      "execution_count": 13,
      "metadata": {},
      "outputs": [
        {
          "name": "stderr",
          "output_type": "stream",
          "text": [
            "/mnt/c/GitHub/Nachzeichner-KI/env/lib/python3.8/site-packages/tf_agents/environments/wrappers.py:337: SyntaxWarning: \"is\" with a literal. Did you mean \"==\"?\n",
            "  if s.shape is ():  # pylint: disable=literal-comparison\n",
            "/mnt/c/GitHub/Nachzeichner-KI/env/lib/python3.8/site-packages/tf_agents/environments/wrappers.py:337: SyntaxWarning: \"is\" with a literal. Did you mean \"==\"?\n",
            "  if s.shape is ():  # pylint: disable=literal-comparison\n"
          ]
        },
        {
          "ename": "AttributeError",
          "evalue": "attempted to get missing private attribute '_state'",
          "output_type": "error",
          "traceback": [
            "\u001b[0;31m---------------------------------------------------------------------------\u001b[0m",
            "\u001b[0;31mAttributeError\u001b[0m                            Traceback (most recent call last)",
            "\u001b[1;32m/mnt/c/GitHub/Nachzeichner-KI/experiments/tensorflowCartPoleExample.ipynb Cell 32'\u001b[0m in \u001b[0;36m<cell line: 1>\u001b[0;34m()\u001b[0m\n\u001b[0;32m----> <a href='vscode-notebook-cell://wsl%2Bubuntu-20.04/mnt/c/GitHub/Nachzeichner-KI/experiments/tensorflowCartPoleExample.ipynb#ch0000072vscode-remote?line=0'>1</a>\u001b[0m eval_py_env\u001b[39m.\u001b[39;49m_state\n",
            "File \u001b[0;32m/mnt/c/GitHub/Nachzeichner-KI/env/lib/python3.8/site-packages/tf_agents/environments/wrappers.py:55\u001b[0m, in \u001b[0;36mPyEnvironmentBaseWrapper.__getattr__\u001b[0;34m(self, name)\u001b[0m\n\u001b[1;32m     <a href='file:///mnt/c/GitHub/Nachzeichner-KI/env/lib/python3.8/site-packages/tf_agents/environments/wrappers.py?line=52'>53</a>\u001b[0m \u001b[39mdef\u001b[39;00m \u001b[39m__getattr__\u001b[39m(\u001b[39mself\u001b[39m, name: Text):\n\u001b[1;32m     <a href='file:///mnt/c/GitHub/Nachzeichner-KI/env/lib/python3.8/site-packages/tf_agents/environments/wrappers.py?line=53'>54</a>\u001b[0m   \u001b[39m\"\"\"Forward all other calls to the base environment.\"\"\"\u001b[39;00m\n\u001b[0;32m---> <a href='file:///mnt/c/GitHub/Nachzeichner-KI/env/lib/python3.8/site-packages/tf_agents/environments/wrappers.py?line=54'>55</a>\u001b[0m   \u001b[39mreturn\u001b[39;00m \u001b[39mgetattr\u001b[39;49m(\u001b[39mself\u001b[39;49m\u001b[39m.\u001b[39;49m_env, name)\n",
            "File \u001b[0;32m/mnt/c/GitHub/Nachzeichner-KI/env/lib/python3.8/site-packages/tf_agents/environments/gym_wrapper.py:183\u001b[0m, in \u001b[0;36mGymWrapper.__getattr__\u001b[0;34m(self, name)\u001b[0m\n\u001b[1;32m    <a href='file:///mnt/c/GitHub/Nachzeichner-KI/env/lib/python3.8/site-packages/tf_agents/environments/gym_wrapper.py?line=180'>181</a>\u001b[0m \u001b[39m\"\"\"Forward all other calls to the base environment.\"\"\"\u001b[39;00m\n\u001b[1;32m    <a href='file:///mnt/c/GitHub/Nachzeichner-KI/env/lib/python3.8/site-packages/tf_agents/environments/gym_wrapper.py?line=181'>182</a>\u001b[0m gym_env \u001b[39m=\u001b[39m \u001b[39msuper\u001b[39m(GymWrapper, \u001b[39mself\u001b[39m)\u001b[39m.\u001b[39m\u001b[39m__getattribute__\u001b[39m(\u001b[39m'\u001b[39m\u001b[39m_gym_env\u001b[39m\u001b[39m'\u001b[39m)\n\u001b[0;32m--> <a href='file:///mnt/c/GitHub/Nachzeichner-KI/env/lib/python3.8/site-packages/tf_agents/environments/gym_wrapper.py?line=182'>183</a>\u001b[0m \u001b[39mreturn\u001b[39;00m \u001b[39mgetattr\u001b[39;49m(gym_env, name)\n",
            "File \u001b[0;32m/mnt/c/GitHub/Nachzeichner-KI/env/lib/python3.8/site-packages/gym/core.py:228\u001b[0m, in \u001b[0;36mWrapper.__getattr__\u001b[0;34m(self, name)\u001b[0m\n\u001b[1;32m    <a href='file:///mnt/c/GitHub/Nachzeichner-KI/env/lib/python3.8/site-packages/gym/core.py?line=225'>226</a>\u001b[0m \u001b[39mdef\u001b[39;00m \u001b[39m__getattr__\u001b[39m(\u001b[39mself\u001b[39m, name):\n\u001b[1;32m    <a href='file:///mnt/c/GitHub/Nachzeichner-KI/env/lib/python3.8/site-packages/gym/core.py?line=226'>227</a>\u001b[0m     \u001b[39mif\u001b[39;00m name\u001b[39m.\u001b[39mstartswith(\u001b[39m\"\u001b[39m\u001b[39m_\u001b[39m\u001b[39m\"\u001b[39m):\n\u001b[0;32m--> <a href='file:///mnt/c/GitHub/Nachzeichner-KI/env/lib/python3.8/site-packages/gym/core.py?line=227'>228</a>\u001b[0m         \u001b[39mraise\u001b[39;00m \u001b[39mAttributeError\u001b[39;00m(\u001b[39mf\u001b[39m\u001b[39m\"\u001b[39m\u001b[39mattempted to get missing private attribute \u001b[39m\u001b[39m'\u001b[39m\u001b[39m{\u001b[39;00mname\u001b[39m}\u001b[39;00m\u001b[39m'\u001b[39m\u001b[39m\"\u001b[39m)\n\u001b[1;32m    <a href='file:///mnt/c/GitHub/Nachzeichner-KI/env/lib/python3.8/site-packages/gym/core.py?line=228'>229</a>\u001b[0m     \u001b[39mreturn\u001b[39;00m \u001b[39mgetattr\u001b[39m(\u001b[39mself\u001b[39m\u001b[39m.\u001b[39menv, name)\n",
            "\u001b[0;31mAttributeError\u001b[0m: attempted to get missing private attribute '_state'"
          ]
        }
      ],
      "source": [
        "eval_py_env._state"
      ]
    },
    {
      "cell_type": "markdown",
      "metadata": {
        "id": "E9lW_OZYFR8A"
      },
      "source": [
        "## Agent\n",
        "\n",
        "The algorithm used to solve an RL problem is represented by an `Agent`. TF-Agents provides standard implementations of a variety of `Agents`, including:\n",
        "\n",
        "-   [DQN](https://storage.googleapis.com/deepmind-media/dqn/DQNNaturePaper.pdf) (used in this tutorial)\n",
        "-   [REINFORCE](https://www-anw.cs.umass.edu/~barto/courses/cs687/williams92simple.pdf)\n",
        "-   [DDPG](https://arxiv.org/pdf/1509.02971.pdf)\n",
        "-   [TD3](https://arxiv.org/pdf/1802.09477.pdf)\n",
        "-   [PPO](https://arxiv.org/abs/1707.06347)\n",
        "-   [SAC](https://arxiv.org/abs/1801.01290)\n",
        "\n",
        "The DQN agent can be used in any environment which has a discrete action space.\n",
        "\n",
        "At the heart of a DQN Agent is a `QNetwork`, a neural network model that can learn to predict `QValues` (expected returns) for all actions, given an observation from the environment.\n",
        "\n",
        "We will use `tf_agents.networks.` to create a `QNetwork`. The network will consist of a sequence of `tf.keras.layers.Dense` layers, where the final layer will have 1 output for each possible action."
      ]
    },
    {
      "cell_type": "code",
      "execution_count": 12,
      "metadata": {
        "id": "TgkdEPg_muzV"
      },
      "outputs": [],
      "source": [
        "fc_layer_params = (100, 50)\n",
        "action_tensor_spec = tensor_spec.from_spec(env.action_spec())\n",
        "num_actions = action_tensor_spec.maximum - action_tensor_spec.minimum + 1\n",
        "\n",
        "# Define a helper function to create Dense layers configured with the right\n",
        "# activation and kernel initializer.\n",
        "def dense_layer(num_units):\n",
        "  return tf.keras.layers.Dense(\n",
        "      num_units,\n",
        "      activation=tf.keras.activations.relu,\n",
        "      kernel_initializer=tf.keras.initializers.VarianceScaling(\n",
        "          scale=2.0, mode='fan_in', distribution='truncated_normal'))\n",
        "\n",
        "# QNetwork consists of a sequence of Dense layers followed by a dense layer\n",
        "# with `num_actions` units to generate one q_value per available action as\n",
        "# its output.\n",
        "dense_layers = [dense_layer(num_units) for num_units in fc_layer_params]\n",
        "q_values_layer = tf.keras.layers.Dense(\n",
        "    num_actions,\n",
        "    activation=None,\n",
        "    kernel_initializer=tf.keras.initializers.RandomUniform(\n",
        "        minval=-0.03, maxval=0.03),\n",
        "    bias_initializer=tf.keras.initializers.Constant(-0.2))\n",
        "q_net = sequential.Sequential(dense_layers + [q_values_layer])"
      ]
    },
    {
      "cell_type": "markdown",
      "metadata": {
        "id": "z62u55hSmviJ"
      },
      "source": [
        "Now use `tf_agents.agents.dqn.dqn_agent` to instantiate a `DqnAgent`. In addition to the `time_step_spec`, `action_spec` and the QNetwork, the agent constructor also requires an optimizer (in this case, `AdamOptimizer`), a loss function, and an integer step counter."
      ]
    },
    {
      "cell_type": "code",
      "execution_count": 13,
      "metadata": {
        "id": "jbY4yrjTEyc9"
      },
      "outputs": [
        {
          "name": "stderr",
          "output_type": "stream",
          "text": [
            "2022-04-16 09:17:26.928763: E tensorflow/stream_executor/cuda/cuda_driver.cc:271] failed call to cuInit: UNKNOWN ERROR (100)\n",
            "2022-04-16 09:17:26.928804: I tensorflow/stream_executor/cuda/cuda_diagnostics.cc:156] kernel driver does not appear to be running on this host (DESKTOP-ORA727V): /proc/driver/nvidia/version does not exist\n",
            "2022-04-16 09:17:26.930143: I tensorflow/core/platform/cpu_feature_guard.cc:151] This TensorFlow binary is optimized with oneAPI Deep Neural Network Library (oneDNN) to use the following CPU instructions in performance-critical operations:  AVX2 FMA\n",
            "To enable them in other operations, rebuild TensorFlow with the appropriate compiler flags.\n"
          ]
        }
      ],
      "source": [
        "optimizer = tf.keras.optimizers.Adam(learning_rate=learning_rate)\n",
        "\n",
        "train_step_counter = tf.Variable(0)\n",
        "\n",
        "agent = dqn_agent.DqnAgent(\n",
        "    train_env.time_step_spec(),\n",
        "    train_env.action_spec(),\n",
        "    q_network=q_net,\n",
        "    optimizer=optimizer,\n",
        "    td_errors_loss_fn=common.element_wise_squared_loss,\n",
        "    train_step_counter=train_step_counter)\n",
        "\n",
        "agent.initialize()"
      ]
    },
    {
      "cell_type": "markdown",
      "metadata": {
        "id": "I0KLrEPwkn5x"
      },
      "source": [
        "## Policies\n",
        "\n",
        "A policy defines the way an agent acts in an environment. Typically, the goal of reinforcement learning is to train the underlying model until the policy produces the desired outcome.\n",
        "\n",
        "In this tutorial:\n",
        "\n",
        "-   The desired outcome is keeping the pole balanced upright over the cart.\n",
        "-   The policy returns an action (left or right) for each `time_step` observation.\n",
        "\n",
        "Agents contain two policies: \n",
        "\n",
        "-   `agent.policy` — The main policy that is used for evaluation and deployment.\n",
        "-   `agent.collect_policy` — A second policy that is used for data collection.\n"
      ]
    },
    {
      "cell_type": "code",
      "execution_count": 14,
      "metadata": {
        "id": "BwY7StuMkuV4"
      },
      "outputs": [],
      "source": [
        "eval_policy = agent.policy\n",
        "collect_policy = agent.collect_policy"
      ]
    },
    {
      "cell_type": "markdown",
      "metadata": {
        "id": "2Qs1Fl3dV0ae"
      },
      "source": [
        "Policies can be created independently of agents. For example, use `tf_agents.policies.random_tf_policy` to create a policy which will randomly select an action for each `time_step`."
      ]
    },
    {
      "cell_type": "code",
      "execution_count": 15,
      "metadata": {
        "id": "HE37-UCIrE69"
      },
      "outputs": [],
      "source": [
        "random_policy = random_tf_policy.RandomTFPolicy(train_env.time_step_spec(),\n",
        "                                                train_env.action_spec())"
      ]
    },
    {
      "cell_type": "markdown",
      "metadata": {
        "id": "dOlnlRRsUbxP"
      },
      "source": [
        "To get an action from a policy, call the `policy.action(time_step)` method. The `time_step` contains the observation from the environment. This method returns a `PolicyStep`, which is a named tuple with three components:\n",
        "\n",
        "-   `action` — the action to be taken (in this case, `0` or `1`)\n",
        "-   `state` — used for stateful (that is, RNN-based) policies\n",
        "-   `info` — auxiliary data, such as log probabilities of actions"
      ]
    },
    {
      "cell_type": "code",
      "execution_count": 16,
      "metadata": {
        "id": "5gCcpXswVAxk"
      },
      "outputs": [],
      "source": [
        "example_environment = tf_py_environment.TFPyEnvironment(\n",
        "    suite_gym.load('CartPole-v0'))"
      ]
    },
    {
      "cell_type": "code",
      "execution_count": 17,
      "metadata": {
        "id": "D4DHZtq3Ndis"
      },
      "outputs": [],
      "source": [
        "time_step = example_environment.reset()"
      ]
    },
    {
      "cell_type": "code",
      "execution_count": 18,
      "metadata": {
        "id": "PRFqAUzpNaAW"
      },
      "outputs": [
        {
          "data": {
            "text/plain": [
              "PolicyStep(action=<tf.Tensor: shape=(1,), dtype=int64, numpy=array([0])>, state=(), info=())"
            ]
          },
          "execution_count": 18,
          "metadata": {},
          "output_type": "execute_result"
        }
      ],
      "source": [
        "random_policy.action(time_step)"
      ]
    },
    {
      "cell_type": "markdown",
      "metadata": {
        "id": "94rCXQtbUbXv"
      },
      "source": [
        "## Metrics and Evaluation\n",
        "\n",
        "The most common metric used to evaluate a policy is the average return. The return is the sum of rewards obtained while running a policy in an environment for an episode. Several episodes are run, creating an average return.\n",
        "\n",
        "The following function computes the average return of a policy, given the policy, environment, and a number of episodes.\n"
      ]
    },
    {
      "cell_type": "code",
      "execution_count": 19,
      "metadata": {
        "id": "bitzHo5_UbXy"
      },
      "outputs": [],
      "source": [
        "#@test {\"skip\": true}\n",
        "def compute_avg_return(environment, policy, num_episodes=10):\n",
        "\n",
        "  total_return = 0.0\n",
        "  for _ in range(num_episodes):\n",
        "\n",
        "    time_step = environment.reset()\n",
        "    episode_return = 0.0\n",
        "\n",
        "    while not time_step.is_last():\n",
        "      action_step = policy.action(time_step)\n",
        "      time_step = environment.step(action_step.action)\n",
        "      episode_return += time_step.reward\n",
        "    total_return += episode_return\n",
        "\n",
        "  avg_return = total_return / num_episodes\n",
        "  return avg_return.numpy()[0]\n",
        "\n",
        "\n",
        "# See also the metrics module for standard implementations of different metrics.\n",
        "# https://github.com/tensorflow/agents/tree/master/tf_agents/metrics"
      ]
    },
    {
      "cell_type": "markdown",
      "metadata": {
        "id": "_snCVvq5Z8lJ"
      },
      "source": [
        "Running this computation on the `random_policy` shows a baseline performance in the environment."
      ]
    },
    {
      "cell_type": "code",
      "execution_count": 20,
      "metadata": {
        "id": "9bgU6Q6BZ8Bp"
      },
      "outputs": [
        {
          "data": {
            "text/plain": [
              "23.5"
            ]
          },
          "execution_count": 20,
          "metadata": {},
          "output_type": "execute_result"
        }
      ],
      "source": [
        "compute_avg_return(eval_env, random_policy, num_eval_episodes)"
      ]
    },
    {
      "cell_type": "markdown",
      "metadata": {
        "id": "NLva6g2jdWgr"
      },
      "source": [
        "## Replay Buffer\n",
        "\n",
        "In order to keep track of the data collected from the environment, we will use [Reverb](https://deepmind.com/research/open-source/Reverb), an efficient, extensible, and easy-to-use replay system by Deepmind. It stores experience data when we collect trajectories and is consumed during training.\n",
        "\n",
        "This replay buffer is constructed using specs describing the tensors that are to be stored, which can be obtained from the agent using agent.collect_data_spec.\n"
      ]
    },
    {
      "cell_type": "code",
      "execution_count": 21,
      "metadata": {
        "id": "vX2zGUWJGWAl"
      },
      "outputs": [
        {
          "name": "stderr",
          "output_type": "stream",
          "text": [
            "[reverb/cc/platform/tfrecord_checkpointer.cc:150]  Initializing TFRecordCheckpointer in /tmp/tmpgt4e2900.\n",
            "[reverb/cc/platform/tfrecord_checkpointer.cc:386] Loading latest checkpoint from /tmp/tmpgt4e2900\n",
            "[reverb/cc/platform/default/server.cc:71] Started replay server on port 20244\n"
          ]
        }
      ],
      "source": [
        "table_name = 'uniform_table'\n",
        "replay_buffer_signature = tensor_spec.from_spec(\n",
        "      agent.collect_data_spec)\n",
        "replay_buffer_signature = tensor_spec.add_outer_dim(\n",
        "    replay_buffer_signature)\n",
        "\n",
        "table = reverb.Table(\n",
        "    table_name,\n",
        "    max_size=replay_buffer_max_length,\n",
        "    sampler=reverb.selectors.Uniform(),\n",
        "    remover=reverb.selectors.Fifo(),\n",
        "    rate_limiter=reverb.rate_limiters.MinSize(1),\n",
        "    signature=replay_buffer_signature)\n",
        "\n",
        "reverb_server = reverb.Server([table])\n",
        "\n",
        "replay_buffer = reverb_replay_buffer.ReverbReplayBuffer(\n",
        "    agent.collect_data_spec,\n",
        "    table_name=table_name,\n",
        "    sequence_length=2,\n",
        "    local_server=reverb_server)\n",
        "\n",
        "rb_observer = reverb_utils.ReverbAddTrajectoryObserver(\n",
        "  replay_buffer.py_client,\n",
        "  table_name,\n",
        "  sequence_length=2)"
      ]
    },
    {
      "cell_type": "markdown",
      "metadata": {
        "id": "ZGNTDJpZs4NN"
      },
      "source": [
        "For most agents, `collect_data_spec` is a named tuple called `Trajectory`, containing the specs for observations, actions, rewards, and other items."
      ]
    },
    {
      "cell_type": "code",
      "execution_count": 22,
      "metadata": {
        "id": "_IZ-3HcqgE1z"
      },
      "outputs": [
        {
          "data": {
            "text/plain": [
              "Trajectory(\n",
              "{'action': BoundedTensorSpec(shape=(), dtype=tf.int64, name='action', minimum=array(0), maximum=array(1)),\n",
              " 'discount': BoundedTensorSpec(shape=(), dtype=tf.float32, name='discount', minimum=array(0., dtype=float32), maximum=array(1., dtype=float32)),\n",
              " 'next_step_type': TensorSpec(shape=(), dtype=tf.int32, name='step_type'),\n",
              " 'observation': BoundedTensorSpec(shape=(4,), dtype=tf.float32, name='observation', minimum=array([-4.8000002e+00, -3.4028235e+38, -4.1887903e-01, -3.4028235e+38],\n",
              "      dtype=float32), maximum=array([4.8000002e+00, 3.4028235e+38, 4.1887903e-01, 3.4028235e+38],\n",
              "      dtype=float32)),\n",
              " 'policy_info': (),\n",
              " 'reward': TensorSpec(shape=(), dtype=tf.float32, name='reward'),\n",
              " 'step_type': TensorSpec(shape=(), dtype=tf.int32, name='step_type')})"
            ]
          },
          "execution_count": 22,
          "metadata": {},
          "output_type": "execute_result"
        }
      ],
      "source": [
        "agent.collect_data_spec"
      ]
    },
    {
      "cell_type": "code",
      "execution_count": 23,
      "metadata": {
        "id": "sy6g1tGcfRlw"
      },
      "outputs": [
        {
          "data": {
            "text/plain": [
              "('step_type',\n",
              " 'observation',\n",
              " 'action',\n",
              " 'policy_info',\n",
              " 'next_step_type',\n",
              " 'reward',\n",
              " 'discount')"
            ]
          },
          "execution_count": 23,
          "metadata": {},
          "output_type": "execute_result"
        }
      ],
      "source": [
        "agent.collect_data_spec._fields"
      ]
    },
    {
      "cell_type": "markdown",
      "metadata": {
        "id": "rVD5nQ9ZGo8_"
      },
      "source": [
        "## Data Collection\n",
        "\n",
        "Now execute the random policy in the environment for a few steps, recording the data in the replay buffer.\n",
        "\n",
        "Here we are using 'PyDriver' to run the experience collecting loop. You can learn more about TF Agents driver in our [drivers tutorial](https://www.tensorflow.org/agents/tutorials/4_drivers_tutorial)."
      ]
    },
    {
      "cell_type": "code",
      "execution_count": 29,
      "metadata": {
        "id": "wr1KSAEGG4h9"
      },
      "outputs": [
        {
          "data": {
            "text/plain": [
              "(TimeStep(\n",
              " {'discount': array(1., dtype=float32),\n",
              "  'observation': array([-0.06153274,  0.17509703,  0.10046062, -0.12121865], dtype=float32),\n",
              "  'reward': array(1., dtype=float32),\n",
              "  'step_type': array(1, dtype=int32)}),\n",
              " ())"
            ]
          },
          "execution_count": 29,
          "metadata": {},
          "output_type": "execute_result"
        }
      ],
      "source": [
        "#@test {\"skip\": true}\n",
        "py_driver.PyDriver(\n",
        "    env,\n",
        "    py_tf_eager_policy.PyTFEagerPolicy(\n",
        "      random_policy, use_tf_function=True),\n",
        "    [rb_observer],\n",
        "    max_steps=initial_collect_steps).run(train_py_env.reset())"
      ]
    },
    {
      "cell_type": "markdown",
      "metadata": {
        "id": "84z5pQJdoKxo"
      },
      "source": [
        "The replay buffer is now a collection of Trajectories."
      ]
    },
    {
      "cell_type": "code",
      "execution_count": 25,
      "metadata": {
        "id": "4wZnLu2ViO4E"
      },
      "outputs": [
        {
          "name": "stderr",
          "output_type": "stream",
          "text": [
            "[reverb/cc/client.cc:165] Sampler and server are owned by the same process (1897) so Table uniform_table is accessed directly without gRPC.\n"
          ]
        },
        {
          "data": {
            "text/plain": [
              "(Trajectory(\n",
              " {'action': <tf.Tensor: shape=(2,), dtype=int64, numpy=array([1, 0])>,\n",
              "  'discount': <tf.Tensor: shape=(2,), dtype=float32, numpy=array([1., 1.], dtype=float32)>,\n",
              "  'next_step_type': <tf.Tensor: shape=(2,), dtype=int32, numpy=array([1, 1], dtype=int32)>,\n",
              "  'observation': <tf.Tensor: shape=(2, 4), dtype=float32, numpy=\n",
              " array([[-1.0425593e-03,  5.8588183e-01, -6.8735525e-02, -9.0034395e-01],\n",
              "        [ 1.0675078e-02,  7.8186452e-01, -8.6742401e-02, -1.2138160e+00]],\n",
              "       dtype=float32)>,\n",
              "  'policy_info': (),\n",
              "  'reward': <tf.Tensor: shape=(2,), dtype=float32, numpy=array([1., 1.], dtype=float32)>,\n",
              "  'step_type': <tf.Tensor: shape=(2,), dtype=int32, numpy=array([1, 1], dtype=int32)>}),\n",
              " SampleInfo(key=<tf.Tensor: shape=(2,), dtype=uint64, numpy=array([4334121688436847796, 4334121688436847796], dtype=uint64)>, probability=<tf.Tensor: shape=(2,), dtype=float64, numpy=array([0.01010101, 0.01010101])>, table_size=<tf.Tensor: shape=(2,), dtype=int64, numpy=array([99, 99])>, priority=<tf.Tensor: shape=(2,), dtype=float64, numpy=array([1., 1.])>))"
            ]
          },
          "execution_count": 25,
          "metadata": {},
          "output_type": "execute_result"
        }
      ],
      "source": [
        "''' For the curious:\n",
        "Uncomment to peel one of these off and inspect it. '''\n",
        "iter(replay_buffer.as_dataset()).next()"
      ]
    },
    {
      "cell_type": "markdown",
      "metadata": {
        "id": "TujU-PMUsKjS"
      },
      "source": [
        "The agent needs access to the replay buffer. This is provided by creating an iterable `tf.data.Dataset` pipeline which will feed data to the agent.\n",
        "\n",
        "Each row of the replay buffer only stores a single observation step. But since the DQN Agent needs both the current and next observation to compute the loss, the dataset pipeline will sample two adjacent rows for each item in the batch (`num_steps=2`).\n",
        "\n",
        "This dataset is also optimized by running parallel calls and prefetching data."
      ]
    },
    {
      "cell_type": "code",
      "execution_count": 26,
      "metadata": {
        "id": "ba7bilizt_qW"
      },
      "outputs": [
        {
          "data": {
            "text/plain": [
              "<PrefetchDataset element_spec=(Trajectory(\n",
              "{'action': TensorSpec(shape=(64, 2), dtype=tf.int64, name=None),\n",
              " 'discount': TensorSpec(shape=(64, 2), dtype=tf.float32, name=None),\n",
              " 'next_step_type': TensorSpec(shape=(64, 2), dtype=tf.int32, name=None),\n",
              " 'observation': TensorSpec(shape=(64, 2, 4), dtype=tf.float32, name=None),\n",
              " 'policy_info': (),\n",
              " 'reward': TensorSpec(shape=(64, 2), dtype=tf.float32, name=None),\n",
              " 'step_type': TensorSpec(shape=(64, 2), dtype=tf.int32, name=None)}), SampleInfo(key=TensorSpec(shape=(64, 2), dtype=tf.uint64, name=None), probability=TensorSpec(shape=(64, 2), dtype=tf.float64, name=None), table_size=TensorSpec(shape=(64, 2), dtype=tf.int64, name=None), priority=TensorSpec(shape=(64, 2), dtype=tf.float64, name=None)))>"
            ]
          },
          "execution_count": 26,
          "metadata": {},
          "output_type": "execute_result"
        }
      ],
      "source": [
        "# Dataset generates trajectories with shape [Bx2x...]\n",
        "dataset = replay_buffer.as_dataset(\n",
        "    num_parallel_calls=3,\n",
        "    sample_batch_size=batch_size,\n",
        "    num_steps=2).prefetch(3)\n",
        "\n",
        "dataset"
      ]
    },
    {
      "cell_type": "code",
      "execution_count": 27,
      "metadata": {
        "id": "K13AST-2ppOq"
      },
      "outputs": [
        {
          "name": "stdout",
          "output_type": "stream",
          "text": [
            "<tensorflow.python.data.ops.iterator_ops.OwnedIterator object at 0x7fcf7805d2e0>\n"
          ]
        }
      ],
      "source": [
        "iterator = iter(dataset)\n",
        "print(iterator)"
      ]
    },
    {
      "cell_type": "code",
      "execution_count": 28,
      "metadata": {
        "id": "Th5w5Sff0b16"
      },
      "outputs": [
        {
          "name": "stderr",
          "output_type": "stream",
          "text": [
            "[reverb/cc/client.cc:165] Sampler and server are owned by the same process (1897) so Table uniform_table is accessed directly without gRPC.\n",
            "[reverb/cc/client.cc:165] Sampler and server are owned by the same process (1897) so Table uniform_table is accessed directly without gRPC.\n",
            "[reverb/cc/client.cc:165] Sampler and server are owned by the same process (1897) so Table uniform_table is accessed directly without gRPC.\n",
            "[reverb/cc/client.cc:165] Sampler and server are owned by the same process (1897) so Table uniform_table is accessed directly without gRPC.\n",
            "[reverb/cc/client.cc:165] Sampler and server are owned by the same process (1897) so Table uniform_table is accessed directly without gRPC.\n"
          ]
        },
        {
          "data": {
            "text/plain": [
              "(Trajectory(\n",
              " {'action': <tf.Tensor: shape=(64, 2), dtype=int64, numpy=\n",
              " array([[1, 1],\n",
              "        [1, 0],\n",
              "        [1, 1],\n",
              "        [0, 1],\n",
              "        [0, 1],\n",
              "        [1, 1],\n",
              "        [1, 1],\n",
              "        [0, 1],\n",
              "        [1, 1],\n",
              "        [0, 1],\n",
              "        [0, 1],\n",
              "        [0, 0],\n",
              "        [0, 1],\n",
              "        [1, 0],\n",
              "        [1, 1],\n",
              "        [1, 0],\n",
              "        [0, 1],\n",
              "        [1, 1],\n",
              "        [1, 0],\n",
              "        [0, 1],\n",
              "        [1, 1],\n",
              "        [1, 1],\n",
              "        [1, 1],\n",
              "        [1, 0],\n",
              "        [1, 1],\n",
              "        [1, 1],\n",
              "        [0, 1],\n",
              "        [1, 0],\n",
              "        [1, 1],\n",
              "        [0, 1],\n",
              "        [1, 1],\n",
              "        [1, 1],\n",
              "        [1, 1],\n",
              "        [1, 1],\n",
              "        [0, 1],\n",
              "        [1, 1],\n",
              "        [0, 0],\n",
              "        [1, 0],\n",
              "        [1, 1],\n",
              "        [0, 1],\n",
              "        [0, 0],\n",
              "        [1, 0],\n",
              "        [1, 1],\n",
              "        [1, 1],\n",
              "        [0, 1],\n",
              "        [0, 1],\n",
              "        [1, 1],\n",
              "        [0, 1],\n",
              "        [1, 0],\n",
              "        [1, 0],\n",
              "        [1, 0],\n",
              "        [0, 1],\n",
              "        [1, 0],\n",
              "        [1, 1],\n",
              "        [1, 0],\n",
              "        [1, 0],\n",
              "        [0, 1],\n",
              "        [0, 0],\n",
              "        [1, 1],\n",
              "        [1, 1],\n",
              "        [1, 0],\n",
              "        [1, 0],\n",
              "        [1, 0],\n",
              "        [0, 1]])>,\n",
              "  'discount': <tf.Tensor: shape=(64, 2), dtype=float32, numpy=\n",
              " array([[1., 1.],\n",
              "        [0., 1.],\n",
              "        [1., 1.],\n",
              "        [0., 1.],\n",
              "        [1., 1.],\n",
              "        [1., 1.],\n",
              "        [1., 1.],\n",
              "        [1., 1.],\n",
              "        [1., 1.],\n",
              "        [1., 1.],\n",
              "        [1., 1.],\n",
              "        [1., 1.],\n",
              "        [1., 1.],\n",
              "        [1., 1.],\n",
              "        [1., 1.],\n",
              "        [1., 1.],\n",
              "        [1., 1.],\n",
              "        [1., 1.],\n",
              "        [1., 1.],\n",
              "        [1., 1.],\n",
              "        [1., 1.],\n",
              "        [1., 1.],\n",
              "        [1., 1.],\n",
              "        [1., 0.],\n",
              "        [1., 1.],\n",
              "        [1., 1.],\n",
              "        [1., 1.],\n",
              "        [1., 1.],\n",
              "        [1., 1.],\n",
              "        [1., 1.],\n",
              "        [1., 1.],\n",
              "        [1., 1.],\n",
              "        [1., 1.],\n",
              "        [1., 1.],\n",
              "        [1., 1.],\n",
              "        [1., 1.],\n",
              "        [1., 1.],\n",
              "        [1., 1.],\n",
              "        [1., 1.],\n",
              "        [1., 1.],\n",
              "        [1., 1.],\n",
              "        [0., 1.],\n",
              "        [1., 1.],\n",
              "        [1., 1.],\n",
              "        [1., 1.],\n",
              "        [1., 1.],\n",
              "        [1., 1.],\n",
              "        [1., 1.],\n",
              "        [1., 1.],\n",
              "        [1., 1.],\n",
              "        [1., 1.],\n",
              "        [1., 1.],\n",
              "        [1., 1.],\n",
              "        [1., 1.],\n",
              "        [1., 1.],\n",
              "        [1., 1.],\n",
              "        [1., 1.],\n",
              "        [1., 1.],\n",
              "        [1., 1.],\n",
              "        [1., 1.],\n",
              "        [1., 1.],\n",
              "        [1., 1.],\n",
              "        [1., 1.],\n",
              "        [1., 1.]], dtype=float32)>,\n",
              "  'next_step_type': <tf.Tensor: shape=(64, 2), dtype=int32, numpy=\n",
              " array([[1, 1],\n",
              "        [2, 0],\n",
              "        [1, 1],\n",
              "        [2, 0],\n",
              "        [1, 1],\n",
              "        [1, 1],\n",
              "        [1, 1],\n",
              "        [1, 1],\n",
              "        [1, 1],\n",
              "        [1, 1],\n",
              "        [1, 1],\n",
              "        [1, 1],\n",
              "        [1, 1],\n",
              "        [1, 1],\n",
              "        [1, 1],\n",
              "        [1, 1],\n",
              "        [1, 1],\n",
              "        [1, 1],\n",
              "        [1, 1],\n",
              "        [1, 1],\n",
              "        [1, 1],\n",
              "        [1, 1],\n",
              "        [1, 1],\n",
              "        [1, 2],\n",
              "        [1, 1],\n",
              "        [1, 1],\n",
              "        [1, 1],\n",
              "        [1, 1],\n",
              "        [1, 1],\n",
              "        [1, 1],\n",
              "        [1, 1],\n",
              "        [1, 1],\n",
              "        [1, 1],\n",
              "        [1, 1],\n",
              "        [1, 1],\n",
              "        [1, 1],\n",
              "        [1, 1],\n",
              "        [1, 1],\n",
              "        [1, 1],\n",
              "        [1, 1],\n",
              "        [1, 1],\n",
              "        [2, 0],\n",
              "        [1, 1],\n",
              "        [1, 1],\n",
              "        [1, 1],\n",
              "        [1, 1],\n",
              "        [1, 1],\n",
              "        [1, 1],\n",
              "        [1, 1],\n",
              "        [1, 1],\n",
              "        [1, 1],\n",
              "        [1, 1],\n",
              "        [1, 1],\n",
              "        [1, 1],\n",
              "        [1, 1],\n",
              "        [1, 1],\n",
              "        [1, 1],\n",
              "        [1, 1],\n",
              "        [1, 1],\n",
              "        [1, 1],\n",
              "        [1, 1],\n",
              "        [1, 1],\n",
              "        [1, 1],\n",
              "        [1, 1]], dtype=int32)>,\n",
              "  'observation': <tf.Tensor: shape=(64, 2, 4), dtype=float32, numpy=\n",
              " array([[[ 8.22276715e-03,  3.82434338e-01, -6.60853758e-02,\n",
              "          -7.85774171e-01],\n",
              "         [ 1.58714540e-02,  5.78398943e-01, -8.18008557e-02,\n",
              "          -1.09849441e+00]],\n",
              " \n",
              "        [[ 7.40352795e-02,  1.99756190e-01, -2.06977025e-01,\n",
              "          -7.81657159e-01],\n",
              "         [ 7.80304074e-02,  3.97030354e-01, -2.22610176e-01,\n",
              "          -1.13167036e+00]],\n",
              " \n",
              "        [[ 4.46964167e-02,  1.95561603e-01,  8.15428142e-03,\n",
              "          -1.97254807e-01],\n",
              "         [ 4.86076511e-02,  3.90565962e-01,  4.20918502e-03,\n",
              "          -4.87354308e-01]],\n",
              " \n",
              "        [[ 1.89321846e-01,  1.33232450e+00, -1.84543416e-01,\n",
              "          -1.81474078e+00],\n",
              "         [ 2.15968341e-01,  1.13967454e+00, -2.20838234e-01,\n",
              "          -1.58462095e+00]],\n",
              " \n",
              "        [[ 2.51209773e-02,  3.91701519e-01,  3.25207897e-02,\n",
              "          -5.12750268e-01],\n",
              "         [ 3.29550058e-02,  1.96136966e-01,  2.22657844e-02,\n",
              "          -2.09999114e-01]],\n",
              " \n",
              "        [[ 1.32973611e-01,  7.42613137e-01, -1.15641460e-01,\n",
              "          -8.20229650e-01],\n",
              "         [ 1.47825867e-01,  9.39111650e-01, -1.32046044e-01,\n",
              "          -1.14693165e+00]],\n",
              " \n",
              "        [[-1.24624874e-02, -1.29691483e-02, -2.02104961e-03,\n",
              "          -8.52388069e-02],\n",
              "         [-1.27218701e-02,  1.82181716e-01, -3.72582558e-03,\n",
              "          -3.78558695e-01]],\n",
              " \n",
              "        [[ 1.38458118e-01,  1.17376137e+00, -1.20029613e-01,\n",
              "          -1.72703481e+00],\n",
              "         [ 1.61933348e-01,  9.80198920e-01, -1.54570311e-01,\n",
              "          -1.47398424e+00]],\n",
              " \n",
              "        [[ 1.86938175e-03, -2.07011566e-01, -3.43820676e-02,\n",
              "           1.83753505e-01],\n",
              "         [-2.27084965e-03, -1.14149582e-02, -3.07069980e-02,\n",
              "          -1.19574338e-01]],\n",
              " \n",
              "        [[ 2.51209773e-02,  3.91701519e-01,  3.25207897e-02,\n",
              "          -5.12750268e-01],\n",
              "         [ 3.29550058e-02,  1.96136966e-01,  2.22657844e-02,\n",
              "          -2.09999114e-01]],\n",
              " \n",
              "        [[ 2.63123680e-02,  5.87962329e-01, -1.11018725e-01,\n",
              "          -9.49526608e-01],\n",
              "         [ 3.80716138e-02,  3.94495785e-01, -1.30009264e-01,\n",
              "          -6.93685889e-01]],\n",
              " \n",
              "        [[-3.79301533e-02, -2.33697128e-02,  3.40696163e-02,\n",
              "           3.54087651e-02],\n",
              "         [-3.83975469e-02, -2.18963251e-01,  3.47777903e-02,\n",
              "           3.38643342e-01]],\n",
              " \n",
              "        [[ 2.72024497e-02,  1.52002111e-01, -4.78682332e-02,\n",
              "          -3.69898140e-01],\n",
              "         [ 3.02424934e-02, -4.24081981e-02, -5.52661978e-02,\n",
              "          -9.26845744e-02]],\n",
              " \n",
              "        [[ 1.58714540e-02,  5.78398943e-01, -8.18008557e-02,\n",
              "          -1.09849441e+00],\n",
              "         [ 2.74394322e-02,  7.74496853e-01, -1.03770748e-01,\n",
              "          -1.41568029e+00]],\n",
              " \n",
              "        [[ 3.64587754e-02, -3.86386603e-01,  1.04936706e-02,\n",
              "           6.05422437e-01],\n",
              "         [ 2.87310425e-02, -1.91412941e-01,  2.26021204e-02,\n",
              "           3.16063166e-01]],\n",
              " \n",
              "        [[-2.27084965e-03, -1.14149582e-02, -3.07069980e-02,\n",
              "          -1.19574338e-01],\n",
              "         [-2.49914872e-03,  1.84133187e-01, -3.30984853e-02,\n",
              "          -4.21784699e-01]],\n",
              " \n",
              "        [[ 5.45454100e-02,  3.87625486e-01, -1.55227453e-01,\n",
              "          -9.08634067e-01],\n",
              "         [ 6.22979216e-02,  1.94906682e-01, -1.73400134e-01,\n",
              "          -6.68485403e-01]],\n",
              " \n",
              "        [[ 8.22276715e-03,  3.82434338e-01, -6.60853758e-02,\n",
              "          -7.85774171e-01],\n",
              "         [ 1.58714540e-02,  5.78398943e-01, -8.18008557e-02,\n",
              "          -1.09849441e+00]],\n",
              " \n",
              "        [[-7.12654963e-02,  5.49970865e-01,  1.02286428e-01,\n",
              "          -5.80890000e-01],\n",
              "         [-6.02660812e-02,  7.43522048e-01,  9.06686261e-02,\n",
              "          -8.39679539e-01]],\n",
              " \n",
              "        [[ 2.51209773e-02,  3.91701519e-01,  3.25207897e-02,\n",
              "          -5.12750268e-01],\n",
              "         [ 3.29550058e-02,  1.96136966e-01,  2.22657844e-02,\n",
              "          -2.09999114e-01]],\n",
              " \n",
              "        [[-4.00058366e-02, -9.80334589e-04, -1.05997724e-02,\n",
              "           1.23298513e-02],\n",
              "         [-4.00254428e-02,  1.94292009e-01, -1.03531750e-02,\n",
              "          -2.83678502e-01]],\n",
              " \n",
              "        [[ 3.28690633e-02, -2.39574581e-01, -5.15225641e-02,\n",
              "           2.45597720e-01],\n",
              "         [ 2.80775707e-02, -4.37560529e-02, -4.66106087e-02,\n",
              "          -6.28812239e-02]],\n",
              " \n",
              "        [[ 3.02424934e-02, -4.24081981e-02, -5.52661978e-02,\n",
              "          -9.26845744e-02],\n",
              "         [ 2.93943286e-02,  1.53460547e-01, -5.71198873e-02,\n",
              "          -4.02279109e-01]],\n",
              " \n",
              "        [[ 1.61933348e-01,  9.80198920e-01, -1.54570311e-01,\n",
              "          -1.47398424e+00],\n",
              "         [ 1.81537330e-01,  1.17683518e+00, -1.84049994e-01,\n",
              "          -1.81068492e+00]],\n",
              " \n",
              "        [[-8.10542032e-02, -3.02845761e-02,  1.06363386e-01,\n",
              "           1.88935965e-01],\n",
              "         [-8.16598982e-02,  1.63167611e-01,  1.10142104e-01,\n",
              "          -6.83905259e-02]],\n",
              " \n",
              "        [[-1.72640115e-03,  9.34002280e-01,  3.48348320e-02,\n",
              "          -1.02688563e+00],\n",
              "         [ 1.69536453e-02,  1.12864363e+00,  1.42971165e-02,\n",
              "          -1.30843115e+00]],\n",
              " \n",
              "        [[ 2.49027833e-02,  3.37989186e-03,  2.89233830e-02,\n",
              "           3.05929929e-02],\n",
              "         [ 2.49703806e-02, -1.92144647e-01,  2.95352433e-02,\n",
              "           3.32259417e-01]],\n",
              " \n",
              "        [[-1.27218701e-02,  1.82181716e-01, -3.72582558e-03,\n",
              "          -3.78558695e-01],\n",
              "         [-9.07823630e-03,  3.77356380e-01, -1.12969996e-02,\n",
              "          -6.72414064e-01]],\n",
              " \n",
              "        [[-8.16598982e-02,  1.63167611e-01,  1.10142104e-01,\n",
              "          -6.83905259e-02],\n",
              "         [-7.83965439e-02,  3.56552243e-01,  1.08774297e-01,\n",
              "          -3.24393392e-01]],\n",
              " \n",
              "        [[ 3.94504219e-02,  1.55182153e-01, -7.94136599e-02,\n",
              "          -4.40929681e-01],\n",
              "         [ 4.25540656e-02, -3.87314297e-02, -8.82322565e-02,\n",
              "          -1.74299106e-01]],\n",
              " \n",
              "        [[ 3.28690633e-02, -2.39574581e-01, -5.15225641e-02,\n",
              "           2.45597720e-01],\n",
              "         [ 2.80775707e-02, -4.37560529e-02, -4.66106087e-02,\n",
              "          -6.28812239e-02]],\n",
              " \n",
              "        [[-4.00058366e-02, -9.80334589e-04, -1.05997724e-02,\n",
              "           1.23298513e-02],\n",
              "         [-4.00254428e-02,  1.94292009e-01, -1.03531750e-02,\n",
              "          -2.83678502e-01]],\n",
              " \n",
              "        [[ 3.28690633e-02, -2.39574581e-01, -5.15225641e-02,\n",
              "           2.45597720e-01],\n",
              "         [ 2.80775707e-02, -4.37560529e-02, -4.66106087e-02,\n",
              "          -6.28812239e-02]],\n",
              " \n",
              "        [[-2.28344041e-04, -4.03527826e-01, -1.63527206e-02,\n",
              "           5.07187307e-01],\n",
              "         [-8.29890091e-03, -2.08179325e-01, -6.20897440e-03,\n",
              "           2.09396243e-01]],\n",
              " \n",
              "        [[-4.53956425e-02,  5.47286868e-01,  7.38750324e-02,\n",
              "          -5.19915819e-01],\n",
              "         [-3.44499052e-02,  3.51206899e-01,  6.34767190e-02,\n",
              "          -2.04898581e-01]],\n",
              " \n",
              "        [[-1.72640115e-03,  9.34002280e-01,  3.48348320e-02,\n",
              "          -1.02688563e+00],\n",
              "         [ 1.69536453e-02,  1.12864363e+00,  1.42971165e-02,\n",
              "          -1.30843115e+00]],\n",
              " \n",
              "        [[ 4.29293700e-02,  5.80802023e-01, -1.32084355e-01,\n",
              "          -1.15715480e+00],\n",
              "         [ 5.45454100e-02,  3.87625486e-01, -1.55227453e-01,\n",
              "          -9.08634067e-01]],\n",
              " \n",
              "        [[ 1.69536453e-02,  1.12864363e+00,  1.42971165e-02,\n",
              "          -1.30843115e+00],\n",
              "         [ 3.95265147e-02,  1.32358146e+00, -1.18715065e-02,\n",
              "          -1.59660494e+00]],\n",
              " \n",
              "        [[ 1.32973611e-01,  7.42613137e-01, -1.15641460e-01,\n",
              "          -8.20229650e-01],\n",
              "         [ 1.47825867e-01,  9.39111650e-01, -1.32046044e-01,\n",
              "          -1.14693165e+00]],\n",
              " \n",
              "        [[-2.49914872e-03,  1.84133187e-01, -3.30984853e-02,\n",
              "          -4.21784699e-01],\n",
              "         [ 1.18351495e-03, -1.05045810e-02, -4.15341780e-02,\n",
              "          -1.39717147e-01]],\n",
              " \n",
              "        [[ 3.07886545e-02,  1.49238691e-01, -4.47337292e-02,\n",
              "          -3.08844060e-01],\n",
              "         [ 3.37734297e-02, -4.52182777e-02, -5.09106107e-02,\n",
              "          -3.05977464e-02]],\n",
              " \n",
              "        [[ 7.40352795e-02,  1.99756190e-01, -2.06977025e-01,\n",
              "          -7.81657159e-01],\n",
              "         [ 7.80304074e-02,  3.97030354e-01, -2.22610176e-01,\n",
              "          -1.13167036e+00]],\n",
              " \n",
              "        [[ 4.59615290e-02,  5.91158569e-01, -1.43882975e-01,\n",
              "          -1.02430570e+00],\n",
              "         [ 5.77847026e-02,  7.87872970e-01, -1.64369091e-01,\n",
              "          -1.35848391e+00]],\n",
              " \n",
              "        [[-2.74257660e-02,  5.45366406e-01,  5.93787469e-02,\n",
              "          -4.76901621e-01],\n",
              "         [-1.65184382e-02,  7.39601851e-01,  4.98407148e-02,\n",
              "          -7.50294268e-01]],\n",
              " \n",
              "        [[-3.83975469e-02, -2.18963251e-01,  3.47777903e-02,\n",
              "           3.38643342e-01],\n",
              "         [-4.27768119e-02, -4.14562374e-01,  4.15506586e-02,\n",
              "           6.42087221e-01]],\n",
              " \n",
              "        [[ 2.72024497e-02,  1.52002111e-01, -4.78682332e-02,\n",
              "          -3.69898140e-01],\n",
              "         [ 3.02424934e-02, -4.24081981e-02, -5.52661978e-02,\n",
              "          -9.26845744e-02]],\n",
              " \n",
              "        [[ 1.03272460e-01,  7.81655967e-01, -7.00218305e-02,\n",
              "          -1.09329164e+00],\n",
              "         [ 1.18905582e-01,  9.77627099e-01, -9.18876603e-02,\n",
              "          -1.40709758e+00]],\n",
              " \n",
              "        [[ 5.45454100e-02,  3.87625486e-01, -1.55227453e-01,\n",
              "          -9.08634067e-01],\n",
              "         [ 6.22979216e-02,  1.94906682e-01, -1.73400134e-01,\n",
              "          -6.68485403e-01]],\n",
              " \n",
              "        [[ 6.81315362e-02,  7.80825913e-01, -2.11120546e-02,\n",
              "          -1.07312787e+00],\n",
              "         [ 8.37480575e-02,  9.76220489e-01, -4.25746106e-02,\n",
              "          -1.37236083e+00]],\n",
              " \n",
              "        [[-1.04255928e-03,  5.85881829e-01, -6.87355250e-02,\n",
              "          -9.00343955e-01],\n",
              "         [ 1.06750783e-02,  7.81864524e-01, -8.67424011e-02,\n",
              "          -1.21381605e+00]],\n",
              " \n",
              "        [[ 3.29550058e-02,  1.96136966e-01,  2.22657844e-02,\n",
              "          -2.09999114e-01],\n",
              "         [ 3.68777476e-02,  3.90933573e-01,  1.80658009e-02,\n",
              "          -4.95576024e-01]],\n",
              " \n",
              "        [[ 9.73423303e-04,  1.85186863e-01, -4.43285219e-02,\n",
              "          -4.45208699e-01],\n",
              "         [ 4.67716064e-03, -9.28080641e-03, -5.32326959e-02,\n",
              "          -1.66822061e-01]],\n",
              " \n",
              "        [[ 2.87310425e-02, -1.91412941e-01,  2.26021204e-02,\n",
              "           3.16063166e-01],\n",
              "         [ 2.49027833e-02,  3.37989186e-03,  2.89233830e-02,\n",
              "           3.05929929e-02]],\n",
              " \n",
              "        [[ 1.32973611e-01,  7.42613137e-01, -1.15641460e-01,\n",
              "          -8.20229650e-01],\n",
              "         [ 1.47825867e-01,  9.39111650e-01, -1.32046044e-01,\n",
              "          -1.14693165e+00]],\n",
              " \n",
              "        [[ 2.11783834e-02,  1.97129712e-01,  3.71611267e-02,\n",
              "          -2.32016921e-01],\n",
              "         [ 2.51209773e-02,  3.91701519e-01,  3.25207897e-02,\n",
              "          -5.12750268e-01]],\n",
              " \n",
              "        [[ 3.17185484e-02, -4.64946851e-02, -4.46856506e-02,\n",
              "          -2.40387674e-03],\n",
              "         [ 3.07886545e-02,  1.49238691e-01, -4.47337292e-02,\n",
              "          -3.08844060e-01]],\n",
              " \n",
              "        [[-4.53956425e-02,  5.47286868e-01,  7.38750324e-02,\n",
              "          -5.19915819e-01],\n",
              "         [-3.44499052e-02,  3.51206899e-01,  6.34767190e-02,\n",
              "          -2.04898581e-01]],\n",
              " \n",
              "        [[ 2.40489002e-02, -2.10190490e-01, -4.82559726e-02,\n",
              "           2.54076689e-01],\n",
              "         [ 1.98450908e-02, -4.04591411e-01, -4.31744382e-02,\n",
              "           5.31156838e-01]],\n",
              " \n",
              "        [[ 3.64587754e-02, -3.86386603e-01,  1.04936706e-02,\n",
              "           6.05422437e-01],\n",
              "         [ 2.87310425e-02, -1.91412941e-01,  2.26021204e-02,\n",
              "           3.16063166e-01]],\n",
              " \n",
              "        [[-7.65761212e-02, -2.23904088e-01,  9.73752588e-02,\n",
              "           4.49406296e-01],\n",
              "         [-8.10542032e-02, -3.02845761e-02,  1.06363386e-01,\n",
              "           1.88935965e-01]],\n",
              " \n",
              "        [[ 1.18905582e-01,  9.77627099e-01, -9.18876603e-02,\n",
              "          -1.40709758e+00],\n",
              "         [ 1.38458118e-01,  1.17376137e+00, -1.20029613e-01,\n",
              "          -1.72703481e+00]],\n",
              " \n",
              "        [[-4.27768119e-02, -4.14562374e-01,  4.15506586e-02,\n",
              "           6.42087221e-01],\n",
              "         [-5.10680601e-02, -2.20043480e-01,  5.43924011e-02,\n",
              "           3.62773091e-01]],\n",
              " \n",
              "        [[ 6.81315362e-02,  7.80825913e-01, -2.11120546e-02,\n",
              "          -1.07312787e+00],\n",
              "         [ 8.37480575e-02,  9.76220489e-01, -4.25746106e-02,\n",
              "          -1.37236083e+00]],\n",
              " \n",
              "        [[-4.53956425e-02,  5.47286868e-01,  7.38750324e-02,\n",
              "          -5.19915819e-01],\n",
              "         [-3.44499052e-02,  3.51206899e-01,  6.34767190e-02,\n",
              "          -2.04898581e-01]]], dtype=float32)>,\n",
              "  'policy_info': (),\n",
              "  'reward': <tf.Tensor: shape=(64, 2), dtype=float32, numpy=\n",
              " array([[1., 1.],\n",
              "        [1., 0.],\n",
              "        [1., 1.],\n",
              "        [1., 0.],\n",
              "        [1., 1.],\n",
              "        [1., 1.],\n",
              "        [1., 1.],\n",
              "        [1., 1.],\n",
              "        [1., 1.],\n",
              "        [1., 1.],\n",
              "        [1., 1.],\n",
              "        [1., 1.],\n",
              "        [1., 1.],\n",
              "        [1., 1.],\n",
              "        [1., 1.],\n",
              "        [1., 1.],\n",
              "        [1., 1.],\n",
              "        [1., 1.],\n",
              "        [1., 1.],\n",
              "        [1., 1.],\n",
              "        [1., 1.],\n",
              "        [1., 1.],\n",
              "        [1., 1.],\n",
              "        [1., 1.],\n",
              "        [1., 1.],\n",
              "        [1., 1.],\n",
              "        [1., 1.],\n",
              "        [1., 1.],\n",
              "        [1., 1.],\n",
              "        [1., 1.],\n",
              "        [1., 1.],\n",
              "        [1., 1.],\n",
              "        [1., 1.],\n",
              "        [1., 1.],\n",
              "        [1., 1.],\n",
              "        [1., 1.],\n",
              "        [1., 1.],\n",
              "        [1., 1.],\n",
              "        [1., 1.],\n",
              "        [1., 1.],\n",
              "        [1., 1.],\n",
              "        [1., 0.],\n",
              "        [1., 1.],\n",
              "        [1., 1.],\n",
              "        [1., 1.],\n",
              "        [1., 1.],\n",
              "        [1., 1.],\n",
              "        [1., 1.],\n",
              "        [1., 1.],\n",
              "        [1., 1.],\n",
              "        [1., 1.],\n",
              "        [1., 1.],\n",
              "        [1., 1.],\n",
              "        [1., 1.],\n",
              "        [1., 1.],\n",
              "        [1., 1.],\n",
              "        [1., 1.],\n",
              "        [1., 1.],\n",
              "        [1., 1.],\n",
              "        [1., 1.],\n",
              "        [1., 1.],\n",
              "        [1., 1.],\n",
              "        [1., 1.],\n",
              "        [1., 1.]], dtype=float32)>,\n",
              "  'step_type': <tf.Tensor: shape=(64, 2), dtype=int32, numpy=\n",
              " array([[1, 1],\n",
              "        [1, 2],\n",
              "        [1, 1],\n",
              "        [1, 2],\n",
              "        [1, 1],\n",
              "        [1, 1],\n",
              "        [1, 1],\n",
              "        [1, 1],\n",
              "        [1, 1],\n",
              "        [1, 1],\n",
              "        [1, 1],\n",
              "        [1, 1],\n",
              "        [1, 1],\n",
              "        [1, 1],\n",
              "        [1, 1],\n",
              "        [1, 1],\n",
              "        [1, 1],\n",
              "        [1, 1],\n",
              "        [1, 1],\n",
              "        [1, 1],\n",
              "        [0, 1],\n",
              "        [1, 1],\n",
              "        [1, 1],\n",
              "        [1, 1],\n",
              "        [1, 1],\n",
              "        [1, 1],\n",
              "        [1, 1],\n",
              "        [1, 1],\n",
              "        [1, 1],\n",
              "        [1, 1],\n",
              "        [1, 1],\n",
              "        [0, 1],\n",
              "        [1, 1],\n",
              "        [1, 1],\n",
              "        [1, 1],\n",
              "        [1, 1],\n",
              "        [1, 1],\n",
              "        [1, 1],\n",
              "        [1, 1],\n",
              "        [1, 1],\n",
              "        [1, 1],\n",
              "        [1, 2],\n",
              "        [1, 1],\n",
              "        [1, 1],\n",
              "        [1, 1],\n",
              "        [1, 1],\n",
              "        [1, 1],\n",
              "        [1, 1],\n",
              "        [1, 1],\n",
              "        [1, 1],\n",
              "        [1, 1],\n",
              "        [1, 1],\n",
              "        [1, 1],\n",
              "        [1, 1],\n",
              "        [1, 1],\n",
              "        [0, 1],\n",
              "        [1, 1],\n",
              "        [1, 1],\n",
              "        [1, 1],\n",
              "        [1, 1],\n",
              "        [1, 1],\n",
              "        [1, 1],\n",
              "        [1, 1],\n",
              "        [1, 1]], dtype=int32)>}),\n",
              " SampleInfo(key=<tf.Tensor: shape=(64, 2), dtype=uint64, numpy=\n",
              " array([[ 8252754004962939749,  8252754004962939749],\n",
              "        [ 5138615795664507941,  5138615795664507941],\n",
              "        [ 1602380236391983512,  1602380236391983512],\n",
              "        [ 1349806923546955953,  1349806923546955953],\n",
              "        [16904431774934602393, 16904431774934602393],\n",
              "        [10416227920959946107, 10416227920959946107],\n",
              "        [ 4362609797547896228,  4362609797547896228],\n",
              "        [14018658301950434529, 14018658301950434529],\n",
              "        [12303307940379473662, 12303307940379473662],\n",
              "        [16904431774934602393, 16904431774934602393],\n",
              "        [ 3374414966297101830,  3374414966297101830],\n",
              "        [  711847158946845494,   711847158946845494],\n",
              "        [ 3795763262651730744,  3795763262651730744],\n",
              "        [12582847523285710168, 12582847523285710168],\n",
              "        [12051110497097078733, 12051110497097078733],\n",
              "        [ 3463294025112425097,  3463294025112425097],\n",
              "        [11725406641504895550, 11725406641504895550],\n",
              "        [ 8252754004962939749,  8252754004962939749],\n",
              "        [12551157471048882867, 12551157471048882867],\n",
              "        [16904431774934602393, 16904431774934602393],\n",
              "        [11879103259677323425, 11879103259677323425],\n",
              "        [ 8408478959403948780,  8408478959403948780],\n",
              "        [13834020114328158283, 13834020114328158283],\n",
              "        [ 7219923708107610680,  7219923708107610680],\n",
              "        [18194403294158934169, 18194403294158934169],\n",
              "        [14230547734572008840, 14230547734572008840],\n",
              "        [16230832592252198502, 16230832592252198502],\n",
              "        [ 5254170068570717719,  5254170068570717719],\n",
              "        [14559692112250829667, 14559692112250829667],\n",
              "        [10082476962731053571, 10082476962731053571],\n",
              "        [ 8408478959403948780,  8408478959403948780],\n",
              "        [11879103259677323425, 11879103259677323425],\n",
              "        [ 8408478959403948780,  8408478959403948780],\n",
              "        [ 1850165169495526638,  1850165169495526638],\n",
              "        [ 5655267008745519372,  5655267008745519372],\n",
              "        [14230547734572008840, 14230547734572008840],\n",
              "        [ 7241825760464785982,  7241825760464785982],\n",
              "        [12387449312114572634, 12387449312114572634],\n",
              "        [10416227920959946107, 10416227920959946107],\n",
              "        [ 4367231559174270559,  4367231559174270559],\n",
              "        [10883631001839233289, 10883631001839233289],\n",
              "        [ 5138615795664507941,  5138615795664507941],\n",
              "        [ 8958651151772419406,  8958651151772419406],\n",
              "        [11975063306099887683, 11975063306099887683],\n",
              "        [11951978104204800561, 11951978104204800561],\n",
              "        [ 3795763262651730744,  3795763262651730744],\n",
              "        [ 7806049552911728697,  7806049552911728697],\n",
              "        [11725406641504895550, 11725406641504895550],\n",
              "        [  629412985880580567,   629412985880580567],\n",
              "        [ 4334121688436847796,  4334121688436847796],\n",
              "        [ 9578519962507887044,  9578519962507887044],\n",
              "        [  123231636813812212,   123231636813812212],\n",
              "        [ 8595893401557982124,  8595893401557982124],\n",
              "        [10416227920959946107, 10416227920959946107],\n",
              "        [13146936069577937743, 13146936069577937743],\n",
              "        [ 5725767189373381356,  5725767189373381356],\n",
              "        [ 5655267008745519372,  5655267008745519372],\n",
              "        [ 7385916973434947153,  7385916973434947153],\n",
              "        [12051110497097078733, 12051110497097078733],\n",
              "        [15640555677054675906, 15640555677054675906],\n",
              "        [12406544744361347191, 12406544744361347191],\n",
              "        [16538212712135692552, 16538212712135692552],\n",
              "        [  629412985880580567,   629412985880580567],\n",
              "        [ 5655267008745519372,  5655267008745519372]], dtype=uint64)>, probability=<tf.Tensor: shape=(64, 2), dtype=float64, numpy=\n",
              " array([[0.01010101, 0.01010101],\n",
              "        [0.01010101, 0.01010101],\n",
              "        [0.01010101, 0.01010101],\n",
              "        [0.01010101, 0.01010101],\n",
              "        [0.01010101, 0.01010101],\n",
              "        [0.01010101, 0.01010101],\n",
              "        [0.01010101, 0.01010101],\n",
              "        [0.01010101, 0.01010101],\n",
              "        [0.01010101, 0.01010101],\n",
              "        [0.01010101, 0.01010101],\n",
              "        [0.01010101, 0.01010101],\n",
              "        [0.01010101, 0.01010101],\n",
              "        [0.01010101, 0.01010101],\n",
              "        [0.01010101, 0.01010101],\n",
              "        [0.01010101, 0.01010101],\n",
              "        [0.01010101, 0.01010101],\n",
              "        [0.01010101, 0.01010101],\n",
              "        [0.01010101, 0.01010101],\n",
              "        [0.01010101, 0.01010101],\n",
              "        [0.01010101, 0.01010101],\n",
              "        [0.01010101, 0.01010101],\n",
              "        [0.01010101, 0.01010101],\n",
              "        [0.01010101, 0.01010101],\n",
              "        [0.01010101, 0.01010101],\n",
              "        [0.01010101, 0.01010101],\n",
              "        [0.01010101, 0.01010101],\n",
              "        [0.01010101, 0.01010101],\n",
              "        [0.01010101, 0.01010101],\n",
              "        [0.01010101, 0.01010101],\n",
              "        [0.01010101, 0.01010101],\n",
              "        [0.01010101, 0.01010101],\n",
              "        [0.01010101, 0.01010101],\n",
              "        [0.01010101, 0.01010101],\n",
              "        [0.01010101, 0.01010101],\n",
              "        [0.01010101, 0.01010101],\n",
              "        [0.01010101, 0.01010101],\n",
              "        [0.01010101, 0.01010101],\n",
              "        [0.01010101, 0.01010101],\n",
              "        [0.01010101, 0.01010101],\n",
              "        [0.01010101, 0.01010101],\n",
              "        [0.01010101, 0.01010101],\n",
              "        [0.01010101, 0.01010101],\n",
              "        [0.01010101, 0.01010101],\n",
              "        [0.01010101, 0.01010101],\n",
              "        [0.01010101, 0.01010101],\n",
              "        [0.01010101, 0.01010101],\n",
              "        [0.01010101, 0.01010101],\n",
              "        [0.01010101, 0.01010101],\n",
              "        [0.01010101, 0.01010101],\n",
              "        [0.01010101, 0.01010101],\n",
              "        [0.01010101, 0.01010101],\n",
              "        [0.01010101, 0.01010101],\n",
              "        [0.01010101, 0.01010101],\n",
              "        [0.01010101, 0.01010101],\n",
              "        [0.01010101, 0.01010101],\n",
              "        [0.01010101, 0.01010101],\n",
              "        [0.01010101, 0.01010101],\n",
              "        [0.01010101, 0.01010101],\n",
              "        [0.01010101, 0.01010101],\n",
              "        [0.01010101, 0.01010101],\n",
              "        [0.01010101, 0.01010101],\n",
              "        [0.01010101, 0.01010101],\n",
              "        [0.01010101, 0.01010101],\n",
              "        [0.01010101, 0.01010101]])>, table_size=<tf.Tensor: shape=(64, 2), dtype=int64, numpy=\n",
              " array([[99, 99],\n",
              "        [99, 99],\n",
              "        [99, 99],\n",
              "        [99, 99],\n",
              "        [99, 99],\n",
              "        [99, 99],\n",
              "        [99, 99],\n",
              "        [99, 99],\n",
              "        [99, 99],\n",
              "        [99, 99],\n",
              "        [99, 99],\n",
              "        [99, 99],\n",
              "        [99, 99],\n",
              "        [99, 99],\n",
              "        [99, 99],\n",
              "        [99, 99],\n",
              "        [99, 99],\n",
              "        [99, 99],\n",
              "        [99, 99],\n",
              "        [99, 99],\n",
              "        [99, 99],\n",
              "        [99, 99],\n",
              "        [99, 99],\n",
              "        [99, 99],\n",
              "        [99, 99],\n",
              "        [99, 99],\n",
              "        [99, 99],\n",
              "        [99, 99],\n",
              "        [99, 99],\n",
              "        [99, 99],\n",
              "        [99, 99],\n",
              "        [99, 99],\n",
              "        [99, 99],\n",
              "        [99, 99],\n",
              "        [99, 99],\n",
              "        [99, 99],\n",
              "        [99, 99],\n",
              "        [99, 99],\n",
              "        [99, 99],\n",
              "        [99, 99],\n",
              "        [99, 99],\n",
              "        [99, 99],\n",
              "        [99, 99],\n",
              "        [99, 99],\n",
              "        [99, 99],\n",
              "        [99, 99],\n",
              "        [99, 99],\n",
              "        [99, 99],\n",
              "        [99, 99],\n",
              "        [99, 99],\n",
              "        [99, 99],\n",
              "        [99, 99],\n",
              "        [99, 99],\n",
              "        [99, 99],\n",
              "        [99, 99],\n",
              "        [99, 99],\n",
              "        [99, 99],\n",
              "        [99, 99],\n",
              "        [99, 99],\n",
              "        [99, 99],\n",
              "        [99, 99],\n",
              "        [99, 99],\n",
              "        [99, 99],\n",
              "        [99, 99]])>, priority=<tf.Tensor: shape=(64, 2), dtype=float64, numpy=\n",
              " array([[1., 1.],\n",
              "        [1., 1.],\n",
              "        [1., 1.],\n",
              "        [1., 1.],\n",
              "        [1., 1.],\n",
              "        [1., 1.],\n",
              "        [1., 1.],\n",
              "        [1., 1.],\n",
              "        [1., 1.],\n",
              "        [1., 1.],\n",
              "        [1., 1.],\n",
              "        [1., 1.],\n",
              "        [1., 1.],\n",
              "        [1., 1.],\n",
              "        [1., 1.],\n",
              "        [1., 1.],\n",
              "        [1., 1.],\n",
              "        [1., 1.],\n",
              "        [1., 1.],\n",
              "        [1., 1.],\n",
              "        [1., 1.],\n",
              "        [1., 1.],\n",
              "        [1., 1.],\n",
              "        [1., 1.],\n",
              "        [1., 1.],\n",
              "        [1., 1.],\n",
              "        [1., 1.],\n",
              "        [1., 1.],\n",
              "        [1., 1.],\n",
              "        [1., 1.],\n",
              "        [1., 1.],\n",
              "        [1., 1.],\n",
              "        [1., 1.],\n",
              "        [1., 1.],\n",
              "        [1., 1.],\n",
              "        [1., 1.],\n",
              "        [1., 1.],\n",
              "        [1., 1.],\n",
              "        [1., 1.],\n",
              "        [1., 1.],\n",
              "        [1., 1.],\n",
              "        [1., 1.],\n",
              "        [1., 1.],\n",
              "        [1., 1.],\n",
              "        [1., 1.],\n",
              "        [1., 1.],\n",
              "        [1., 1.],\n",
              "        [1., 1.],\n",
              "        [1., 1.],\n",
              "        [1., 1.],\n",
              "        [1., 1.],\n",
              "        [1., 1.],\n",
              "        [1., 1.],\n",
              "        [1., 1.],\n",
              "        [1., 1.],\n",
              "        [1., 1.],\n",
              "        [1., 1.],\n",
              "        [1., 1.],\n",
              "        [1., 1.],\n",
              "        [1., 1.],\n",
              "        [1., 1.],\n",
              "        [1., 1.],\n",
              "        [1., 1.],\n",
              "        [1., 1.]])>))"
            ]
          },
          "execution_count": 28,
          "metadata": {},
          "output_type": "execute_result"
        }
      ],
      "source": [
        "''' For the curious:\n",
        "Uncomment to see what the dataset iterator is feeding to the agent.\n",
        "Compare this representation of replay data \n",
        "to the collection of individual trajectories shown earlier. '''\n",
        "\n",
        "iterator.next()"
      ]
    },
    {
      "cell_type": "markdown",
      "metadata": {
        "id": "hBc9lj9VWWtZ"
      },
      "source": [
        "## Training the agent\n",
        "\n",
        "Two things must happen during the training loop:\n",
        "\n",
        "-   collect data from the environment\n",
        "-   use that data to train the agent's neural network(s)\n",
        "\n",
        "This example also periodicially evaluates the policy and prints the current score.\n",
        "\n",
        "The following will take ~5 minutes to run."
      ]
    },
    {
      "cell_type": "code",
      "execution_count": 30,
      "metadata": {
        "id": "0pTbJ3PeyF-u"
      },
      "outputs": [
        {
          "name": "stdout",
          "output_type": "stream",
          "text": [
            "WARNING:tensorflow:From /mnt/c/GitHub/Nachzeichner-KI/env/lib/python3.8/site-packages/tensorflow/python/util/dispatch.py:1082: calling foldr_v2 (from tensorflow.python.ops.functional_ops) with back_prop=False is deprecated and will be removed in a future version.\n",
            "Instructions for updating:\n",
            "back_prop=False is deprecated. Consider using tf.stop_gradient instead.\n",
            "Instead of:\n",
            "results = tf.foldr(fn, elems, back_prop=False)\n",
            "Use:\n",
            "results = tf.nest.map_structure(tf.stop_gradient, tf.foldr(fn, elems))\n"
          ]
        },
        {
          "name": "stderr",
          "output_type": "stream",
          "text": [
            "[reverb/cc/client.cc:165] Sampler and server are owned by the same process (4086) so Table uniform_table is accessed directly without gRPC.\n",
            "[reverb/cc/client.cc:165] Sampler and server are owned by the same process (4086) so Table uniform_table is accessed directly without gRPC.\n",
            "[reverb/cc/client.cc:165] Sampler and server are owned by the same process (4086) so Table uniform_table is accessed directly without gRPC.\n",
            "[reverb/cc/client.cc:165] Sampler and server are owned by the same process (4086) so Table uniform_table is accessed directly without gRPC.\n",
            "[reverb/cc/client.cc:165] Sampler and server are owned by the same process (4086) so Table uniform_table is accessed directly without gRPC.\n",
            "[reverb/cc/client.cc:165] Sampler and server are owned by the same process (4086) so Table uniform_table is accessed directly without gRPC.\n"
          ]
        },
        {
          "name": "stdout",
          "output_type": "stream",
          "text": [
            "step = 200: loss = 20.930742263793945\n",
            "step = 400: loss = 16.637977600097656\n",
            "step = 600: loss = 120.33296203613281\n",
            "step = 800: loss = 1458.197509765625\n",
            "step = 1000: loss = 830.6282958984375\n",
            "step = 1000: Average Return = 75.80000305175781\n",
            "step = 1200: loss = 235.9001922607422\n",
            "step = 1400: loss = 407.358154296875\n",
            "step = 1600: loss = 260.5356750488281\n",
            "step = 1800: loss = 25.138219833374023\n",
            "step = 2000: loss = 43.41864776611328\n",
            "step = 2000: Average Return = 158.1999969482422\n",
            "step = 2200: loss = 40.50736618041992\n",
            "step = 2400: loss = 131.99612426757812\n",
            "step = 2600: loss = 38.54769515991211\n",
            "step = 2800: loss = 65.49908447265625\n",
            "step = 3000: loss = 231.9725341796875\n",
            "step = 3000: Average Return = 193.60000610351562\n",
            "step = 3200: loss = 80.83618927001953\n",
            "step = 3400: loss = 182.93226623535156\n",
            "step = 3600: loss = 192.47283935546875\n",
            "step = 3800: loss = 103.71965789794922\n",
            "step = 4000: loss = 136.57923889160156\n",
            "step = 4000: Average Return = 197.10000610351562\n",
            "step = 4200: loss = 97.36099243164062\n",
            "step = 4400: loss = 89.43260192871094\n",
            "step = 4600: loss = 124.2993392944336\n",
            "step = 4800: loss = 75.31778717041016\n",
            "step = 5000: loss = 109.42698669433594\n",
            "step = 5000: Average Return = 195.5\n",
            "step = 5200: loss = 65.38814544677734\n",
            "step = 5400: loss = 2127.66162109375\n",
            "step = 5600: loss = 54.23896026611328\n",
            "step = 5800: loss = 37.90657043457031\n",
            "step = 6000: loss = 789.0499267578125\n",
            "step = 6000: Average Return = 200.0\n",
            "step = 6200: loss = 988.27685546875\n",
            "step = 6400: loss = 38608.71484375\n",
            "step = 6600: loss = 12678.841796875\n",
            "step = 6800: loss = 5391.0888671875\n",
            "step = 7000: loss = 2037.253173828125\n",
            "step = 7000: Average Return = 200.0\n",
            "step = 7200: loss = 8772.3974609375\n",
            "step = 7400: loss = 1240.539794921875\n",
            "step = 7600: loss = 1299.1265869140625\n",
            "step = 7800: loss = 649.423583984375\n",
            "step = 8000: loss = 399.4759521484375\n",
            "step = 8000: Average Return = 200.0\n",
            "step = 8200: loss = 406.93310546875\n",
            "step = 8400: loss = 295.2862243652344\n",
            "step = 8600: loss = 201.32000732421875\n",
            "step = 8800: loss = 314.7017822265625\n",
            "step = 9000: loss = 7574.6435546875\n",
            "step = 9000: Average Return = 200.0\n",
            "step = 9200: loss = 227.80624389648438\n",
            "step = 9400: loss = 174.84329223632812\n",
            "step = 9600: loss = 102.54130554199219\n",
            "step = 9800: loss = 88.97049713134766\n",
            "step = 10000: loss = 127.347900390625\n",
            "step = 10000: Average Return = 200.0\n",
            "step = 10200: loss = 309.7091064453125\n",
            "step = 10400: loss = 551.08056640625\n",
            "step = 10600: loss = 580.2142944335938\n",
            "step = 10800: loss = 193.89047241210938\n",
            "step = 11000: loss = 236.24957275390625\n",
            "step = 11000: Average Return = 200.0\n",
            "step = 11200: loss = 332.039794921875\n",
            "step = 11400: loss = 426.86505126953125\n",
            "step = 11600: loss = 18021.970703125\n",
            "step = 11800: loss = 9733.271484375\n",
            "step = 12000: loss = 15635.55078125\n",
            "step = 12000: Average Return = 200.0\n",
            "step = 12200: loss = 15424.8671875\n",
            "step = 12400: loss = 10549.3720703125\n",
            "step = 12600: loss = 9402.095703125\n",
            "step = 12800: loss = 8896.970703125\n",
            "step = 13000: loss = 5753.21435546875\n",
            "step = 13000: Average Return = 200.0\n",
            "step = 13200: loss = 3742.20751953125\n",
            "step = 13400: loss = 9574.5390625\n",
            "step = 13600: loss = 9772.173828125\n",
            "step = 13800: loss = 6452.21875\n",
            "step = 14000: loss = 3785.64013671875\n",
            "step = 14000: Average Return = 200.0\n",
            "step = 14200: loss = 5128.74560546875\n",
            "step = 14400: loss = 99545.2734375\n",
            "step = 14600: loss = 85048.515625\n",
            "step = 14800: loss = 32191.392578125\n",
            "step = 15000: loss = 8777.0439453125\n",
            "step = 15000: Average Return = 143.6999969482422\n",
            "step = 15200: loss = 3770.275390625\n",
            "step = 15400: loss = 3345.99267578125\n",
            "step = 15600: loss = 3190.53515625\n",
            "step = 15800: loss = 9034.4384765625\n",
            "step = 16000: loss = 2151.35107421875\n",
            "step = 16000: Average Return = 187.3000030517578\n",
            "step = 16200: loss = 3137.612548828125\n",
            "step = 16400: loss = 1600.012939453125\n",
            "step = 16600: loss = 2082.97265625\n",
            "step = 16800: loss = 9597.45703125\n",
            "step = 17000: loss = 598.7293090820312\n",
            "step = 17000: Average Return = 200.0\n",
            "step = 17200: loss = 1145.69921875\n",
            "step = 17400: loss = 1367.14208984375\n",
            "step = 17600: loss = 457.4559326171875\n",
            "step = 17800: loss = 683.5669555664062\n",
            "step = 18000: loss = 886.7030029296875\n",
            "step = 18000: Average Return = 200.0\n",
            "step = 18200: loss = 222.80270385742188\n",
            "step = 18400: loss = 449.1630554199219\n",
            "step = 18600: loss = 221.13116455078125\n",
            "step = 18800: loss = 936.6820068359375\n",
            "step = 19000: loss = 322.54144287109375\n",
            "step = 19000: Average Return = 200.0\n",
            "step = 19200: loss = 97.1376953125\n",
            "step = 19400: loss = 127.5685043334961\n",
            "step = 19600: loss = 1264.2354736328125\n",
            "step = 19800: loss = 185.52439880371094\n",
            "step = 20000: loss = 279.9830017089844\n",
            "step = 20000: Average Return = 200.0\n"
          ]
        }
      ],
      "source": [
        "#@test {\"skip\": true}\n",
        "try:\n",
        "  %%time\n",
        "except:\n",
        "  pass\n",
        "\n",
        "# (Optional) Optimize by wrapping some of the code in a graph using TF function.\n",
        "agent.train = common.function(agent.train)\n",
        "\n",
        "# Reset the train step.\n",
        "agent.train_step_counter.assign(0)\n",
        "\n",
        "# Evaluate the agent's policy once before training.\n",
        "avg_return = compute_avg_return(eval_env, agent.policy, num_eval_episodes)\n",
        "returns = [avg_return]\n",
        "\n",
        "# Reset the environment.\n",
        "time_step = train_py_env.reset()\n",
        "\n",
        "# Create a driver to collect experience.\n",
        "collect_driver = py_driver.PyDriver(\n",
        "    env,\n",
        "    py_tf_eager_policy.PyTFEagerPolicy(\n",
        "      agent.collect_policy, use_tf_function=True),\n",
        "    [rb_observer],\n",
        "    max_steps=collect_steps_per_iteration)\n",
        "\n",
        "for _ in range(num_iterations):\n",
        "\n",
        "  # Collect a few steps and save to the replay buffer.\n",
        "  time_step, _ = collect_driver.run(time_step)\n",
        "\n",
        "  # Sample a batch of data from the buffer and update the agent's network.\n",
        "  experience, unused_info = next(iterator)\n",
        "  train_loss = agent.train(experience).loss\n",
        "\n",
        "  step = agent.train_step_counter.numpy()\n",
        "\n",
        "  if step % log_interval == 0:\n",
        "    print('step = {0}: loss = {1}'.format(step, train_loss))\n",
        "\n",
        "  if step % eval_interval == 0:\n",
        "    avg_return = compute_avg_return(eval_env, agent.policy, num_eval_episodes)\n",
        "    print('step = {0}: Average Return = {1}'.format(step, avg_return))\n",
        "    returns.append(avg_return)"
      ]
    },
    {
      "cell_type": "markdown",
      "metadata": {
        "id": "68jNcA_TiJDq"
      },
      "source": [
        "## Visualization\n"
      ]
    },
    {
      "cell_type": "markdown",
      "metadata": {
        "id": "aO-LWCdbbOIC"
      },
      "source": [
        "### Plots\n",
        "\n",
        "Use `matplotlib.pyplot` to chart how the policy improved during training.\n",
        "\n",
        "One iteration of `Cartpole-v0` consists of 200 time steps. The environment gives a reward of `+1` for each step the pole stays up, so the maximum return for one episode is 200. The charts shows the return increasing towards that maximum each time it is evaluated during training. (It may be a little unstable and not increase monotonically each time.)"
      ]
    },
    {
      "cell_type": "code",
      "execution_count": null,
      "metadata": {
        "id": "NxtL1mbOYCVO"
      },
      "outputs": [],
      "source": [
        "#@test {\"skip\": true}\n",
        "\n",
        "iterations = range(0, num_iterations + 1, eval_interval)\n",
        "plt.plot(iterations, returns)\n",
        "plt.ylabel('Average Return')\n",
        "plt.xlabel('Iterations')\n",
        "plt.ylim(top=250)"
      ]
    },
    {
      "cell_type": "markdown",
      "metadata": {
        "id": "M7-XpPP99Cy7"
      },
      "source": [
        "### Videos"
      ]
    },
    {
      "cell_type": "markdown",
      "metadata": {
        "id": "9pGfGxSH32gn"
      },
      "source": [
        "Charts are nice. But more exciting is seeing an agent actually performing a task in an environment. \n",
        "\n",
        "First, create a function to embed videos in the notebook."
      ]
    },
    {
      "cell_type": "code",
      "execution_count": null,
      "metadata": {
        "id": "ULaGr8pvOKbl"
      },
      "outputs": [],
      "source": [
        "def embed_mp4(filename):\n",
        "  \"\"\"Embeds an mp4 file in the notebook.\"\"\"\n",
        "  video = open(filename,'rb').read()\n",
        "  b64 = base64.b64encode(video)\n",
        "  tag = '''\n",
        "  <video width=\"640\" height=\"480\" controls>\n",
        "    <source src=\"data:video/mp4;base64,{0}\" type=\"video/mp4\">\n",
        "  Your browser does not support the video tag.\n",
        "  </video>'''.format(b64.decode())\n",
        "\n",
        "  return IPython.display.HTML(tag)"
      ]
    },
    {
      "cell_type": "markdown",
      "metadata": {
        "id": "9c_PH-pX4Pr5"
      },
      "source": [
        "Now iterate through a few episodes of the Cartpole game with the agent. The underlying Python environment (the one \"inside\" the TensorFlow environment wrapper) provides a `render()` method, which outputs an image of the environment state. These can be collected into a video."
      ]
    },
    {
      "cell_type": "code",
      "execution_count": null,
      "metadata": {
        "id": "owOVWB158NlF"
      },
      "outputs": [],
      "source": [
        "def create_policy_eval_video(policy, filename, num_episodes=5, fps=30):\n",
        "  filename = filename + \".mp4\"\n",
        "  with imageio.get_writer(filename, fps=fps) as video:\n",
        "    for _ in range(num_episodes):\n",
        "      time_step = eval_env.reset()\n",
        "      video.append_data(eval_py_env.render())\n",
        "      while not time_step.is_last():\n",
        "        action_step = policy.action(time_step)\n",
        "        time_step = eval_env.step(action_step.action)\n",
        "        video.append_data(eval_py_env.render())\n",
        "  return embed_mp4(filename)\n",
        "\n",
        "create_policy_eval_video(agent.policy, \"trained-agent\")"
      ]
    },
    {
      "cell_type": "markdown",
      "metadata": {
        "id": "povaAOcZygLw"
      },
      "source": [
        "For fun, compare the trained agent (above) to an agent moving randomly. (It does not do as well.)"
      ]
    },
    {
      "cell_type": "code",
      "execution_count": null,
      "metadata": {
        "id": "pJZIdC37yNH4"
      },
      "outputs": [],
      "source": [
        "create_policy_eval_video(random_policy, \"random-agent\")"
      ]
    }
  ],
  "metadata": {
    "colab": {
      "collapsed_sections": [],
      "name": "DQN Tutorial.ipynb",
      "private_outputs": true,
      "provenance": [],
      "toc_visible": true
    },
    "kernelspec": {
      "display_name": "Python 3",
      "language": "python",
      "name": "python3"
    },
    "language_info": {
      "codemirror_mode": {
        "name": "ipython",
        "version": 3
      },
      "file_extension": ".py",
      "mimetype": "text/x-python",
      "name": "python",
      "nbconvert_exporter": "python",
      "pygments_lexer": "ipython3",
      "version": "3.8.10"
    },
    "pycharm": {
      "stem_cell": {
        "cell_type": "raw",
        "metadata": {
          "collapsed": false
        },
        "source": []
      }
    }
  },
  "nbformat": 4,
  "nbformat_minor": 0
}
