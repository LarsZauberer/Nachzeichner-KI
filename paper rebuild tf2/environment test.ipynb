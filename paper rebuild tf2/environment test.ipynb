{
 "cells": [
  {
   "cell_type": "code",
   "execution_count": 3,
   "metadata": {},
   "outputs": [
    {
     "name": "stdout",
     "output_type": "stream",
     "text": [
      "-0.3153061224489796\n"
     ]
    },
    {
     "data": {
      "text/plain": [
       "<matplotlib.image.AxesImage at 0x2396a637f40>"
      ]
     },
     "execution_count": 3,
     "metadata": {},
     "output_type": "execute_result"
    },
    {
     "data": {
      "image/png": "[encoded data removed]",
      "text/plain": [
       "<Figure size 504x504 with 1 Axes>"
      ]
     },
     "metadata": {
      "needs_background": "light"
     },
     "output_type": "display_data"
    }
   ],
   "source": [
    "import numpy as np\n",
    "import pandas as pd\n",
    "import matplotlib.pyplot as plt\n",
    "\n",
    "from environment import ShapeDraw, drawline\n",
    "\n",
    "ref_Data = pd.read_csv(\"C:/Users/robin/OneDrive/Desktop/Maturarbeit/Nachzeichner-KI/paper rebuild/ref_Data.csv\")\n",
    "ref_Data = ref_Data.drop('Unnamed: 0', axis=1)\n",
    "train_ind = np.random.choice(ref_Data.shape[1], 3000)\n",
    "reference = []\n",
    "for i in train_ind:\n",
    "    reference.append(ref_Data.iloc[i].to_numpy().reshape(28,28))\n",
    "\n",
    "\n",
    "\n",
    "env = ShapeDraw(28,7,reference)\n",
    "plt.figure(figsize=(7,7))\n",
    "plt.imshow(env.canvas, interpolation='none', cmap='gray')\n",
    "\n",
    "#print(env.canvas_patch)\n",
    "\n",
    "g, l, rew = env.step(30)\n",
    "\n",
    "print(rew)\n",
    "#print(l[1])\n",
    "\n",
    "plt.imshow(env.canvas, interpolation='none', cmap='gray')\n",
    "\n",
    "#print(rew)"
   ]
  }
 ],
 "metadata": {
  "interpreter": {
   "hash": "d9a4ba7a39ad5692da286452aea182a2f639774b342ad6371c4f013f8b98072d"
  },
  "kernelspec": {
   "display_name": "Python 3.10.4 64-bit",
   "language": "python",
   "name": "python3"
  },
  "language_info": {
   "codemirror_mode": {
    "name": "ipython",
    "version": 3
   },
   "file_extension": ".py",
   "mimetype": "text/x-python",
   "name": "python",
   "nbconvert_exporter": "python",
   "pygments_lexer": "ipython3",
   "version": "3.10.4"
  },
  "orig_nbformat": 4
 },
 "nbformat": 4,
 "nbformat_minor": 2
}
