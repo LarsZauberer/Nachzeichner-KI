{
 "cells": [
  {
   "cell_type": "code",
   "execution_count": null,
   "metadata": {},
   "outputs": [],
   "source": [
    "import os\n",
    "import math as ma\n",
    "import numpy as np\n",
    "import tensorflow as tf\n",
    "\n",
    "import environment\n",
    "import nn_agent"
   ]
  },
  {
   "cell_type": "code",
   "execution_count": null,
   "metadata": {},
   "outputs": [],
   "source": []
  },
  {
   "cell_type": "code",
   "execution_count": null,
   "metadata": {},
   "outputs": [],
   "source": []
  },
  {
   "cell_type": "code",
   "execution_count": null,
   "metadata": {},
   "outputs": [],
   "source": []
  },
  {
   "cell_type": "code",
   "execution_count": null,
   "metadata": {},
   "outputs": [],
   "source": [
    "if __name__ == \"__main__\":\n",
    "\n",
    "    \"\"\"\n",
    "    ToDo:\n",
    "        - load training data\n",
    "        - convert to bitmap?\n",
    "        - shuffle training data\n",
    "        - \n",
    "    \"\"\" \n",
    "\n",
    "    env = ShapeDraw(84,84,[5,5])\n",
    "    agent = Agent(1,2,3,env.n_actions)\n",
    "\n",
    "    num_Episodes = 50000\n",
    "    num_Steps = 300\n",
    "\n",
    "\n",
    "    scores = []\n",
    "\n",
    "    for i in range(num_Episodes):\n",
    "        score = 0\n",
    "\n",
    "        reference, canvas, distmap, colmap, ref_patch, canvas_patch = env.reset()\n",
    "        for _ in range(num_Steps):\n",
    "            action = agent.chooseAction()\n",
    "            reference, canvas, distmap, colmap, ref_patch, canvas_patch, reward = env.step(action)\n",
    "            \n",
    "            score += reward\n",
    "            agent.learn(reference, canvas, distmap, colmap, ref_patch, canvas_patch, reward)\n",
    "\n",
    "       \n",
    "\n",
    "        # Learning Process numbers\n",
    "        if i % 10 == 0 and i > 0:\n",
    "            avg_score = np.mean(scores[max(0, i-12):(i+1)])\n",
    "            print('episode: ', i,'score: ', score,' average score %.3f' % avg_score, 'epsilon %.3f' % agent.epsilon)\n",
    "            agent.save_model()\n",
    "        else:\n",
    "            print('episode: ', i,'score: ', score)\n",
    "        \n",
    "        scores.append(score)"
   ]
  }
 ],
 "metadata": {
  "language_info": {
   "name": "python"
  },
  "orig_nbformat": 4
 },
 "nbformat": 4,
 "nbformat_minor": 2
}
