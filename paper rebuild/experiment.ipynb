{
 "cells": [
  {
   "cell_type": "code",
   "execution_count": 26,
   "metadata": {},
   "outputs": [],
   "source": [
    "import tensorflow as tf\n",
    "import numpy as np\n",
    "\n",
    "from keras.layers import Conv2D\n",
    "from keras import Model, Sequential"
   ]
  },
  {
   "cell_type": "code",
   "execution_count": 27,
   "metadata": {},
   "outputs": [
    {
     "data": {
      "text/plain": [
       "<tf.Tensor: shape=(1, 4, 3, 3), dtype=float32, numpy=\n",
       "array([[[[-0.24598129,  1.7733613 ,  0.52840036],\n",
       "         [-1.6848425 , -0.39541468,  0.94612634],\n",
       "         [ 0.02833155,  0.78498316,  0.00956134]],\n",
       "\n",
       "        [[ 0.81568474,  2.2247176 ,  0.50566477],\n",
       "         [-0.45887318, -1.3251251 ,  0.563656  ],\n",
       "         [-0.42146704, -0.15216543, -0.7614754 ]],\n",
       "\n",
       "        [[ 0.9322777 ,  1.2336996 ,  0.8780712 ],\n",
       "         [ 0.06405106, -0.07501785, -0.6313727 ],\n",
       "         [-0.7100054 , -0.87229365,  0.7717652 ]],\n",
       "\n",
       "        [[ 0.8471736 , -0.81116426, -0.53608674],\n",
       "         [ 1.5254331 , -1.116241  ,  0.46301606],\n",
       "         [-1.1061062 ,  1.3173728 ,  0.85378504]]]], dtype=float32)>"
      ]
     },
     "execution_count": 27,
     "metadata": {},
     "output_type": "execute_result"
    }
   ],
   "source": [
    "input_shape = (1, 4, 3, 3)\n",
    "x = tf.random.normal(input_shape)\n",
    "\n",
    "x"
   ]
  },
  {
   "cell_type": "code",
   "execution_count": 28,
   "metadata": {},
   "outputs": [
    {
     "name": "stdout",
     "output_type": "stream",
     "text": [
      "[8 8 4]\n",
      "[1 3 5]\n",
      "[1 2]\n",
      "0.0\n"
     ]
    }
   ],
   "source": [
    "arr = np.array([1,2,3,4,5,6,7])\n",
    "\n",
    "print(np.random.choice(25,3))\n",
    "\n",
    "print(arr[[0,2,4]])\n",
    "\n",
    "print(np.dot([[1,0,0],[0,1,0]], [1,2,3]))\n",
    "\n",
    "arr2 = np.zeros((5,5))\n",
    "print(arr2[1,2])\n"
   ]
  },
  {
   "cell_type": "code",
   "execution_count": 225,
   "metadata": {},
   "outputs": [
    {
     "name": "stdout",
     "output_type": "stream",
     "text": [
      "[[[1 2]\n",
      "  [3 4]]\n",
      "\n",
      " [[1 2]\n",
      "  [3 4]]]\n",
      "[[[1 2]\n",
      "  [3 4]]\n",
      "\n",
      " [[1 2]\n",
      "  [3 4]]]\n"
     ]
    }
   ],
   "source": [
    "from keras import Sequential, Model\n",
    "from keras.layers import Embedding, GlobalAveragePooling1D, Dense, concatenate, Input\n",
    "import numpy as np\n",
    "\n",
    "input1 = Input( shape=(2), batch_size=2)\n",
    "out = Dense(1, activation='relu', name='output_layer')(input1)\n",
    "model = Model(inputs = [input1], outputs = [out])\n",
    "\n",
    "\n",
    "i1 = np.array([[[1,2],[3,4]], [[1,2],[3,4]]])\n",
    "print(i1)\n",
    "\n",
    "i1 =   np.array([np.array([[1,2],[3,4]]), np.array([[1,2],[3,4]])])\n",
    "print(i1)\n",
    "\n",
    "\n"
   ]
  },
  {
   "cell_type": "code",
   "execution_count": 223,
   "metadata": {},
   "outputs": [
    {
     "name": "stdout",
     "output_type": "stream",
     "text": [
      "[[[1.5293598]\n",
      "  [2.159252 ]]\n",
      "\n",
      " [[1.5293598]\n",
      "  [2.159252 ]]]\n",
      "1111111111\n",
      "[[[1.5293598]\n",
      "  [2.159252 ]]\n",
      "\n",
      " [[0.       ]\n",
      "  [4.857655 ]]]\n"
     ]
    }
   ],
   "source": [
    "from keras import Sequential, Model\n",
    "from keras.layers import Embedding, GlobalAveragePooling1D, Dense, concatenate, Input\n",
    "import numpy as np\n",
    "\n",
    "input1 = Input( shape=(2,2), batch_size=2)\n",
    "out = Dense(1, activation='relu', name='output_layer')(input1)\n",
    "model = Model(inputs = [input1], outputs = [out])\n",
    "\n",
    "\n",
    "\n",
    "\n",
    "i1 = np.array([[[1,2],[3,4]], [[1,2],[3,4]]])\n",
    "\n",
    "\n",
    "print(model.predict([i1]))\n",
    "\n",
    "print(1111111111)\n",
    "\n",
    "i1[1][0][0] = 0\n",
    "i1[1][0][1] = 0\n",
    "i1[1][1][0] = 0\n",
    "i1[1][0][1] = 0\n",
    "   \n",
    "print(model.predict([i1]))\n",
    "\n",
    "\n",
    "\n",
    "\n",
    "\n",
    "\n"
   ]
  },
  {
   "cell_type": "code",
   "execution_count": 72,
   "metadata": {},
   "outputs": [
    {
     "ename": "IndentationError",
     "evalue": "unexpected indent (3754612277.py, line 3)",
     "output_type": "error",
     "traceback": [
      "\u001b[1;36m  Input \u001b[1;32mIn [72]\u001b[1;36m\u001b[0m\n\u001b[1;33m    early_stopping = EarlyStopping(monitor=\"val_loss\", patience=5)\u001b[0m\n\u001b[1;37m    ^\u001b[0m\n\u001b[1;31mIndentationError\u001b[0m\u001b[1;31m:\u001b[0m unexpected indent\n"
     ]
    }
   ],
   "source": [
    "checkpoint = ModelCheckpoint('nn_memory/weights.h5', monitor='val_acc',\n",
    "        save_best_only=True, verbose=2)\n",
    "        early_stopping = EarlyStopping(monitor=\"val_loss\", patience=5)"
   ]
  },
  {
   "cell_type": "code",
   "execution_count": 6,
   "metadata": {},
   "outputs": [
    {
     "data": {
      "text/plain": [
       "0"
      ]
     },
     "execution_count": 6,
     "metadata": {},
     "output_type": "execute_result"
    }
   ],
   "source": [
    "\n"
   ]
  }
 ],
 "metadata": {
  "interpreter": {
   "hash": "0651f370659645bb6cd19d170e35302cd21059c9abb7bd47b646f6fe69c99e8e"
  },
  "kernelspec": {
   "display_name": "Python 3.10.4 64-bit (windows store)",
   "language": "python",
   "name": "python3"
  },
  "language_info": {
   "codemirror_mode": {
    "name": "ipython",
    "version": 3
   },
   "file_extension": ".py",
   "mimetype": "text/x-python",
   "name": "python",
   "nbconvert_exporter": "python",
   "pygments_lexer": "ipython3",
   "version": "3.10.4"
  },
  "orig_nbformat": 4
 },
 "nbformat": 4,
 "nbformat_minor": 2
}
