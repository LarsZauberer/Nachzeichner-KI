{
 "cells": [
  {
   "cell_type": "code",
   "execution_count": 48,
   "metadata": {},
   "outputs": [],
   "source": [
    "import numpy as np\n",
    "import tensorflow as tf\n",
    "import matplotlib.pyplot as plt\n",
    "from keras.models import model_from_json\n",
    "import json"
   ]
  },
  {
   "cell_type": "code",
   "execution_count": 49,
   "metadata": {},
   "outputs": [],
   "source": [
    "json_file = open('../../models/emnist_model/model.json', 'r')\n",
    "loaded_model_json = json_file.read()\n",
    "json_file.close()\n",
    "model = model_from_json(loaded_model_json)\n",
    "model.load_weights('../../models/emnist_model/model.h5')"
   ]
  },
  {
   "cell_type": "code",
   "execution_count": 50,
   "metadata": {},
   "outputs": [],
   "source": [
    "path = \"emnist_test_data.json\"\n",
    "sorted_data = [] \n",
    "with open(path, \"r\") as f:\n",
    "    sorted_data = json.load(f)\n",
    "data = sorted_data"
   ]
  },
  {
   "cell_type": "code",
   "execution_count": 51,
   "metadata": {},
   "outputs": [
    {
     "data": {
      "text/plain": [
       "(26, 10, 784)"
      ]
     },
     "execution_count": 51,
     "metadata": {},
     "output_type": "execute_result"
    }
   ],
   "source": [
    "size_of_data = 10\n",
    "classes = 26\n",
    "\n",
    "new_data = np.array([])\n",
    "ref = np.array([])\n",
    "for index, item in enumerate(data):\n",
    "    tmp = np.array(item)\n",
    "    tmp = tmp[:size_of_data]\n",
    "    new_data = np.append(new_data, tmp)\n",
    "    ref = np.append(ref, np.full(size_of_data, index))\n",
    "data = new_data.reshape(classes, size_of_data, 784)\n",
    "data.shape"
   ]
  },
  {
   "cell_type": "code",
   "execution_count": 52,
   "metadata": {},
   "outputs": [
    {
     "data": {
      "text/plain": [
       "(260,)"
      ]
     },
     "execution_count": 52,
     "metadata": {},
     "output_type": "execute_result"
    }
   ],
   "source": [
    "ref.shape"
   ]
  },
  {
   "cell_type": "code",
   "execution_count": 53,
   "metadata": {},
   "outputs": [
    {
     "data": {
      "text/plain": [
       "(260, 784)"
      ]
     },
     "execution_count": 53,
     "metadata": {},
     "output_type": "execute_result"
    }
   ],
   "source": [
    "data = data.reshape(classes*size_of_data, 784)\n",
    "data.shape"
   ]
  },
  {
   "cell_type": "code",
   "execution_count": 54,
   "metadata": {},
   "outputs": [
    {
     "name": "stderr",
     "output_type": "stream",
     "text": [
      "2022-10-07 13:01:49.526989: I tensorflow/stream_executor/cuda/cuda_dnn.cc:384] Loaded cuDNN version 8500\n",
      "2022-10-07 13:01:50.173189: I tensorflow/stream_executor/cuda/cuda_blas.cc:1786] TensorFloat-32 will be used for the matrix multiplication. This will only be logged once.\n"
     ]
    }
   ],
   "source": [
    "out = model(data)"
   ]
  },
  {
   "cell_type": "code",
   "execution_count": 63,
   "metadata": {},
   "outputs": [
    {
     "data": {
      "text/plain": [
       "TensorShape([260, 62])"
      ]
     },
     "execution_count": 63,
     "metadata": {},
     "output_type": "execute_result"
    }
   ],
   "source": [
    "out.shape"
   ]
  },
  {
   "cell_type": "code",
   "execution_count": 59,
   "metadata": {},
   "outputs": [],
   "source": [
    "predicts = []\n",
    "for i in out:\n",
    "    predicts.append(np.argmax(i))"
   ]
  },
  {
   "cell_type": "code",
   "execution_count": 60,
   "metadata": {},
   "outputs": [
    {
     "data": {
      "text/plain": [
       "(260,)"
      ]
     },
     "execution_count": 60,
     "metadata": {},
     "output_type": "execute_result"
    }
   ],
   "source": [
    "predicts = np.array(predicts)\n",
    "predicts.shape"
   ]
  },
  {
   "cell_type": "code",
   "execution_count": 61,
   "metadata": {},
   "outputs": [
    {
     "data": {
      "text/plain": [
       "array([26, 26, 26, 52, 30, 11, 16,  8, 26, 26, 11, 32,  8, 39, 10, 39, 26,\n",
       "       11, 13, 52, 26, 22, 26,  9, 26,  9, 22, 26, 26, 22, 11, 13,  2, 11,\n",
       "       54, 26, 13, 39,  0, 26, 26, 26, 49, 26, 10, 42, 22,  9, 10, 22, 10,\n",
       "       17, 10, 10, 22, 22, 10, 10, 25, 25, 26, 26, 52, 10, 25, 24, 26, 39,\n",
       "       48, 52, 55, 10, 29, 15, 42, 59, 27, 18, 15, 15, 48, 25, 48, 48, 48,\n",
       "       36, 48, 10, 25, 36, 25,  2, 32,  2, 32,  2, 17, 25, 25,  2, 10, 43,\n",
       "       15, 33, 27, 29, 10, 33, 10, 27,  2,  7, 22, 48,  7, 55, 55, 48,  8,\n",
       "       39, 52, 14, 14, 52, 52, 52, 46, 18, 35, 14,  3, 28, 16, 28, 28, 42,\n",
       "        8,  3, 28, 28, 26, 25, 26, 26, 24, 24, 24, 26, 26, 26, 36, 52, 32,\n",
       "        8,  8, 52, 53, 11, 52,  0, 22, 31, 11, 32, 42, 26, 22, 26, 26, 26,\n",
       "       52, 26, 11, 16, 10, 10, 10,  8, 25, 16, 22, 22, 22, 23, 23, 23, 22,\n",
       "       23, 23, 25, 34, 34, 22, 34, 43, 17, 25, 53, 25, 25,  2,  7,  7,  2,\n",
       "        2,  2,  2,  2,  2,  2,  2,  7, 42,  2,  2,  2,  2,  7,  7, 13, 28,\n",
       "        3,  3,  3,  3,  3,  3,  3,  3, 42, 33, 10,  2, 33, 43, 33, 33, 59,\n",
       "       33, 33, 32, 25, 60,  2,  2, 22, 34, 34, 15, 32, 22, 22, 17,  4, 34,\n",
       "        4, 22, 22, 22, 22])"
      ]
     },
     "execution_count": 61,
     "metadata": {},
     "output_type": "execute_result"
    }
   ],
   "source": [
    "predicts"
   ]
  },
  {
   "cell_type": "code",
   "execution_count": 62,
   "metadata": {},
   "outputs": [
    {
     "data": {
      "text/plain": [
       "array([ 0.,  0.,  0.,  0.,  0.,  0.,  0.,  0.,  0.,  0.,  1.,  1.,  1.,\n",
       "        1.,  1.,  1.,  1.,  1.,  1.,  1.,  2.,  2.,  2.,  2.,  2.,  2.,\n",
       "        2.,  2.,  2.,  2.,  3.,  3.,  3.,  3.,  3.,  3.,  3.,  3.,  3.,\n",
       "        3.,  4.,  4.,  4.,  4.,  4.,  4.,  4.,  4.,  4.,  4.,  5.,  5.,\n",
       "        5.,  5.,  5.,  5.,  5.,  5.,  5.,  5.,  6.,  6.,  6.,  6.,  6.,\n",
       "        6.,  6.,  6.,  6.,  6.,  7.,  7.,  7.,  7.,  7.,  7.,  7.,  7.,\n",
       "        7.,  7.,  8.,  8.,  8.,  8.,  8.,  8.,  8.,  8.,  8.,  8.,  9.,\n",
       "        9.,  9.,  9.,  9.,  9.,  9.,  9.,  9.,  9., 10., 10., 10., 10.,\n",
       "       10., 10., 10., 10., 10., 10., 11., 11., 11., 11., 11., 11., 11.,\n",
       "       11., 11., 11., 12., 12., 12., 12., 12., 12., 12., 12., 12., 12.,\n",
       "       13., 13., 13., 13., 13., 13., 13., 13., 13., 13., 14., 14., 14.,\n",
       "       14., 14., 14., 14., 14., 14., 14., 15., 15., 15., 15., 15., 15.,\n",
       "       15., 15., 15., 15., 16., 16., 16., 16., 16., 16., 16., 16., 16.,\n",
       "       16., 17., 17., 17., 17., 17., 17., 17., 17., 17., 17., 18., 18.,\n",
       "       18., 18., 18., 18., 18., 18., 18., 18., 19., 19., 19., 19., 19.,\n",
       "       19., 19., 19., 19., 19., 20., 20., 20., 20., 20., 20., 20., 20.,\n",
       "       20., 20., 21., 21., 21., 21., 21., 21., 21., 21., 21., 21., 22.,\n",
       "       22., 22., 22., 22., 22., 22., 22., 22., 22., 23., 23., 23., 23.,\n",
       "       23., 23., 23., 23., 23., 23., 24., 24., 24., 24., 24., 24., 24.,\n",
       "       24., 24., 24., 25., 25., 25., 25., 25., 25., 25., 25., 25., 25.])"
      ]
     },
     "execution_count": 62,
     "metadata": {},
     "output_type": "execute_result"
    }
   ],
   "source": [
    "ref"
   ]
  },
  {
   "cell_type": "code",
   "execution_count": null,
   "metadata": {},
   "outputs": [],
   "source": []
  }
 ],
 "metadata": {
  "kernelspec": {
   "display_name": "Python 3.10.7 ('env': venv)",
   "language": "python",
   "name": "python3"
  },
  "language_info": {
   "codemirror_mode": {
    "name": "ipython",
    "version": 3
   },
   "file_extension": ".py",
   "mimetype": "text/x-python",
   "name": "python",
   "nbconvert_exporter": "python",
   "pygments_lexer": "ipython3",
   "version": "3.10.7"
  },
  "orig_nbformat": 4,
  "vscode": {
   "interpreter": {
    "hash": "1c8768d61bcdb8f49f9c8e9c19e954afdb591dd48a13c45a92b7904f3a5916fa"
   }
  }
 },
 "nbformat": 4,
 "nbformat_minor": 2
}
